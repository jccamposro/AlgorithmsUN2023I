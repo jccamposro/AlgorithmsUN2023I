{
  "nbformat": 4,
  "nbformat_minor": 0,
  "metadata": {
    "colab": {
      "provenance": [],
      "include_colab_link": true
    },
    "kernelspec": {
      "name": "python3",
      "display_name": "Python 3"
    },
    "language_info": {
      "name": "python"
    }
  },
  "cells": [
    {
      "cell_type": "markdown",
      "metadata": {
        "id": "view-in-github",
        "colab_type": "text"
      },
      "source": [
        "<a href=\"https://colab.research.google.com/github/jccamposro/AlgorithmsUN2023I/blob/main/Lab4/jccamposroGroup6Lab4.ipynb\" target=\"_parent\"><img src=\"https://colab.research.google.com/assets/colab-badge.svg\" alt=\"Open In Colab\"/></a>"
      ]
    },
    {
      "cell_type": "markdown",
      "metadata": {
        "id": "N1ok_-56OjB1"
      },
      "source": [
        "# I Solving the Sum of Two Digits Programming Challenge"
      ]
    },
    {
      "cell_type": "markdown",
      "metadata": {
        "id": "MMY7kmDSO0KM"
      },
      "source": [
        "## C++"
      ]
    },
    {
      "cell_type": "code",
      "metadata": {
        "colab": {
          "base_uri": "https://localhost:8080/"
        },
        "id": "2pGGf9BkPNIk",
        "outputId": "8dbef20b-f87d-4470-e6ae-cc2d76d68d7f"
      },
      "source": [
        "%%writefile APlusB.cpp\n",
        "#include <iostream>\n",
        "using namespace std;\n",
        "\n",
        "int sum_of_two_digits(int first_digit, int second_digit) {\n",
        "    return first_digit + second_digit;\n",
        "}\n",
        "\n",
        "int main() {\n",
        "    int a = 0;\n",
        "    int b = 0;\n",
        "    cin >> a;\n",
        "    cin >> b;\n",
        "    cout << sum_of_two_digits(a, b);\n",
        "    return 0;\n",
        "}"
      ],
      "execution_count": null,
      "outputs": [
        {
          "output_type": "stream",
          "name": "stdout",
          "text": [
            "Writing APlusB.cpp\n"
          ]
        }
      ]
    },
    {
      "cell_type": "code",
      "metadata": {
        "colab": {
          "base_uri": "https://localhost:8080/"
        },
        "id": "0G3ZKOYAPXSU",
        "outputId": "2b784e51-293f-4826-b696-c4dd06eab9d3"
      },
      "source": [
        "!g++ APlusB.cpp -o APlusB\n",
        "!./APlusB"
      ],
      "execution_count": null,
      "outputs": [
        {
          "output_type": "stream",
          "name": "stdout",
          "text": [
            "\n",
            "\n",
            "8989 6565\n",
            "15554"
          ]
        }
      ]
    },
    {
      "cell_type": "markdown",
      "metadata": {
        "id": "iNkG2HqfTl9c"
      },
      "source": [
        "### Test input output files"
      ]
    },
    {
      "cell_type": "code",
      "metadata": {
        "colab": {
          "base_uri": "https://localhost:8080/"
        },
        "id": "aTzU2efzMxly",
        "outputId": "0fe3ae20-9086-49f0-c22b-2980aef37935"
      },
      "source": [
        "%%writefile input1.txt\n",
        "3 23"
      ],
      "execution_count": null,
      "outputs": [
        {
          "output_type": "stream",
          "name": "stdout",
          "text": [
            "Writing input1.txt\n"
          ]
        }
      ]
    },
    {
      "cell_type": "markdown",
      "metadata": {
        "id": "pdkfsvs-T0Wr"
      },
      "source": []
    },
    {
      "cell_type": "code",
      "metadata": {
        "colab": {
          "base_uri": "https://localhost:8080/"
        },
        "id": "zBJ0Gc0NQRet",
        "outputId": "b22b1cf9-e0fa-43cc-a1d6-54eb5348e8fe"
      },
      "source": [
        "%%writefile output1.txt\n",
        "26"
      ],
      "execution_count": null,
      "outputs": [
        {
          "output_type": "stream",
          "name": "stdout",
          "text": [
            "Writing output1.txt\n"
          ]
        }
      ]
    },
    {
      "cell_type": "code",
      "metadata": {
        "colab": {
          "base_uri": "https://localhost:8080/"
        },
        "id": "IjEcIx63PJAN",
        "outputId": "aca4bc84-1cd2-4893-be8d-faf69691041f"
      },
      "source": [
        "%%writefile input2.txt\n",
        "-8 3"
      ],
      "execution_count": null,
      "outputs": [
        {
          "output_type": "stream",
          "name": "stdout",
          "text": [
            "Writing input2.txt\n"
          ]
        }
      ]
    },
    {
      "cell_type": "code",
      "metadata": {
        "colab": {
          "base_uri": "https://localhost:8080/"
        },
        "id": "Up9gOrxURTmd",
        "outputId": "3151f2db-7d3a-45bb-960e-0b44e700ccd3"
      },
      "source": [
        "%%writefile output2.txt\n",
        "7"
      ],
      "execution_count": null,
      "outputs": [
        {
          "output_type": "stream",
          "name": "stdout",
          "text": [
            "Writing output2.txt\n"
          ]
        }
      ]
    },
    {
      "cell_type": "code",
      "metadata": {
        "colab": {
          "base_uri": "https://localhost:8080/"
        },
        "id": "PST6G-s-Pwgc",
        "outputId": "16ede5ca-c841-486c-af4c-7c584d0995da"
      },
      "source": [
        "!./APlusB < input1.txt"
      ],
      "execution_count": null,
      "outputs": [
        {
          "output_type": "stream",
          "name": "stdout",
          "text": [
            "26"
          ]
        }
      ]
    },
    {
      "cell_type": "code",
      "metadata": {
        "colab": {
          "base_uri": "https://localhost:8080/"
        },
        "id": "cKxZOjSlRfIN",
        "outputId": "e07171d0-870e-4913-a7a0-6b08e8bc47fb"
      },
      "source": [
        "!./APlusB < input2.txt"
      ],
      "execution_count": null,
      "outputs": [
        {
          "output_type": "stream",
          "name": "stdout",
          "text": [
            "-5"
          ]
        }
      ]
    },
    {
      "cell_type": "markdown",
      "metadata": {
        "id": "Qw2TQWCCUwqk"
      },
      "source": [
        "### Comparing files with grep\n",
        "\n",
        "https://askubuntu.com/questions/546796/comparing-two-text-files"
      ]
    },
    {
      "cell_type": "code",
      "metadata": {
        "id": "WVIaAmMKU4QM"
      },
      "source": [
        "!grep -xvFf output1.txt output1.txt "
      ],
      "execution_count": null,
      "outputs": []
    },
    {
      "cell_type": "code",
      "metadata": {
        "colab": {
          "base_uri": "https://localhost:8080/"
        },
        "id": "MQU8gPPjQuYO",
        "outputId": "cd1b4109-c809-4d7a-9802-312f1431672a"
      },
      "source": [
        "!grep -xvFf output1.txt output2.txt "
      ],
      "execution_count": null,
      "outputs": [
        {
          "output_type": "stream",
          "name": "stdout",
          "text": [
            "7\n"
          ]
        }
      ]
    },
    {
      "cell_type": "code",
      "metadata": {
        "colab": {
          "base_uri": "https://localhost:8080/"
        },
        "id": "jYL9OuYBTD_l",
        "outputId": "516571db-2a5b-4288-cd87-645d6d5498cd"
      },
      "source": [
        "!grep -xvFf output2.txt output1.txt "
      ],
      "execution_count": null,
      "outputs": [
        {
          "output_type": "stream",
          "name": "stdout",
          "text": [
            "26\n"
          ]
        }
      ]
    },
    {
      "cell_type": "code",
      "metadata": {
        "id": "Jlja0Xm4TX9M"
      },
      "source": [
        "!./APlusB < input1.txt> ctest1.txt\n",
        "!grep -xvFf output1.txt ctest1.txt"
      ],
      "execution_count": null,
      "outputs": []
    },
    {
      "cell_type": "code",
      "metadata": {
        "id": "g9OIUZA_QLCQ",
        "colab": {
          "base_uri": "https://localhost:8080/"
        },
        "outputId": "260ffb32-b849-4d9d-c1a9-fd0bac453084"
      },
      "source": [
        "!./APlusB < input2.txt > ctest2.txt\n",
        "!grep -xvFf output2.txt ctest2.txt"
      ],
      "execution_count": null,
      "outputs": [
        {
          "output_type": "stream",
          "name": "stdout",
          "text": [
            "-5\n"
          ]
        }
      ]
    },
    {
      "cell_type": "markdown",
      "metadata": {
        "id": "3BgOaDjUVJk6"
      },
      "source": [
        "## Python"
      ]
    },
    {
      "cell_type": "code",
      "metadata": {
        "colab": {
          "base_uri": "https://localhost:8080/"
        },
        "id": "DBvl-T0CTN_8",
        "outputId": "f433a07e-ad06-4c89-bc8b-e4d957a31d3f"
      },
      "source": [
        "%%writefile sum.py\n",
        "# python3\n",
        "\n",
        "def sum_of_two_digits(first_digit, second_digit):\n",
        "    return first_digit + second_digit\n",
        "\n",
        "if __name__ == '__main__':\n",
        "    a, b = map(int, input().split())\n",
        "    print(sum_of_two_digits(a, b))"
      ],
      "execution_count": null,
      "outputs": [
        {
          "output_type": "stream",
          "name": "stdout",
          "text": [
            "Writing sum.py\n"
          ]
        }
      ]
    },
    {
      "cell_type": "code",
      "metadata": {
        "colab": {
          "base_uri": "https://localhost:8080/"
        },
        "id": "QKoKM11_WGyF",
        "outputId": "1cb0f2c4-40ea-4dd3-cc60-887f2b604c51"
      },
      "source": [
        "!python sum.py"
      ],
      "execution_count": null,
      "outputs": [
        {
          "output_type": "stream",
          "name": "stdout",
          "text": [
            "5 8\n",
            "13\n"
          ]
        }
      ]
    },
    {
      "cell_type": "code",
      "metadata": {
        "id": "cocFbPRTWrqt"
      },
      "source": [
        "!python sum.py  < input1.txt> ptest1.txt\n",
        "!grep -xvFf output1.txt ptest1.txt"
      ],
      "execution_count": null,
      "outputs": []
    },
    {
      "cell_type": "code",
      "metadata": {
        "id": "MorKTa-XXASN",
        "colab": {
          "base_uri": "https://localhost:8080/"
        },
        "outputId": "50da3c6b-7a8b-4225-d80c-373abf2ce786"
      },
      "source": [
        "!python sum.py  < input2.txt> ptest2.txt\n",
        "!grep -xvFf output2.txt ptest2.txt"
      ],
      "execution_count": null,
      "outputs": [
        {
          "output_type": "stream",
          "name": "stdout",
          "text": [
            "\n",
            "-5\n"
          ]
        }
      ]
    },
    {
      "cell_type": "markdown",
      "metadata": {
        "id": "uvP-mOubW_5F"
      },
      "source": [
        "# II Solving The Maximum Pairwise Product Programming Challenge in C++"
      ]
    },
    {
      "cell_type": "markdown",
      "metadata": {
        "id": "C12yoFR6Xonl"
      },
      "source": [
        "## C++"
      ]
    },
    {
      "cell_type": "code",
      "metadata": {
        "colab": {
          "base_uri": "https://localhost:8080/"
        },
        "id": "YL4qJX3tXxdd",
        "outputId": "8d8d09c4-d747-4f37-82f6-847196f85f1a"
      },
      "source": [
        "%%writefile max_pairwise_product.cpp\n",
        "#include <iostream>\n",
        "#include <vector>\n",
        "#include <algorithm>\n",
        "using namespace std;\n",
        "\n",
        "int MaxPairwiseProduct(const vector<int>& numbers) {\n",
        "    int max_product = 0;\n",
        "    int n = numbers.size();\n",
        "\n",
        "    for (int first = 0; first < n; ++first) {\n",
        "        for (int second = first + 1; second < n; ++second) {\n",
        "            max_product = max(max_product, numbers[first] * numbers[second]);\n",
        "        }\n",
        "    }\n",
        "\n",
        "    return max_product;\n",
        "}\n",
        "\n",
        "int main() {\n",
        "    int n;\n",
        "    cin >> n;\n",
        "    vector<int> numbers(n);\n",
        "    for (int i = 0; i < n; ++i) {\n",
        "        cin >> numbers[i];\n",
        "    }\n",
        "\n",
        "    cout << \"\\n\" << MaxPairwiseProduct(numbers) << \"\\n\";\n",
        "    return 0;\n",
        "}\n"
      ],
      "execution_count": null,
      "outputs": [
        {
          "output_type": "stream",
          "name": "stdout",
          "text": [
            "Writing max_pairwise_product.cpp\n"
          ]
        }
      ]
    },
    {
      "cell_type": "code",
      "metadata": {
        "colab": {
          "base_uri": "https://localhost:8080/"
        },
        "id": "KGxaEjvWX__O",
        "outputId": "e6602a26-5af0-4873-ded8-87b0b7c8b1a4"
      },
      "source": [
        "!g++ max_pairwise_product.cpp -o max_pairwise_product\n",
        "!./max_pairwise_product"
      ],
      "execution_count": null,
      "outputs": [
        {
          "output_type": "stream",
          "name": "stdout",
          "text": [
            "5\n",
            "45 48 69 2222 5\n",
            "\n",
            "153318\n"
          ]
        }
      ]
    },
    {
      "cell_type": "markdown",
      "metadata": {
        "id": "e7KhxHGNS3i0"
      },
      "source": [
        "### Test 1: Small numbers"
      ]
    },
    {
      "cell_type": "code",
      "metadata": {
        "colab": {
          "base_uri": "https://localhost:8080/"
        },
        "id": "e1mmTzBgShT-",
        "outputId": "78451a7d-7165-49aa-eaf9-60f2431a4cd0"
      },
      "source": [
        "%%writefile input1.txt\n",
        "10\n",
        "1 2 3 4 5 6 7 8 9 10"
      ],
      "execution_count": null,
      "outputs": [
        {
          "output_type": "stream",
          "name": "stdout",
          "text": [
            "Overwriting input1.txt\n"
          ]
        }
      ]
    },
    {
      "cell_type": "code",
      "metadata": {
        "colab": {
          "base_uri": "https://localhost:8080/"
        },
        "id": "vy_uI0x7TCId",
        "outputId": "db6a379a-8995-4eaa-8fa7-7800f25314dd"
      },
      "source": [
        "!./max_pairwise_product < input1.txt"
      ],
      "execution_count": null,
      "outputs": [
        {
          "output_type": "stream",
          "name": "stdout",
          "text": [
            "\n",
            "90\n"
          ]
        }
      ]
    },
    {
      "cell_type": "markdown",
      "metadata": {
        "id": "IeZ3kTjpYmR9"
      },
      "source": [
        "### Test 2: largest input numbers 200000 200000 in the input"
      ]
    },
    {
      "cell_type": "code",
      "metadata": {
        "colab": {
          "base_uri": "https://localhost:8080/"
        },
        "id": "LQNlZqaqYt7U",
        "outputId": "cb897c07-f6e9-478f-dcb2-ee3fb26660a8"
      },
      "source": [
        "%%writefile input2.txt\n",
        "6\n",
        "1 3 200000 9 200000 23"
      ],
      "execution_count": null,
      "outputs": [
        {
          "output_type": "stream",
          "name": "stdout",
          "text": [
            "Overwriting input2.txt\n"
          ]
        }
      ]
    },
    {
      "cell_type": "code",
      "metadata": {
        "colab": {
          "base_uri": "https://localhost:8080/"
        },
        "id": "2Wad2VZUZDxR",
        "outputId": "5d8338a6-7f4b-4464-f35e-1994ea9993a9"
      },
      "source": [
        "!./max_pairwise_product < input2.txt"
      ],
      "execution_count": null,
      "outputs": [
        {
          "output_type": "stream",
          "name": "stdout",
          "text": [
            "\n",
            "1345294336\n"
          ]
        }
      ]
    },
    {
      "cell_type": "markdown",
      "metadata": {
        "id": "H2SC0Qt5HCzz"
      },
      "source": [
        "Changing the variables to long long"
      ]
    },
    {
      "cell_type": "code",
      "metadata": {
        "colab": {
          "base_uri": "https://localhost:8080/"
        },
        "id": "MPcmsxiQZSfE",
        "outputId": "6728faf5-1fe0-4101-bfc1-0060beb71478"
      },
      "source": [
        "%%writefile max_pairwise_product_long.cpp\n",
        "#include <iostream>\n",
        "#include <vector>\n",
        "#include <algorithm>\n",
        "using namespace std;\n",
        "\n",
        "long long MaxPairwiseProduct(const vector<int>& numbers) {\n",
        "    long long max_product = 0LL;\n",
        "\t  long long aux_product = 0LL;\n",
        "    int n = numbers.size();\n",
        "\n",
        "    for (int first = 0; first < n; ++first) {\n",
        "        for (int second = first + 1; second < n; ++second) {\n",
        "\t\t\t       aux_product =  (long long) numbers[first] * numbers[second];\n",
        "            if ( max_product < aux_product)  {\n",
        "\t\t\t\t        max_product = aux_product;\n",
        "             }\n",
        "        }\n",
        "    }\n",
        "\n",
        "    return max_product;\n",
        "}\n",
        "\n",
        "int main() {\n",
        "    int n;\n",
        "    cin >> n;\n",
        "    vector<int> numbers(n);\n",
        "    for (int i = 0; i < n; ++i) {\n",
        "        cin >> numbers[i];\n",
        "    }\n",
        "\n",
        "    cout << MaxPairwiseProduct(numbers) << \"\\n\";\n",
        "    return 0;\n",
        "}\n"
      ],
      "execution_count": null,
      "outputs": [
        {
          "output_type": "stream",
          "name": "stdout",
          "text": [
            "Writing max_pairwise_product_long.cpp\n"
          ]
        }
      ]
    },
    {
      "cell_type": "code",
      "metadata": {
        "colab": {
          "base_uri": "https://localhost:8080/"
        },
        "id": "I5pCeOG1Zm7s",
        "outputId": "d0be7a35-932d-4d06-ae8f-baf53c9176f5"
      },
      "source": [
        "!g++ max_pairwise_product_long.cpp -o max_pairwise_product_long\n",
        "!./max_pairwise_product_long < input1.txt\n",
        "!./max_pairwise_product_long < input2.txt"
      ],
      "execution_count": null,
      "outputs": [
        {
          "output_type": "stream",
          "name": "stdout",
          "text": [
            "90\n",
            "40000000000\n"
          ]
        }
      ]
    },
    {
      "cell_type": "markdown",
      "metadata": {
        "id": "XPVHkHxH6_7s"
      },
      "source": [
        "### Test 3  stress tests 20  times  random n in [2, 20] "
      ]
    },
    {
      "cell_type": "code",
      "metadata": {
        "id": "PwqpBmYr69fu",
        "colab": {
          "base_uri": "https://localhost:8080/"
        },
        "outputId": "4c230a45-39d6-49ce-9f82-acbcb18f9836"
      },
      "source": [
        "%%writefile max_pairwise_product_long_test3.cpp\n",
        "#include <iostream>\n",
        "#include <vector>\n",
        "#include <algorithm>\n",
        "#include <climits>\n",
        "using namespace std;\n",
        "\n",
        "long long MaxPairwiseProduct(const vector<int>& numbers) {\n",
        "    long long max_product = 0LL;\n",
        "\t  long long aux_product = 0LL;\n",
        "    int n = numbers.size();\n",
        "\n",
        "    for (int first = 0; first < n; ++first) {\n",
        "        for (int second = first + 1; second < n; ++second) {\n",
        "\t\t\t       aux_product =  (long long) numbers[first] * numbers[second];\n",
        "            if ( max_product < aux_product)  {\n",
        "\t\t\t\t        max_product = aux_product;\n",
        "             }\n",
        "        }\n",
        "    }\n",
        "\n",
        "    return max_product;\n",
        "}\n",
        "\n",
        "int main() {\n",
        "    srand(time(NULL));\n",
        "    \n",
        "    for(int i = 0; i < 20; i++){\n",
        "      int n = rand() % 19 + 2;\n",
        "      vector<int> nums(n);\n",
        "\n",
        "      for(int j = 0; j < n; j++){\n",
        "        nums[j] = rand() % LLONG_MAX + 1;\n",
        "      }\n",
        "\n",
        "      cout << \"Test \" << i << \": \";\n",
        "      for(int j = 0; j < n; j++){\n",
        "        cout << nums[j] << \" \";\n",
        "      }\n",
        "\n",
        "      cout << \"\\n\" << \"Maximum pairwise product is: \" << MaxPairwiseProduct(nums) << endl;\n",
        "\n",
        "    }\n",
        "    return 0;\n",
        "}"
      ],
      "execution_count": null,
      "outputs": [
        {
          "output_type": "stream",
          "name": "stdout",
          "text": [
            "Writing max_pairwise_product_long_test3.cpp\n"
          ]
        }
      ]
    },
    {
      "cell_type": "code",
      "source": [
        "!g++ max_pairwise_product_long_test3.cpp -o max_pairwise_product_long_test3\n",
        "!./max_pairwise_product_long_test3"
      ],
      "metadata": {
        "colab": {
          "base_uri": "https://localhost:8080/"
        },
        "id": "y59ZxnIWsBUg",
        "outputId": "96238eda-0ee9-462d-bb9b-2ef6605cccd9"
      },
      "execution_count": null,
      "outputs": [
        {
          "output_type": "stream",
          "name": "stdout",
          "text": [
            "Test 0: 496984427 566346184 48147508 2101711069 1755084220 2071428632 2011866101 486722092 1189685025 1994340068 234982021 30935150 977392401 1856792251 1589302704 700859853 1395384351 1522986981 \n",
            "Maximum pairwise product is: 4353544484517927608\n",
            "Test 1: 1059962029 1338590300 1329634627 \n",
            "Maximum pairwise product is: 1779836014246318100\n",
            "Test 2: 505068201 1583572457 1805153912 940734980 675051667 2147466876 \n",
            "Maximum pairwise product is: 3876508232101818912\n",
            "Test 3: 1689746323 496967654 1106876410 1737893830 451195074 714476981 \n",
            "Maximum pairwise product is: 2936599709006887090\n",
            "Test 4: 315577526 1201199072 704040190 162433945 1436181092 734975339 1139826345 1145489694 176794394 1840686197 393390396 1699781374 1924743358 1453352425 \n",
            "Maximum pairwise product is: 3542848531838029526\n",
            "Test 5: 1106894336 602876820 1395956225 542983144 260547084 189207556 1218034810 260530311 729737782 \n",
            "Maximum pairwise product is: 1700323275286192250\n",
            "Test 6: 757497964 1836614191 \n",
            "Maximum pairwise product is: 1391231510336007124\n",
            "Test 7: 1208693037 403607523 2012546478 1524270562 \n",
            "Maximum pairwise product is: 3067665351072180636\n",
            "Test 8: 569103019 1686704507 893504038 1304078357 679047203 2038993731 1480872750 372249752 284900479 1033170475 149509461 1738252903 1924058500 1256403796 193646074 1172531076 1799386939 454193157 1361738632 \n",
            "Maximum pairwise product is: 3923143219577263500\n",
            "Test 9: 714723467 2091476413 1630235584 1472221430 1780606955 1980943248 533430818 36730829 1846006077 2057701380 1641537422 267625447 1596922238 387557811 1571703803 128485792 \n",
            "Maximum pairwise product is: 4303633901267549940\n",
            "Test 10: 905092904 500735543 563968372 1938263379 650245003 154737626 1714838230 1906648798 348383699 739885657 1558552088 802576856 2101624288 281006540 1517300322 2045617052 1911242123 842038104 \n",
            "Maximum pairwise product is: 4299118480430158976\n",
            "Test 11: 1744701722 1375468921 1715471186 1443224151 1285686652 1209524960 1710849597 735125241 1597082770 1135069752 863611033 1876150663 2040162655 1364346575 \n",
            "Maximum pairwise product is: 3827652517806090265\n",
            "Test 12: 1830942385 2014591578 447373011 1398296966 1773756727 795756710 2138182623 1184825167 1598333565 \n",
            "Maximum pairwise product is: 4307564704521749094\n",
            "Test 13: 1465831706 968150238 1990456666 1229590180 1810188341 1521713375 826808253 1038173614 1089700913 122548755 176376617 151742224 1833398352 911501858 1748824993 820984455 1775112890 1477492008 713663461 \n",
            "Maximum pairwise product is: 3649299971171814432\n",
            "Test 14: 1770127393 397122198 859083745 70016756 1795419163 485356824 865773465 1786118137 1670181990 316623381 \n",
            "Maximum pairwise product is: 3206830730551659331\n",
            "Test 15: 988530047 1284773618 1573930768 70636578 947478311 948160494 897444830 1985651924 2037861406 1019993585 14544892 \n",
            "Maximum pairwise product is: 4046483421669245144\n",
            "Test 16: 705908288 926046749 1790944974 \n",
            "Maximum pairwise product is: 1658498770810589526\n",
            "Test 17: 553675990 1120953333 93072554 1545651806 743597077 490194751 257251902 813613832 138130266 742608725 1679387296 1924248402 265307066 1996010676 1507722504 1253837112 1133300646 934169623 \n",
            "Maximum pairwise product is: 3840820353667939752\n",
            "Test 18: 2080778956 1882330117 74434871 1918947231 1772707874 1094428455 1933492122 1814827855 1800336742 712055223 1458289180 \n",
            "Maximum pairwise product is: 4023169719049384632\n",
            "Test 19: 1265731212 431758864 \n",
            "Maximum pairwise product is: 546490670222463168\n"
          ]
        }
      ]
    },
    {
      "cell_type": "markdown",
      "metadata": {
        "id": "9z9yr5QkeyJF"
      },
      "source": [
        "### Test 4  time test  measure the execution time running with the the largest worst case file (200000 increasing numbers, 200000 and 200000 the end) "
      ]
    },
    {
      "cell_type": "code",
      "metadata": {
        "id": "oLiMjbAIfPlX",
        "colab": {
          "base_uri": "https://localhost:8080/"
        },
        "outputId": "fabea196-4d4b-4679-cb9f-e683dd9784be"
      },
      "source": [
        "%%writefile Test2Write.cpp\n",
        "#include <iostream>\n",
        "#include <fstream>\n",
        "#include <cstdlib>\n",
        "\n",
        "using namespace std;\n",
        "\n",
        "int main() {\n",
        "  // Create and open a text file\n",
        "  ofstream MyFile(\"input3.txt\");\n",
        "\n",
        " MyFile << 200000 <<\"\\n\";  // n \n",
        " for (int i=1; i < 200001; i++){\n",
        "     MyFile << i <<\" \";\n",
        " }\n",
        "  \n",
        "  // Close the file\n",
        "  MyFile.close();\n",
        "}"
      ],
      "execution_count": null,
      "outputs": [
        {
          "output_type": "stream",
          "name": "stdout",
          "text": [
            "Writing Test2Write.cpp\n"
          ]
        }
      ]
    },
    {
      "cell_type": "code",
      "metadata": {
        "id": "EH25TkOkZfD9"
      },
      "source": [
        "!g++ Test2Write.cpp -o Test2Write\n",
        "!./Test2Write"
      ],
      "execution_count": null,
      "outputs": []
    },
    {
      "cell_type": "markdown",
      "metadata": {
        "id": "JB6f03qO-lj9"
      },
      "source": [
        "Measure time\n",
        "\n",
        "https://askubuntu.com/questions/53444/how-can-i-measure-the-execution-time-of-a-terminal-process"
      ]
    },
    {
      "cell_type": "code",
      "metadata": {
        "id": "6p2QLEr576zk"
      },
      "source": [
        "!g++ max_pairwise_product_long.cpp -o max_pairwise_product_long\n",
        "!time ./max_pairwise_product_long < input3.txt"
      ],
      "execution_count": null,
      "outputs": []
    },
    {
      "cell_type": "markdown",
      "metadata": {
        "id": "AmZeB2wYjxy5"
      },
      "source": [
        "##### Calculate  the number of instructions executed by the algorithm as a function of n, add in each line a comment with the number of instructions that are executed in that line \n",
        "\n",
        "```cpp\n",
        " int main() {                         //N inst exec by line executed  \n",
        "   \n",
        "    int n;                            //1                      \n",
        "    std::cin >> n;                    //1\n",
        "                                              \n",
        "    std::vector<int> numbers(n);      //n    init vector\n",
        "    .\n",
        "    .\n",
        " }\n",
        "\n",
        "```"
      ]
    },
    {
      "cell_type": "code",
      "metadata": {
        "colab": {
          "base_uri": "https://localhost:8080/"
        },
        "id": "djGX3FL13g9b",
        "outputId": "612a5017-222f-48d1-bb4b-f820d9d33d5c"
      },
      "source": [
        "%%writefile test_init_vectors.cpp\n",
        "#include <iostream>\n",
        "#include <vector>\n",
        "#include <algorithm>\n",
        "using namespace std;\n",
        "\n",
        "int main() {                                                               \n",
        "    int n = 10;                                                                                                                            //1\n",
        "    vector<int> numbers(n);                                            \n",
        "    for (int i = 0; i < n; ++i) {                                           \n",
        "        cout << numbers[i];                                             \n",
        "    }\n",
        "\n",
        "    cout << \"\\n\";                       \n",
        "    return 0;                                                              \n",
        "}  "
      ],
      "execution_count": null,
      "outputs": [
        {
          "output_type": "stream",
          "name": "stdout",
          "text": [
            "Writing test_init_vectors.cpp\n"
          ]
        }
      ]
    },
    {
      "cell_type": "code",
      "metadata": {
        "colab": {
          "base_uri": "https://localhost:8080/"
        },
        "id": "44gZcuE237-1",
        "outputId": "6220c0a8-41b0-4da6-a2ea-7f4413c1a7cb"
      },
      "source": [
        "!g++ test_init_vectors.cpp -o test_init_vectors\n",
        "!./test_init_vectors"
      ],
      "execution_count": null,
      "outputs": [
        {
          "output_type": "stream",
          "name": "stdout",
          "text": [
            "0000000000\n"
          ]
        }
      ]
    },
    {
      "cell_type": "code",
      "metadata": {
        "colab": {
          "base_uri": "https://localhost:8080/"
        },
        "id": "uG6Mv-Pwlkii",
        "outputId": "cdb5b458-a7b8-48b0-bc0a-69f5499cf744"
      },
      "source": [
        "%%writefile max_pairwise_product_long.cpp\n",
        "#include <iostream>\n",
        "#include <vector>\n",
        "#include <algorithm>\n",
        "using namespace std;\n",
        "\n",
        "long long MaxPairwiseProduct(const vector<int>& numbers) {                   //N inst exec by line executed \n",
        "    long long max_product = 0LL;                                             //1                                          \n",
        "\t  long long aux_product = 0LL;                                             //1 \n",
        "    int n = numbers.size();                                                  //1 \n",
        "                                                                             \n",
        "    for (int first = 0; first < n; ++first) {                                //1+2n  \n",
        "        for (int second = first + 1; second < n; ++second) {                 //n + (n-1)n \n",
        "\t\t\t       aux_product =  (long long) numbers[first] * numbers[second];    //(n-1)n/2 \n",
        "            if (max_product < aux_product)  {                                //(n-1)n/2 \n",
        "\t\t\t\t        max_product = aux_product;                                   //[0, (n-1)n/2] \n",
        "             }\n",
        "        }\n",
        "    }\n",
        "                                                                             // -------------- \n",
        "    return max_product;                                                      // 4 + 3n + [2(n-1)n, 2.5 (n-1)n] \n",
        "}\n",
        "\n",
        "int main() {                                              //N inst exec by line executed \n",
        "    int n;                                                //1  \n",
        "    cin >> n;                                             //1\n",
        "    vector<int> numbers(n);                               //n\n",
        "    for (int i = 0; i < n; ++i) {                         //1 + 2n\n",
        "        cin >> numbers[i];                                //n\n",
        "    }\n",
        "\n",
        "    cout << MaxPairwiseProduct(numbers) << \"\\n\";     //1 + 1  + 4 + 3n + [2(n-1)n, 2.5 (n-1)n]\n",
        "    return 0;                                             // -------------- \n",
        "}                                                         // 9 + 7n + [2(n-1)n, 2.5 (n-1)n]\n"
      ],
      "execution_count": null,
      "outputs": [
        {
          "output_type": "stream",
          "name": "stdout",
          "text": [
            "Overwriting max_pairwise_product_long.cpp\n"
          ]
        }
      ]
    },
    {
      "cell_type": "markdown",
      "metadata": {
        "id": "0vTsUg8OwcHs"
      },
      "source": [
        "Count executed intructions in code and verify with inputs 1, 2 and 3"
      ]
    },
    {
      "cell_type": "code",
      "metadata": {
        "colab": {
          "base_uri": "https://localhost:8080/"
        },
        "id": "CuRKkqQc137V",
        "outputId": "18340fb5-7575-44eb-c4b5-e841b9ef6548"
      },
      "source": [
        "%%writefile max_pairwise_product_long_execints.cpp\n",
        "#include <iostream>\n",
        "#include <vector>\n",
        "#include <algorithm>\n",
        "using namespace std;\n",
        "\n",
        "long long MaxPairwiseProduct(const vector<int>& numbers, long long &execints) {              //N inst exec by line executed \n",
        "    \n",
        "    long long m = 0LL;                                                       //1\n",
        "    \n",
        "    long long max_product = 0LL;                                             //1\n",
        "    execints++;\n",
        "\n",
        "\t  long long aux_product = 0LL;                                             //1\n",
        "    execints++;\n",
        "\n",
        "    int n = numbers.size();                                                  //1 \n",
        "    execints++;\n",
        "\n",
        "    execints++;                                                                         \n",
        "    for (int first = 0; first < n; ++first) {                                //1+2n  \n",
        "        execints += 2;\n",
        "\n",
        "        long long m = 0LL;\n",
        "\n",
        "        execints++;                                    \n",
        "        for (int second = first + 1; second < n; ++second) {                 //n+ (n-1)n \n",
        "            execints += 2;                                                \n",
        "\n",
        "\t\t\t      aux_product =  (long long) numbers[first] * numbers[second];    //(n-1)n/2 \n",
        "            execints++; \n",
        "\n",
        "            execints++; \n",
        "            if ( max_product < aux_product)  {                               //(n-1)n/2 \n",
        "                       \n",
        "\t\t\t\t        max_product = aux_product;                                   //[0, (n-1)n/2] \n",
        "                execints++; \n",
        "                m++;\n",
        "             }\n",
        "        }\n",
        "        if ( (first <= 10) || (n- first <= 10)) cout << m << \"\\n\";\n",
        "    }\n",
        "                                                                            // -------------- \n",
        "    return max_product;                                                     // 4 + 3n + [2(n-1)n, 2.5 (n-1)n] \n",
        "}\n",
        "\n",
        "int main() {                                                //N inst exec by line executed \n",
        "    long long execints = 0LL;\n",
        "\n",
        "    int n;                                                  //1\n",
        "    execints++;                                                              \n",
        "    \n",
        "    cin >> n;                                               //1\n",
        "    execints++;\n",
        "\n",
        "    vector<int> numbers(n);                                 //n\n",
        "    execints += n;\n",
        "    \n",
        "    execints++;\n",
        "    for (int i = 0; i < n; ++i) {                            //1 + 2n\n",
        "        execints += 2;\n",
        "\n",
        "        cin >> numbers[i];\n",
        "        execints++;                                          //n\n",
        "    }\n",
        "    \n",
        "    //cout << MaxPairwiseProduct(numbers) << \"\\n\";          //1 + 1  + 4 + 3n + [2(n-1)n, 2.5 (n-1)n]\n",
        "\n",
        "    execints++;\n",
        "    int M = MaxPairwiseProduct(numbers,execints);\n",
        "\n",
        "    execints++;\n",
        "    cout <<  execints << \"\\n\";                       \n",
        "    return 0;                                                // -------------- \n",
        "}                                                            // 9 + 7n + [2(n-1)n, 2.5 (n-1)n]"
      ],
      "execution_count": null,
      "outputs": [
        {
          "output_type": "stream",
          "name": "stdout",
          "text": [
            "Writing max_pairwise_product_long_execints.cpp\n"
          ]
        }
      ]
    },
    {
      "cell_type": "code",
      "metadata": {
        "id": "Kuvm1C05ly2a",
        "colab": {
          "base_uri": "https://localhost:8080/"
        },
        "outputId": "b6f2e297-433e-4b7e-fdd2-6b15f8316f1d"
      },
      "source": [
        "!g++ max_pairwise_product_long_execints.cpp -o max_pairwise_product_long_execints\n",
        "!./max_pairwise_product_long_execints < input1.txt\n",
        "!./max_pairwise_product_long_execints < input2.txt\n",
        "!./max_pairwise_product_long_execints < input3.txt"
      ],
      "execution_count": null,
      "outputs": [
        {
          "output_type": "stream",
          "name": "stdout",
          "text": [
            "9\n",
            "5\n",
            "4\n",
            "3\n",
            "2\n",
            "2\n",
            "2\n",
            "2\n",
            "1\n",
            "0\n",
            "289\n",
            "2\n",
            "1\n",
            "2\n",
            "0\n",
            "0\n",
            "0\n",
            "116\n",
            "199999\n",
            "100000\n",
            "66667\n",
            "50000\n",
            "40000\n",
            "33334\n",
            "28572\n",
            "25000\n",
            "22223\n",
            "20000\n",
            "18182\n",
            "5656\n",
            "555\n",
            "^C\n"
          ]
        }
      ]
    },
    {
      "cell_type": "markdown",
      "metadata": {
        "id": "L_uaamxeAHK7"
      },
      "source": [
        "The number of instructions executed by the algooirithm with a list of size $n$ is  \n",
        "\n",
        "$$T = 9 + 7n + [2(n-1)n, 2.5 (n-1)n]$$\n",
        "\n",
        "It depends on the size of the lists and  the order of the list.\n",
        "\n",
        "For the input1.txt \n",
        "```\n",
        "10\n",
        "1 2 3 4 5 6 7 8 9 10\n",
        "```\n",
        "$$T = 9 + 7(10) + 2(9)(10) +  9 + 5 + 4 + 3 + 2 + 2 + 2 + 2 + 1 + 0  = 289 $$\n",
        "\n",
        "For the input2.txt \n",
        "```\n",
        "6\n",
        "1 3 200000 9 200000 23\n",
        "```\n",
        "$$T = 9 + 7(6) + 2(5)(6)  +  2 + 1 + 2 + 0 + 0 + 0 = 116 $$\n",
        "\n",
        "\n",
        "For the input3.txt that is the worst case (n=200000 and list in incresing order)\n",
        "\n",
        "```\n",
        "200000\n",
        "1 2 3 4 5 6 7 8 9 10 ... 199998 199999 200000\n",
        "```\n",
        "\n",
        "$$\n",
        "\\begin{array}{ll}\n",
        "T &= 9 + 7(200000) + (2)(199999)(200000)  + (199999 +\n",
        "100000 + 66667 +50000 \\cdots 2 + 2 + 1)\\\\\n",
        "&= 80003672077  \\\\\n",
        "  &< 9 + 7(200000) + (2.5)(199999)(200000) \\\\\n",
        "  & = 100000900009\n",
        "\\end{array}\n",
        "  $$"
      ]
    },
    {
      "cell_type": "markdown",
      "metadata": {
        "id": "NXW7QkoBL6xH"
      },
      "source": [
        "Calculate estimated time by instruction and number of instructions by second"
      ]
    },
    {
      "cell_type": "code",
      "metadata": {
        "colab": {
          "base_uri": "https://localhost:8080/"
        },
        "id": "pKqB3i7dIxnc",
        "outputId": "ac7d5f0d-6740-44bb-c662-f96815f267a1"
      },
      "source": [
        "# Estimated time by instruction\n",
        "\n",
        "128/80003672077 \n"
      ],
      "execution_count": null,
      "outputs": [
        {
          "output_type": "execute_result",
          "data": {
            "text/plain": [
              "1.5999265618308827e-09"
            ]
          },
          "metadata": {},
          "execution_count": 22
        }
      ]
    },
    {
      "cell_type": "code",
      "metadata": {
        "colab": {
          "base_uri": "https://localhost:8080/"
        },
        "id": "18N1ouqeMhE1",
        "outputId": "5cbf6ca3-bd13-4fe3-a906-1c306ef9c6e2"
      },
      "source": [
        "# Estimated number of instructions by second\n",
        "\n",
        "1/(128/80003672077) "
      ],
      "execution_count": null,
      "outputs": [
        {
          "output_type": "execute_result",
          "data": {
            "text/plain": [
              "625028688.1015625"
            ]
          },
          "metadata": {},
          "execution_count": 23
        }
      ]
    },
    {
      "cell_type": "markdown",
      "metadata": {
        "id": "CQufozXLNJwO"
      },
      "source": [
        "### Efficient solution"
      ]
    },
    {
      "cell_type": "markdown",
      "metadata": {
        "id": "nLcKBwbU0QsE"
      },
      "source": [
        "Add in each line a coment with the number of intstrcution that are executed in that line"
      ]
    },
    {
      "cell_type": "code",
      "metadata": {
        "id": "knls5Fh3NSt_",
        "colab": {
          "base_uri": "https://localhost:8080/"
        },
        "outputId": "682d4d4b-c5f1-410a-a3e2-a1ec50464a03"
      },
      "source": [
        "%%writefile efficient_maximum_pairwise_product.cpp\n",
        "#include <iostream>\n",
        "#include <vector>\n",
        "#include <algorithm>\n",
        "using namespace std;\n",
        "\n",
        "int EfficientMaximumPairwiseProduct(int n, vector<long long> nums){\n",
        "    int maxn = 0;                                                               //1\n",
        "    int smaxn = 0;                                                              //1\n",
        "    for(int i = 0; i < n; i++){                                                 //n\n",
        "      if(nums[i] > maxn){                                                       //n\n",
        "        smaxn = maxn;                                                           //n\n",
        "        maxn = nums[i];                                                         //n\n",
        "      }else if(nums[i] > smaxn){                                                //n\n",
        "        smaxn = nums[i];                                                        //n\n",
        "      }\n",
        "    }\n",
        "    return smaxn*maxn;                                                          //1\n",
        "}                                                                               //O(6n+3)\n",
        "\n",
        "int main () {\n",
        "    int n;\n",
        "    cin >> n;\n",
        "    vector<long long> nums(n);\n",
        "    for(int i = 0; i < n; i++){                                                 //n\n",
        "        cin >> nums[i];                                                         //n\n",
        "    }\n",
        "\n",
        "    cout << \"Maximum pairwise product is: \" << EfficientMaximumPairwiseProduct(n, nums) << endl;\n",
        "}"
      ],
      "execution_count": null,
      "outputs": [
        {
          "output_type": "stream",
          "name": "stdout",
          "text": [
            "Writing efficient_maximum_pairwise_product.cpp\n"
          ]
        }
      ]
    },
    {
      "cell_type": "markdown",
      "metadata": {
        "id": "-JCijbWxNSii"
      },
      "source": [
        "Test with inputs 1 and 2\n",
        "\n"
      ]
    },
    {
      "cell_type": "code",
      "metadata": {
        "id": "TrTGAfqlNVXT",
        "colab": {
          "base_uri": "https://localhost:8080/"
        },
        "outputId": "b2500da2-90ca-420b-ce43-bef10aa60706"
      },
      "source": [
        "!g++ efficient_maximum_pairwise_product.cpp -o efficient_maximum_pairwise_product\n",
        "!time ./efficient_maximum_pairwise_product < input1.txt\n",
        "\n",
        "!g++ efficient_maximum_pairwise_product.cpp -o efficient_maximum_pairwise_product\n",
        "!time ./efficient_maximum_pairwise_product < input2.txt\n",
        "     "
      ],
      "execution_count": null,
      "outputs": [
        {
          "output_type": "stream",
          "name": "stdout",
          "text": [
            "Maximum pairwise product is: 90\n",
            "\n",
            "real\t0m0.002s\n",
            "user\t0m0.002s\n",
            "sys\t0m0.000s\n",
            "Maximum pairwise product is: 1345294336\n",
            "\n",
            "real\t0m0.002s\n",
            "user\t0m0.002s\n",
            "sys\t0m0.000s\n"
          ]
        }
      ]
    },
    {
      "cell_type": "markdown",
      "metadata": {
        "id": "PRX51wADNR8b"
      },
      "source": [
        "Test and time it with input 3"
      ]
    },
    {
      "cell_type": "code",
      "metadata": {
        "id": "v4z7-Is_NRt7",
        "colab": {
          "base_uri": "https://localhost:8080/"
        },
        "outputId": "d5b023d7-b01d-41ba-fe5f-93aa1c77314d"
      },
      "source": [
        "!g++ efficient_maximum_pairwise_product.cpp -o efficient_maximum_pairwise_product\n",
        "!time ./efficient_maximum_pairwise_product < input3.txt"
      ],
      "execution_count": null,
      "outputs": [
        {
          "output_type": "stream",
          "name": "stdout",
          "text": [
            "Maximum pairwise product is: 1345094336\n",
            "\n",
            "real\t0m0.066s\n",
            "user\t0m0.060s\n",
            "sys\t0m0.005s\n"
          ]
        }
      ]
    },
    {
      "cell_type": "markdown",
      "metadata": {
        "id": "rpdfs0_TNZJf"
      },
      "source": [
        "20 stress tests"
      ]
    },
    {
      "cell_type": "code",
      "metadata": {
        "id": "Lu4tYcKzNcTT",
        "colab": {
          "base_uri": "https://localhost:8080/"
        },
        "outputId": "647457ec-ee90-4f23-d13b-eaca5841ccd0"
      },
      "source": [
        "%%writefile efficient_maximum_pairwise_product_stress.cpp\n",
        "#include <iostream>\n",
        "#include <vector>\n",
        "#include <algorithm>\n",
        "#include <climits>\n",
        "using namespace std;\n",
        "\n",
        "int EfficientMaximumPairwiseProduct(int n, vector<long long> nums){\n",
        "    int maxn = 0;                                                               //1\n",
        "    int smaxn = 0;                                                              //1\n",
        "    for(int i = 0; i < n; i++){                                                 //n\n",
        "      if(nums[i] > maxn){                                                       //n\n",
        "        smaxn = maxn;                                                           //n\n",
        "        maxn = nums[i];                                                         //n\n",
        "      }else if(nums[i] > smaxn){                                                //n\n",
        "        smaxn = nums[i];                                                        //n\n",
        "      }\n",
        "    }\n",
        "    return smaxn*maxn;                                                          //1\n",
        "}                                                                               //O(6n+3)\n",
        "\n",
        "int main() {\n",
        "    srand(time(NULL));\n",
        "\n",
        "    for(int i = 0; i < 20; i++){\n",
        "      int n = rand() % 19 + 2;\n",
        "      vector<long long> nums(n);\n",
        "\n",
        "      for(int j = 0; j < n; j++){\n",
        "        nums[j] = rand() % LLONG_MAX + 1;\n",
        "      }\n",
        "\n",
        "      cout << \"Test \" << i << \": \";\n",
        "      for(int j = 0; j < n; j++){\n",
        "        cout << nums[j] << \" \";\n",
        "      }\n",
        "\n",
        "      cout << \"\\n\" << \"Maximum pairwise product is: \" << EfficientMaximumPairwiseProduct(n, nums) << endl;\n",
        "\n",
        "    }\n",
        "    return 0;\n",
        "}"
      ],
      "execution_count": null,
      "outputs": [
        {
          "output_type": "stream",
          "name": "stdout",
          "text": [
            "Writing efficient_maximum_pairwise_product_stress.cpp\n"
          ]
        }
      ]
    },
    {
      "cell_type": "code",
      "metadata": {
        "id": "dh85RM8vNhFz",
        "colab": {
          "base_uri": "https://localhost:8080/"
        },
        "outputId": "ec9f161d-76af-4f04-fa62-1aef4839b34b"
      },
      "source": [
        "!g++ efficient_maximum_pairwise_product_stress.cpp -o efficient_maximum_pairwise_product_stress\n",
        "!time ./efficient_maximum_pairwise_product_stress"
      ],
      "execution_count": null,
      "outputs": [
        {
          "output_type": "stream",
          "name": "stdout",
          "text": [
            "Test 0: 1839745509 967081131 \n",
            "Maximum pairwise product is: 384321527\n",
            "Test 1: 251737745 1584315994 1363568579 803078858 757065910 640392038 1838094661 1173539663 1083312609 821520437 \n",
            "Maximum pairwise product is: -357164990\n",
            "Test 2: 296305487 1313446186 219005156 243800308 1265287424 934032469 1594513864 1814384384 176000362 160935410 1992243686 \n",
            "Maximum pairwise product is: 1763441152\n",
            "Test 3: 1715778228 972420127 1557308011 1749216789 1518675429 1249569871 568814272 1075274182 1501307616 5646617 291359113 156902825 762712527 931751150 1994997485 1936252189 \n",
            "Maximum pairwise product is: -620316199\n",
            "Test 4: 669034274 908369428 163885597 1982480459 1127374583 407685904 1100284234 \n",
            "Maximum pairwise product is: -1241148835\n",
            "Test 5: 2002199767 767184969 89923765 15651528 611945007 361845604 1731429755 1584365133 1919153614 1333162896 955556913 1021239837 1901977167 2030831095 375063804 1907623783 174706559 531966628 522852661 1106457708 \n",
            "Maximum pairwise product is: 836812401\n",
            "Test 6: 311621202 974037818 1048514737 1219990629 1137923415 883511547 199881564 1545609318 1983795781 113804967 1400325437 603497101 203728731 1415976964 1215442107 565574334 999923071 652323592 337244300 185602318 \n",
            "Maximum pairwise product is: -71473282\n",
            "Test 7: 1358484136 2087579484 1491227950 1733547939 1847719618 1665934508 118030918 223088631 624908568 497511381 534709832 1598946385 1546026118 1754700460 \n",
            "Maximum pairwise product is: 1378732984\n",
            "Test 8: 282054016 1954582023 2134995469 118366148 2068386989 1387837257 721863249 124632071 656330572 1937305355 690206405 1656253642 442145298 1027450704 1841855959 \n",
            "Maximum pairwise product is: -522709303\n",
            "Test 9: 238451191 1781951794 1393770103 1971999129 1482187764 912220963 2090030046 1705276394 1537129530 440057778 92502577 988592266 1986083895 1847203036 1577978417 120654263 1654301411 \n",
            "Maximum pairwise product is: 1718422706\n",
            "Test 10: 239020410 1575204751 805843845 960883658 1699836822 1462174416 750705365 242559578 970944410 1192850662 1270010281 665316720 1095392815 1508461471 299784866 341679270 1332976951 1781972629 1253900232 1275523348 \n",
            "Maximum pairwise product is: -371877298\n",
            "Test 11: 643546113 1715581125 \n",
            "Maximum pairwise product is: -1206297403\n",
            "Test 12: 1632138378 1554181372 1131987337 1062633146 1674835634 638805099 480639734 1913856043 66526202 1286483578 727256053 1766363023 601174346 1477961417 \n",
            "Maximum pairwise product is: 381615365\n",
            "Test 13: 1572118755 523328430 1131449232 89951826 1618721245 492427054 389736691 1960400514 1825404004 \n",
            "Maximum pairwise product is: 1043509960\n",
            "Test 14: 1066817097 953443703 1363991044 1710363209 521541179 648775345 1195017938 \n",
            "Maximum pairwise product is: 1107718948\n",
            "Test 15: 1780762682 110167436 1603074535 272084132 590807169 1369446930 \n",
            "Maximum pairwise product is: 380999254\n",
            "Test 16: 1877290747 2096702982 2104973355 330981444 1427180750 1966412306 1903100198 1950509179 950377889 1993052023 \n",
            "Maximum pairwise product is: 1035301634\n",
            "Test 17: 1442804942 235305066 1234663640 1120725297 259530736 153997088 2074168999 1623521780 1864360296 448226530 124813476 911894586 376465431 \n",
            "Maximum pairwise product is: -287196456\n",
            "Test 18: 1022062021 1979539966 30176641 1612869189 1201503247 368786973 1342676287 1150722580 326276680 1673657730 430419681 145205337 1429274279 233445211 1095583226 1274842654 1655191986 390904519 1510147719 \n",
            "Maximum pairwise product is: 1862387964\n",
            "Test 19: 1511629816 1769678454 896369065 1438315166 1245716585 613245712 1886541695 \n",
            "Maximum pairwise product is: -290050422\n",
            "\n",
            "real\t0m0.003s\n",
            "user\t0m0.000s\n",
            "sys\t0m0.003s\n"
          ]
        }
      ]
    },
    {
      "cell_type": "markdown",
      "metadata": {
        "id": "L8U4151JNbxk"
      },
      "source": [
        "Count executed instructions in code and verify with inputs 1,2 and 3\n"
      ]
    },
    {
      "cell_type": "code",
      "source": [
        "%%writefile efficient_maximum_pairwise_product_exec.cpp\n",
        "#include <iostream>\n",
        "#include <vector>\n",
        "#include <algorithm>\n",
        "using namespace std;\n",
        "\n",
        "int EfficientMaximumPairwiseProduct(int n, vector<long long> nums){\n",
        "    int maxn = 0;                                                               //1\n",
        "    int smaxn = 0;                                                              //1\n",
        "    for(int i = 0; i < n; i++){                                                 //n\n",
        "      if(nums[i] > maxn){                                                       //n\n",
        "        smaxn = maxn;                                                           //n\n",
        "        maxn = nums[i];                                                         //n\n",
        "      }else if(nums[i] > smaxn){                                                //n\n",
        "        smaxn = nums[i];                                                        //n\n",
        "      }\n",
        "    }\n",
        "    return smaxn*maxn;                                                          //1\n",
        "}                                                                               //O(6n+3)\n",
        "\n",
        "int main () {\n",
        "    int n;\n",
        "    cin >> n;\n",
        "    vector<long long> nums(n);\n",
        "    for(int i = 0; i < n; i++){                                                 //n\n",
        "        cin >> nums[i];                                                         //n\n",
        "    }\n",
        "\n",
        "    cout << \"\\n\" << \"Instruction number: \" << 8*n+3 << endl;\n",
        "    cout << \"Maximum pairwise product is: \" << EfficientMaximumPairwiseProduct(n, nums) << endl;\n",
        "}"
      ],
      "metadata": {
        "colab": {
          "base_uri": "https://localhost:8080/"
        },
        "id": "7PewQemgrIG9",
        "outputId": "0bd49cb6-bcd7-4a21-e1bf-91ad76d24166"
      },
      "execution_count": null,
      "outputs": [
        {
          "output_type": "stream",
          "name": "stdout",
          "text": [
            "Writing efficient_maximum_pairwise_product_exec.cpp\n"
          ]
        }
      ]
    },
    {
      "cell_type": "code",
      "source": [
        "!g++ efficient_maximum_pairwise_product_exec.cpp -o efficient_maximum_pairwise_product_exec\n",
        "!time ./efficient_maximum_pairwise_product_exec < input1.txt\n",
        "\n",
        "!g++ efficient_maximum_pairwise_product_exec.cpp -o efficient_maximum_pairwise_product_exec\n",
        "!time ./efficient_maximum_pairwise_product_exec < input2.txt\n",
        "\n",
        "!g++ efficient_maximum_pairwise_product_exec.cpp -o efficient_maximum_pairwise_product_exec\n",
        "!time ./efficient_maximum_pairwise_product_exec < input3.txt"
      ],
      "metadata": {
        "colab": {
          "base_uri": "https://localhost:8080/"
        },
        "id": "1oOwD-pJrNGt",
        "outputId": "a38161cf-e96f-4bba-fa45-1fbae94ccfc3"
      },
      "execution_count": null,
      "outputs": [
        {
          "output_type": "stream",
          "name": "stdout",
          "text": [
            "\n",
            "Instruction number: 83\n",
            "Maximum pairwise product is: 90\n",
            "\n",
            "real\t0m0.002s\n",
            "user\t0m0.001s\n",
            "sys\t0m0.001s\n",
            "\n",
            "Instruction number: 51\n",
            "Maximum pairwise product is: 1345294336\n",
            "\n",
            "real\t0m0.003s\n",
            "user\t0m0.001s\n",
            "sys\t0m0.002s\n",
            "\n",
            "Instruction number: 1600003\n",
            "Maximum pairwise product is: 1345094336\n",
            "\n",
            "real\t0m0.060s\n",
            "user\t0m0.056s\n",
            "sys\t0m0.003s\n"
          ]
        }
      ]
    },
    {
      "cell_type": "markdown",
      "metadata": {
        "id": "K6ybgCmpNygr"
      },
      "source": [
        "Calculate estimated time by instruction and number of instructions by second"
      ]
    },
    {
      "cell_type": "code",
      "metadata": {
        "id": "kwe3G1O3Nz1w",
        "colab": {
          "base_uri": "https://localhost:8080/"
        },
        "outputId": "695dda00-e0d5-4763-e200-56515308dd3a"
      },
      "source": [
        "#Estimated time by instruction and number of instructions by second\n",
        "print(\"Estimated time by instruction\", \"\\t \\t\", \"Number of instructions by second\")\n",
        "print(\"Input 1: \", (83/0.003), \"\\t \\t\", 1/(83/0.003))\n",
        "print(\"Input 2: \", (51/0.001), \"\\t \\t \\t\", 1/(51/0.001))\n",
        "print(\"Input 3: \", (43/0.002), \"\\t \\t \\t\", 1/(43/0.002))"
      ],
      "execution_count": null,
      "outputs": [
        {
          "output_type": "stream",
          "name": "stdout",
          "text": [
            "Estimated time by instruction \t \t Number of instructions by second\n",
            "Input 1:  27666.666666666668 \t \t 3.614457831325301e-05\n",
            "Input 2:  51000.0 \t \t \t 1.9607843137254903e-05\n",
            "Input 3:  21500.0 \t \t \t 4.651162790697674e-05\n"
          ]
        }
      ]
    },
    {
      "cell_type": "markdown",
      "metadata": {
        "id": "sc9nOLQrfTm0"
      },
      "source": [
        "### Super efficient solution\n",
        "\n",
        "Whitout storing the list in memory and whitout calling a function, add in each line a coment with the number of intstrcution that are executed in that line "
      ]
    },
    {
      "cell_type": "code",
      "metadata": {
        "id": "hBLt_xBQLy8E",
        "colab": {
          "base_uri": "https://localhost:8080/"
        },
        "outputId": "32ce7254-f9c5-483f-a3cd-7d7458d3e58a"
      },
      "source": [
        "%%writefile super_efficient_maximum_pairwise_product.cpp\n",
        "#include <iostream>\n",
        "#include <vector>\n",
        "#include <algorithm>\n",
        "using namespace std;\n",
        "\n",
        "int main () {\n",
        "    int n;                                                                      //1\n",
        "    cin >> n;                                                                   //1\n",
        "    int maxn = 0;                                                               //1\n",
        "    int smaxn = 0;                                                              //1\n",
        "    for(int i = 0; i < n; i++){                                                 //n\n",
        "      int num;                                                                  //n\n",
        "      cin >> num;                                                               //n\n",
        "      if(num > maxn){                                                           //n\n",
        "        smaxn = maxn;                                                           //n\n",
        "        maxn = num;                                                             //n\n",
        "      }else if(num > smaxn){                                                    //n\n",
        "        smaxn = num;                                                            //n\n",
        "      }\n",
        "    }\n",
        "    cout << \"Maximum pairwise product is: \" << smaxn*maxn << endl;              //1\n",
        "}                                                                               //O(8*n+4)"
      ],
      "execution_count": null,
      "outputs": [
        {
          "output_type": "stream",
          "name": "stdout",
          "text": [
            "Writing super_efficient_maximum_pairwise_product.cpp\n"
          ]
        }
      ]
    },
    {
      "cell_type": "markdown",
      "metadata": {
        "id": "683gc3roHqzb"
      },
      "source": [
        "Test with inputs 1 and 2\n",
        "\n",
        "\n",
        " "
      ]
    },
    {
      "cell_type": "code",
      "metadata": {
        "id": "b7d4LA8OIc2_",
        "colab": {
          "base_uri": "https://localhost:8080/"
        },
        "outputId": "650e3ddb-e3dd-46dc-e77d-ce68d8180440"
      },
      "source": [
        "!g++ super_efficient_maximum_pairwise_product.cpp -o super_efficient_maximum_pairwise_product\n",
        "!time ./super_efficient_maximum_pairwise_product < input1.txt\n",
        "\n",
        "!g++ super_efficient_maximum_pairwise_product.cpp -o super_efficient_maximum_pairwise_product\n",
        "!time ./super_efficient_maximum_pairwise_product < input2.txt"
      ],
      "execution_count": null,
      "outputs": [
        {
          "output_type": "stream",
          "name": "stdout",
          "text": [
            "Maximum pairwise product is: 90\n",
            "\n",
            "real\t0m0.003s\n",
            "user\t0m0.003s\n",
            "sys\t0m0.000s\n",
            "Maximum pairwise product is: 1345294336\n",
            "\n",
            "real\t0m0.005s\n",
            "user\t0m0.002s\n",
            "sys\t0m0.000s\n"
          ]
        }
      ]
    },
    {
      "cell_type": "markdown",
      "metadata": {
        "id": "36Ugn1odIeJz"
      },
      "source": [
        "Test and time it with input 3"
      ]
    },
    {
      "cell_type": "code",
      "metadata": {
        "id": "jDyMbCnxHqSN",
        "colab": {
          "base_uri": "https://localhost:8080/"
        },
        "outputId": "d012ac3a-52fe-4b8a-ffea-de17560fe257"
      },
      "source": [
        "!g++ super_efficient_maximum_pairwise_product.cpp -o super_efficient_maximum_pairwise_product\n",
        "!time ./super_efficient_maximum_pairwise_product < input3.txt"
      ],
      "execution_count": null,
      "outputs": [
        {
          "output_type": "stream",
          "name": "stdout",
          "text": [
            "Maximum pairwise product is: 1345094336\n",
            "\n",
            "real\t0m0.054s\n",
            "user\t0m0.052s\n",
            "sys\t0m0.001s\n"
          ]
        }
      ]
    },
    {
      "cell_type": "markdown",
      "metadata": {
        "id": "bhqiKQG6fjKM"
      },
      "source": [
        "20 stress tests "
      ]
    },
    {
      "cell_type": "code",
      "metadata": {
        "id": "2KsiXKhALzwm",
        "colab": {
          "base_uri": "https://localhost:8080/"
        },
        "outputId": "e33cf980-dd9b-4460-bfa9-b30860b63a45"
      },
      "source": [
        "%%writefile super_efficient_maximum_pairwise_product_stress.cpp\n",
        "#include <iostream>\n",
        "#include <vector>\n",
        "#include <algorithm>\n",
        "#include <climits>\n",
        "using namespace std;\n",
        "\n",
        "int main () {\n",
        "    srand(time(NULL));                                                          //1\n",
        "    for(int i = 0; i < 20; i++){                                                //t = 20\n",
        "        int maxn = 0;                                                               //1\n",
        "        int smaxn = 0;                                                              //1\n",
        "        int n = rand() % 19 + 2;                                                    //t\n",
        "        for(int j = 0; j < n; j++){                                                   //t*n\n",
        "          int num;                                                                    //t*n\n",
        "          num = rand() % LLONG_MAX + 1;                                               //t*n\n",
        "          if(num > maxn){                                                             //t*n\n",
        "            smaxn = maxn;                                                             //t*n\n",
        "            maxn = num;                                                               //t*n\n",
        "          }else if(num > smaxn){                                                      //t*n\n",
        "            smaxn = num;                                                              //t*n\n",
        "          }\n",
        "        }\n",
        "        cout << \"Maximum pairwise product is: \" << smaxn*maxn << endl;              //1\n",
        "    }\n",
        "    return 0;\n",
        "}                                                                               //O(9*n+4)"
      ],
      "execution_count": null,
      "outputs": [
        {
          "output_type": "stream",
          "name": "stdout",
          "text": [
            "Writing super_efficient_maximum_pairwise_product_stress.cpp\n"
          ]
        }
      ]
    },
    {
      "cell_type": "code",
      "source": [
        "!g++ super_efficient_maximum_pairwise_product_stress.cpp -o super_efficient_maximum_pairwise_product_stress\n",
        "!time ./super_efficient_maximum_pairwise_product_stress"
      ],
      "metadata": {
        "colab": {
          "base_uri": "https://localhost:8080/"
        },
        "id": "K_0YhQv3rmM6",
        "outputId": "78168ae8-69d5-4e07-c2f1-f96f03db9c1c"
      },
      "execution_count": null,
      "outputs": [
        {
          "output_type": "stream",
          "name": "stdout",
          "text": [
            "Maximum pairwise product is: -424906816\n",
            "Maximum pairwise product is: -1122688640\n",
            "Maximum pairwise product is: 616597554\n",
            "Maximum pairwise product is: 269756580\n",
            "Maximum pairwise product is: 1340954880\n",
            "Maximum pairwise product is: 1201715887\n",
            "Maximum pairwise product is: -1678879936\n",
            "Maximum pairwise product is: 317142814\n",
            "Maximum pairwise product is: 2042597876\n",
            "Maximum pairwise product is: 115673762\n",
            "Maximum pairwise product is: -1317852885\n",
            "Maximum pairwise product is: -306621586\n",
            "Maximum pairwise product is: -323927172\n",
            "Maximum pairwise product is: 1381523944\n",
            "Maximum pairwise product is: -1954369870\n",
            "Maximum pairwise product is: -214944010\n",
            "Maximum pairwise product is: -1283857888\n",
            "Maximum pairwise product is: -602992444\n",
            "Maximum pairwise product is: -1612530720\n",
            "Maximum pairwise product is: -1259426898\n",
            "\n",
            "real\t0m0.003s\n",
            "user\t0m0.001s\n",
            "sys\t0m0.001s\n"
          ]
        }
      ]
    },
    {
      "cell_type": "markdown",
      "metadata": {
        "id": "fEXj8GHJH5p1"
      },
      "source": [
        "Count executed instructions in code and verify with inputs 1,2 and 3"
      ]
    },
    {
      "cell_type": "code",
      "metadata": {
        "id": "LF1DHjKXIAsF",
        "colab": {
          "base_uri": "https://localhost:8080/"
        },
        "outputId": "95c6220e-bd3c-47c1-93a1-95c19a6d3b5a"
      },
      "source": [
        "%%writefile super_efficient_maximum_pairwise_product.cpp\n",
        "#include <iostream>\n",
        "#include <vector>\n",
        "#include <algorithm>\n",
        "using namespace std;\n",
        "\n",
        "int main () {\n",
        "    int n;                                                                      //1\n",
        "    cin >> n;                                                                   //1\n",
        "    int maxn = 0;                                                               //1\n",
        "    int smaxn = 0;                                                              //1\n",
        "    for(int i = 0; i < n; i++){                                                 //n\n",
        "      int num;                                                                  //n\n",
        "      cin >> num;                                                               //n\n",
        "      if(num > maxn){                                                           //n\n",
        "        smaxn = maxn;                                                           //n\n",
        "        maxn = num;                                                             //n\n",
        "      }else if(num > smaxn){                                                    //n\n",
        "        smaxn = num;                                                            //n\n",
        "      }\n",
        "    }\n",
        "    cout << \"\\n\" << \"Instruction number: \" << 8*n+3 << endl;                    //1\n",
        "    cout << \"Maximum pairwise product is: \" << smaxn*maxn << endl;              //1\n",
        "}                                                                               //O(8*n+6)"
      ],
      "execution_count": null,
      "outputs": [
        {
          "output_type": "stream",
          "name": "stdout",
          "text": [
            "Overwriting super_efficient_maximum_pairwise_product.cpp\n"
          ]
        }
      ]
    },
    {
      "cell_type": "code",
      "source": [
        "!g++ super_efficient_maximum_pairwise_product.cpp -o super_efficient_maximum_pairwise_product\n",
        "!time ./super_efficient_maximum_pairwise_product < input1.txt\n",
        "\n",
        "!g++ super_efficient_maximum_pairwise_product.cpp -o super_efficient_maximum_pairwise_product\n",
        "!time ./super_efficient_maximum_pairwise_product < input2.txt\n",
        "\n",
        "!g++ super_efficient_maximum_pairwise_product.cpp -o super_efficient_maximum_pairwise_product\n",
        "!time ./super_efficient_maximum_pairwise_product < input3.txt"
      ],
      "metadata": {
        "colab": {
          "base_uri": "https://localhost:8080/"
        },
        "id": "Bhv8gLgJrusi",
        "outputId": "3feba09a-62de-4278-bb5d-af2d31ae4aed"
      },
      "execution_count": null,
      "outputs": [
        {
          "output_type": "stream",
          "name": "stdout",
          "text": [
            "\n",
            "Instruction number: 83\n",
            "Maximum pairwise product is: 90\n",
            "\n",
            "real\t0m0.002s\n",
            "user\t0m0.000s\n",
            "sys\t0m0.002s\n",
            "\n",
            "Instruction number: 51\n",
            "Maximum pairwise product is: 1345294336\n",
            "\n",
            "real\t0m0.003s\n",
            "user\t0m0.002s\n",
            "sys\t0m0.000s\n",
            "\n",
            "Instruction number: 1600003\n",
            "Maximum pairwise product is: 1345094336\n",
            "\n",
            "real\t0m0.097s\n",
            "user\t0m0.092s\n",
            "sys\t0m0.001s\n"
          ]
        }
      ]
    },
    {
      "cell_type": "markdown",
      "metadata": {
        "id": "yae7sSm2IG9U"
      },
      "source": [
        "Calculate estimated time by instruction and number of instructions by second"
      ]
    },
    {
      "cell_type": "code",
      "metadata": {
        "id": "suouY7BYL2dz",
        "colab": {
          "base_uri": "https://localhost:8080/"
        },
        "outputId": "8a45d1aa-7cfe-4a5a-bb1d-e6678a6c7cbf"
      },
      "source": [
        "#Estimated time by instruction and number of instructions by second\n",
        "print(\"Estimated time by instruction\", \"\\t \\t\", \"Number of instructions by second\")\n",
        "print(\"Input 1: \", (83/0.002), \"\\t \\t \\t\", 1/(83/0.002))\n",
        "print(\"Input 2: \", (51/0.003), \"\\t \\t \\t\", 1/(51/0.003))\n",
        "print(\"Input 3: \", (43/0.004), \"\\t \\t \\t\", 1/(43/0.004))"
      ],
      "execution_count": null,
      "outputs": [
        {
          "output_type": "stream",
          "name": "stdout",
          "text": [
            "Estimated time by instruction \t \t Number of instructions by second\n",
            "Input 1:  41500.0 \t \t \t 2.4096385542168674e-05\n",
            "Input 2:  17000.0 \t \t \t 5.882352941176471e-05\n",
            "Input 3:  10750.0 \t \t \t 9.302325581395348e-05\n"
          ]
        }
      ]
    },
    {
      "cell_type": "markdown",
      "metadata": {
        "id": "LkVxxlhl9H98"
      },
      "source": [
        "# Codeforces problem https://codeforces.com/contest/1619/problem/A \n",
        "\n",
        "Solve the problem in Colab, submit the solution to Codeforces and add a screenshoot of the submission."
      ]
    },
    {
      "cell_type": "markdown",
      "source": [
        "My profile: \n",
        "\n",
        "\n",
        "![image.png](data:image/png;base64,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)"
      ],
      "metadata": {
        "id": "92doxS2Xpxjv"
      }
    },
    {
      "cell_type": "markdown",
      "source": [
        "Submitted code:\n",
        "![image.png](data:image/png;base64,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)"
      ],
      "metadata": {
        "id": "7335vJ-iomrG"
      }
    },
    {
      "cell_type": "markdown",
      "source": [
        "Submission proof:\n",
        "![image.png](data:image/png;base64,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)"
      ],
      "metadata": {
        "id": "2SCv-jBqozKf"
      }
    }
  ]
}