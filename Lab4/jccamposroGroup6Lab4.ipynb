{
  "nbformat": 4,
  "nbformat_minor": 0,
  "metadata": {
    "colab": {
      "provenance": [],
      "include_colab_link": true
    },
    "kernelspec": {
      "name": "python3",
      "display_name": "Python 3"
    },
    "language_info": {
      "name": "python"
    }
  },
  "cells": [
    {
      "cell_type": "markdown",
      "metadata": {
        "id": "view-in-github",
        "colab_type": "text"
      },
      "source": [
        "<a href=\"https://colab.research.google.com/github/jccamposro/AlgorithmsUN2023I/blob/main/Lab4/jccamposroGroup6Lab4.ipynb\" target=\"_parent\"><img src=\"https://colab.research.google.com/assets/colab-badge.svg\" alt=\"Open In Colab\"/></a>"
      ]
    },
    {
      "cell_type": "markdown",
      "metadata": {
        "id": "N1ok_-56OjB1"
      },
      "source": [
        "# I Solving the Sum of Two Digits Programming Challenge"
      ]
    },
    {
      "cell_type": "markdown",
      "metadata": {
        "id": "MMY7kmDSO0KM"
      },
      "source": [
        "## C++"
      ]
    },
    {
      "cell_type": "code",
      "metadata": {
        "colab": {
          "base_uri": "https://localhost:8080/"
        },
        "id": "2pGGf9BkPNIk",
        "outputId": "8dbef20b-f87d-4470-e6ae-cc2d76d68d7f"
      },
      "source": [
        "%%writefile APlusB.cpp\n",
        "#include <iostream>\n",
        "using namespace std;\n",
        "\n",
        "int sum_of_two_digits(int first_digit, int second_digit) {\n",
        "    return first_digit + second_digit;\n",
        "}\n",
        "\n",
        "int main() {\n",
        "    int a = 0;\n",
        "    int b = 0;\n",
        "    cin >> a;\n",
        "    cin >> b;\n",
        "    cout << sum_of_two_digits(a, b);\n",
        "    return 0;\n",
        "}"
      ],
      "execution_count": null,
      "outputs": [
        {
          "output_type": "stream",
          "name": "stdout",
          "text": [
            "Writing APlusB.cpp\n"
          ]
        }
      ]
    },
    {
      "cell_type": "code",
      "metadata": {
        "colab": {
          "base_uri": "https://localhost:8080/"
        },
        "id": "0G3ZKOYAPXSU",
        "outputId": "2b784e51-293f-4826-b696-c4dd06eab9d3"
      },
      "source": [
        "!g++ APlusB.cpp -o APlusB\n",
        "!./APlusB"
      ],
      "execution_count": null,
      "outputs": [
        {
          "output_type": "stream",
          "name": "stdout",
          "text": [
            "\n",
            "\n",
            "8989 6565\n",
            "15554"
          ]
        }
      ]
    },
    {
      "cell_type": "markdown",
      "metadata": {
        "id": "iNkG2HqfTl9c"
      },
      "source": [
        "### Test input output files"
      ]
    },
    {
      "cell_type": "code",
      "metadata": {
        "colab": {
          "base_uri": "https://localhost:8080/"
        },
        "id": "aTzU2efzMxly",
        "outputId": "0fe3ae20-9086-49f0-c22b-2980aef37935"
      },
      "source": [
        "%%writefile input1.txt\n",
        "3 23"
      ],
      "execution_count": null,
      "outputs": [
        {
          "output_type": "stream",
          "name": "stdout",
          "text": [
            "Writing input1.txt\n"
          ]
        }
      ]
    },
    {
      "cell_type": "markdown",
      "metadata": {
        "id": "pdkfsvs-T0Wr"
      },
      "source": []
    },
    {
      "cell_type": "code",
      "metadata": {
        "colab": {
          "base_uri": "https://localhost:8080/"
        },
        "id": "zBJ0Gc0NQRet",
        "outputId": "b22b1cf9-e0fa-43cc-a1d6-54eb5348e8fe"
      },
      "source": [
        "%%writefile output1.txt\n",
        "26"
      ],
      "execution_count": null,
      "outputs": [
        {
          "output_type": "stream",
          "name": "stdout",
          "text": [
            "Writing output1.txt\n"
          ]
        }
      ]
    },
    {
      "cell_type": "code",
      "metadata": {
        "colab": {
          "base_uri": "https://localhost:8080/"
        },
        "id": "IjEcIx63PJAN",
        "outputId": "aca4bc84-1cd2-4893-be8d-faf69691041f"
      },
      "source": [
        "%%writefile input2.txt\n",
        "-8 3"
      ],
      "execution_count": null,
      "outputs": [
        {
          "output_type": "stream",
          "name": "stdout",
          "text": [
            "Writing input2.txt\n"
          ]
        }
      ]
    },
    {
      "cell_type": "code",
      "metadata": {
        "colab": {
          "base_uri": "https://localhost:8080/"
        },
        "id": "Up9gOrxURTmd",
        "outputId": "3151f2db-7d3a-45bb-960e-0b44e700ccd3"
      },
      "source": [
        "%%writefile output2.txt\n",
        "7"
      ],
      "execution_count": null,
      "outputs": [
        {
          "output_type": "stream",
          "name": "stdout",
          "text": [
            "Writing output2.txt\n"
          ]
        }
      ]
    },
    {
      "cell_type": "code",
      "metadata": {
        "colab": {
          "base_uri": "https://localhost:8080/"
        },
        "id": "PST6G-s-Pwgc",
        "outputId": "16ede5ca-c841-486c-af4c-7c584d0995da"
      },
      "source": [
        "!./APlusB < input1.txt"
      ],
      "execution_count": null,
      "outputs": [
        {
          "output_type": "stream",
          "name": "stdout",
          "text": [
            "26"
          ]
        }
      ]
    },
    {
      "cell_type": "code",
      "metadata": {
        "colab": {
          "base_uri": "https://localhost:8080/"
        },
        "id": "cKxZOjSlRfIN",
        "outputId": "e07171d0-870e-4913-a7a0-6b08e8bc47fb"
      },
      "source": [
        "!./APlusB < input2.txt"
      ],
      "execution_count": null,
      "outputs": [
        {
          "output_type": "stream",
          "name": "stdout",
          "text": [
            "-5"
          ]
        }
      ]
    },
    {
      "cell_type": "markdown",
      "metadata": {
        "id": "Qw2TQWCCUwqk"
      },
      "source": [
        "### Comparing files with grep\n",
        "\n",
        "https://askubuntu.com/questions/546796/comparing-two-text-files"
      ]
    },
    {
      "cell_type": "code",
      "metadata": {
        "id": "WVIaAmMKU4QM"
      },
      "source": [
        "!grep -xvFf output1.txt output1.txt "
      ],
      "execution_count": null,
      "outputs": []
    },
    {
      "cell_type": "code",
      "metadata": {
        "colab": {
          "base_uri": "https://localhost:8080/"
        },
        "id": "MQU8gPPjQuYO",
        "outputId": "cd1b4109-c809-4d7a-9802-312f1431672a"
      },
      "source": [
        "!grep -xvFf output1.txt output2.txt "
      ],
      "execution_count": null,
      "outputs": [
        {
          "output_type": "stream",
          "name": "stdout",
          "text": [
            "7\n"
          ]
        }
      ]
    },
    {
      "cell_type": "code",
      "metadata": {
        "colab": {
          "base_uri": "https://localhost:8080/"
        },
        "id": "jYL9OuYBTD_l",
        "outputId": "516571db-2a5b-4288-cd87-645d6d5498cd"
      },
      "source": [
        "!grep -xvFf output2.txt output1.txt "
      ],
      "execution_count": null,
      "outputs": [
        {
          "output_type": "stream",
          "name": "stdout",
          "text": [
            "26\n"
          ]
        }
      ]
    },
    {
      "cell_type": "code",
      "metadata": {
        "id": "Jlja0Xm4TX9M"
      },
      "source": [
        "!./APlusB < input1.txt> ctest1.txt\n",
        "!grep -xvFf output1.txt ctest1.txt"
      ],
      "execution_count": null,
      "outputs": []
    },
    {
      "cell_type": "code",
      "metadata": {
        "id": "g9OIUZA_QLCQ",
        "colab": {
          "base_uri": "https://localhost:8080/"
        },
        "outputId": "260ffb32-b849-4d9d-c1a9-fd0bac453084"
      },
      "source": [
        "!./APlusB < input2.txt > ctest2.txt\n",
        "!grep -xvFf output2.txt ctest2.txt"
      ],
      "execution_count": null,
      "outputs": [
        {
          "output_type": "stream",
          "name": "stdout",
          "text": [
            "-5\n"
          ]
        }
      ]
    },
    {
      "cell_type": "markdown",
      "metadata": {
        "id": "3BgOaDjUVJk6"
      },
      "source": [
        "## Python"
      ]
    },
    {
      "cell_type": "code",
      "metadata": {
        "colab": {
          "base_uri": "https://localhost:8080/"
        },
        "id": "DBvl-T0CTN_8",
        "outputId": "f433a07e-ad06-4c89-bc8b-e4d957a31d3f"
      },
      "source": [
        "%%writefile sum.py\n",
        "# python3\n",
        "\n",
        "def sum_of_two_digits(first_digit, second_digit):\n",
        "    return first_digit + second_digit\n",
        "\n",
        "if __name__ == '__main__':\n",
        "    a, b = map(int, input().split())\n",
        "    print(sum_of_two_digits(a, b))"
      ],
      "execution_count": null,
      "outputs": [
        {
          "output_type": "stream",
          "name": "stdout",
          "text": [
            "Writing sum.py\n"
          ]
        }
      ]
    },
    {
      "cell_type": "code",
      "metadata": {
        "colab": {
          "base_uri": "https://localhost:8080/"
        },
        "id": "QKoKM11_WGyF",
        "outputId": "1cb0f2c4-40ea-4dd3-cc60-887f2b604c51"
      },
      "source": [
        "!python sum.py"
      ],
      "execution_count": null,
      "outputs": [
        {
          "output_type": "stream",
          "name": "stdout",
          "text": [
            "5 8\n",
            "13\n"
          ]
        }
      ]
    },
    {
      "cell_type": "code",
      "metadata": {
        "id": "cocFbPRTWrqt"
      },
      "source": [
        "!python sum.py  < input1.txt> ptest1.txt\n",
        "!grep -xvFf output1.txt ptest1.txt"
      ],
      "execution_count": null,
      "outputs": []
    },
    {
      "cell_type": "code",
      "metadata": {
        "id": "MorKTa-XXASN",
        "colab": {
          "base_uri": "https://localhost:8080/"
        },
        "outputId": "50da3c6b-7a8b-4225-d80c-373abf2ce786"
      },
      "source": [
        "!python sum.py  < input2.txt> ptest2.txt\n",
        "!grep -xvFf output2.txt ptest2.txt"
      ],
      "execution_count": null,
      "outputs": [
        {
          "output_type": "stream",
          "name": "stdout",
          "text": [
            "\n",
            "-5\n"
          ]
        }
      ]
    },
    {
      "cell_type": "markdown",
      "metadata": {
        "id": "uvP-mOubW_5F"
      },
      "source": [
        "# II Solving The Maximum Pairwise Product Programming Challenge in C++"
      ]
    },
    {
      "cell_type": "markdown",
      "metadata": {
        "id": "C12yoFR6Xonl"
      },
      "source": [
        "## C++"
      ]
    },
    {
      "cell_type": "code",
      "metadata": {
        "colab": {
          "base_uri": "https://localhost:8080/"
        },
        "id": "YL4qJX3tXxdd",
        "outputId": "8d8d09c4-d747-4f37-82f6-847196f85f1a"
      },
      "source": [
        "%%writefile max_pairwise_product.cpp\n",
        "#include <iostream>\n",
        "#include <vector>\n",
        "#include <algorithm>\n",
        "using namespace std;\n",
        "\n",
        "int MaxPairwiseProduct(const vector<int>& numbers) {\n",
        "    int max_product = 0;\n",
        "    int n = numbers.size();\n",
        "\n",
        "    for (int first = 0; first < n; ++first) {\n",
        "        for (int second = first + 1; second < n; ++second) {\n",
        "            max_product = max(max_product, numbers[first] * numbers[second]);\n",
        "        }\n",
        "    }\n",
        "\n",
        "    return max_product;\n",
        "}\n",
        "\n",
        "int main() {\n",
        "    int n;\n",
        "    cin >> n;\n",
        "    vector<int> numbers(n);\n",
        "    for (int i = 0; i < n; ++i) {\n",
        "        cin >> numbers[i];\n",
        "    }\n",
        "\n",
        "    cout << \"\\n\" << MaxPairwiseProduct(numbers) << \"\\n\";\n",
        "    return 0;\n",
        "}\n"
      ],
      "execution_count": null,
      "outputs": [
        {
          "output_type": "stream",
          "name": "stdout",
          "text": [
            "Writing max_pairwise_product.cpp\n"
          ]
        }
      ]
    },
    {
      "cell_type": "code",
      "metadata": {
        "colab": {
          "base_uri": "https://localhost:8080/"
        },
        "id": "KGxaEjvWX__O",
        "outputId": "e6602a26-5af0-4873-ded8-87b0b7c8b1a4"
      },
      "source": [
        "!g++ max_pairwise_product.cpp -o max_pairwise_product\n",
        "!./max_pairwise_product"
      ],
      "execution_count": null,
      "outputs": [
        {
          "output_type": "stream",
          "name": "stdout",
          "text": [
            "5\n",
            "45 48 69 2222 5\n",
            "\n",
            "153318\n"
          ]
        }
      ]
    },
    {
      "cell_type": "markdown",
      "metadata": {
        "id": "e7KhxHGNS3i0"
      },
      "source": [
        "### Test 1: Small numbers"
      ]
    },
    {
      "cell_type": "code",
      "metadata": {
        "colab": {
          "base_uri": "https://localhost:8080/"
        },
        "id": "e1mmTzBgShT-",
        "outputId": "78451a7d-7165-49aa-eaf9-60f2431a4cd0"
      },
      "source": [
        "%%writefile input1.txt\n",
        "10\n",
        "1 2 3 4 5 6 7 8 9 10"
      ],
      "execution_count": null,
      "outputs": [
        {
          "output_type": "stream",
          "name": "stdout",
          "text": [
            "Overwriting input1.txt\n"
          ]
        }
      ]
    },
    {
      "cell_type": "code",
      "metadata": {
        "colab": {
          "base_uri": "https://localhost:8080/"
        },
        "id": "vy_uI0x7TCId",
        "outputId": "db6a379a-8995-4eaa-8fa7-7800f25314dd"
      },
      "source": [
        "!./max_pairwise_product < input1.txt"
      ],
      "execution_count": null,
      "outputs": [
        {
          "output_type": "stream",
          "name": "stdout",
          "text": [
            "\n",
            "90\n"
          ]
        }
      ]
    },
    {
      "cell_type": "markdown",
      "metadata": {
        "id": "IeZ3kTjpYmR9"
      },
      "source": [
        "### Test 2: largest input numbers 200000 200000 in the input"
      ]
    },
    {
      "cell_type": "code",
      "metadata": {
        "colab": {
          "base_uri": "https://localhost:8080/"
        },
        "id": "LQNlZqaqYt7U",
        "outputId": "cb897c07-f6e9-478f-dcb2-ee3fb26660a8"
      },
      "source": [
        "%%writefile input2.txt\n",
        "6\n",
        "1 3 200000 9 200000 23"
      ],
      "execution_count": null,
      "outputs": [
        {
          "output_type": "stream",
          "name": "stdout",
          "text": [
            "Overwriting input2.txt\n"
          ]
        }
      ]
    },
    {
      "cell_type": "code",
      "metadata": {
        "colab": {
          "base_uri": "https://localhost:8080/"
        },
        "id": "2Wad2VZUZDxR",
        "outputId": "5d8338a6-7f4b-4464-f35e-1994ea9993a9"
      },
      "source": [
        "!./max_pairwise_product < input2.txt"
      ],
      "execution_count": null,
      "outputs": [
        {
          "output_type": "stream",
          "name": "stdout",
          "text": [
            "\n",
            "1345294336\n"
          ]
        }
      ]
    },
    {
      "cell_type": "markdown",
      "metadata": {
        "id": "H2SC0Qt5HCzz"
      },
      "source": [
        "Changing the variables to long long"
      ]
    },
    {
      "cell_type": "code",
      "metadata": {
        "colab": {
          "base_uri": "https://localhost:8080/"
        },
        "id": "MPcmsxiQZSfE",
        "outputId": "6728faf5-1fe0-4101-bfc1-0060beb71478"
      },
      "source": [
        "%%writefile max_pairwise_product_long.cpp\n",
        "#include <iostream>\n",
        "#include <vector>\n",
        "#include <algorithm>\n",
        "using namespace std;\n",
        "\n",
        "long long MaxPairwiseProduct(const vector<int>& numbers) {\n",
        "    long long max_product = 0LL;\n",
        "\t  long long aux_product = 0LL;\n",
        "    int n = numbers.size();\n",
        "\n",
        "    for (int first = 0; first < n; ++first) {\n",
        "        for (int second = first + 1; second < n; ++second) {\n",
        "\t\t\t       aux_product =  (long long) numbers[first] * numbers[second];\n",
        "            if ( max_product < aux_product)  {\n",
        "\t\t\t\t        max_product = aux_product;\n",
        "             }\n",
        "        }\n",
        "    }\n",
        "\n",
        "    return max_product;\n",
        "}\n",
        "\n",
        "int main() {\n",
        "    int n;\n",
        "    cin >> n;\n",
        "    vector<int> numbers(n);\n",
        "    for (int i = 0; i < n; ++i) {\n",
        "        cin >> numbers[i];\n",
        "    }\n",
        "\n",
        "    cout << MaxPairwiseProduct(numbers) << \"\\n\";\n",
        "    return 0;\n",
        "}\n"
      ],
      "execution_count": null,
      "outputs": [
        {
          "output_type": "stream",
          "name": "stdout",
          "text": [
            "Writing max_pairwise_product_long.cpp\n"
          ]
        }
      ]
    },
    {
      "cell_type": "code",
      "metadata": {
        "colab": {
          "base_uri": "https://localhost:8080/"
        },
        "id": "I5pCeOG1Zm7s",
        "outputId": "d0be7a35-932d-4d06-ae8f-baf53c9176f5"
      },
      "source": [
        "!g++ max_pairwise_product_long.cpp -o max_pairwise_product_long\n",
        "!./max_pairwise_product_long < input1.txt\n",
        "!./max_pairwise_product_long < input2.txt"
      ],
      "execution_count": null,
      "outputs": [
        {
          "output_type": "stream",
          "name": "stdout",
          "text": [
            "90\n",
            "40000000000\n"
          ]
        }
      ]
    },
    {
      "cell_type": "markdown",
      "metadata": {
        "id": "XPVHkHxH6_7s"
      },
      "source": [
        "### Test 3  stress tests 20  times  random n in [2, 20] "
      ]
    },
    {
      "cell_type": "code",
      "metadata": {
        "id": "PwqpBmYr69fu",
        "colab": {
          "base_uri": "https://localhost:8080/"
        },
        "outputId": "4c230a45-39d6-49ce-9f82-acbcb18f9836"
      },
      "source": [
        "%%writefile max_pairwise_product_long_test3.cpp\n",
        "#include <iostream>\n",
        "#include <vector>\n",
        "#include <algorithm>\n",
        "#include <climits>\n",
        "using namespace std;\n",
        "\n",
        "long long MaxPairwiseProduct(const vector<int>& numbers) {\n",
        "    long long max_product = 0LL;\n",
        "\t  long long aux_product = 0LL;\n",
        "    int n = numbers.size();\n",
        "\n",
        "    for (int first = 0; first < n; ++first) {\n",
        "        for (int second = first + 1; second < n; ++second) {\n",
        "\t\t\t       aux_product =  (long long) numbers[first] * numbers[second];\n",
        "            if ( max_product < aux_product)  {\n",
        "\t\t\t\t        max_product = aux_product;\n",
        "             }\n",
        "        }\n",
        "    }\n",
        "\n",
        "    return max_product;\n",
        "}\n",
        "\n",
        "int main() {\n",
        "    srand(time(NULL));\n",
        "    \n",
        "    for(int i = 0; i < 20; i++){\n",
        "      int n = rand() % 19 + 2;\n",
        "      vector<int> nums(n);\n",
        "\n",
        "      for(int j = 0; j < n; j++){\n",
        "        nums[j] = rand() % LLONG_MAX + 1;\n",
        "      }\n",
        "\n",
        "      cout << \"Test \" << i << \": \";\n",
        "      for(int j = 0; j < n; j++){\n",
        "        cout << nums[j] << \" \";\n",
        "      }\n",
        "\n",
        "      cout << \"\\n\" << \"Maximum pairwise product is: \" << MaxPairwiseProduct(nums) << endl;\n",
        "\n",
        "    }\n",
        "    return 0;\n",
        "}"
      ],
      "execution_count": null,
      "outputs": [
        {
          "output_type": "stream",
          "name": "stdout",
          "text": [
            "Writing max_pairwise_product_long_test3.cpp\n"
          ]
        }
      ]
    },
    {
      "cell_type": "code",
      "source": [
        "!g++ max_pairwise_product_long_test3.cpp -o max_pairwise_product_long_test3\n",
        "!./max_pairwise_product_long_test3"
      ],
      "metadata": {
        "colab": {
          "base_uri": "https://localhost:8080/"
        },
        "id": "y59ZxnIWsBUg",
        "outputId": "96238eda-0ee9-462d-bb9b-2ef6605cccd9"
      },
      "execution_count": null,
      "outputs": [
        {
          "output_type": "stream",
          "name": "stdout",
          "text": [
            "Test 0: 496984427 566346184 48147508 2101711069 1755084220 2071428632 2011866101 486722092 1189685025 1994340068 234982021 30935150 977392401 1856792251 1589302704 700859853 1395384351 1522986981 \n",
            "Maximum pairwise product is: 4353544484517927608\n",
            "Test 1: 1059962029 1338590300 1329634627 \n",
            "Maximum pairwise product is: 1779836014246318100\n",
            "Test 2: 505068201 1583572457 1805153912 940734980 675051667 2147466876 \n",
            "Maximum pairwise product is: 3876508232101818912\n",
            "Test 3: 1689746323 496967654 1106876410 1737893830 451195074 714476981 \n",
            "Maximum pairwise product is: 2936599709006887090\n",
            "Test 4: 315577526 1201199072 704040190 162433945 1436181092 734975339 1139826345 1145489694 176794394 1840686197 393390396 1699781374 1924743358 1453352425 \n",
            "Maximum pairwise product is: 3542848531838029526\n",
            "Test 5: 1106894336 602876820 1395956225 542983144 260547084 189207556 1218034810 260530311 729737782 \n",
            "Maximum pairwise product is: 1700323275286192250\n",
            "Test 6: 757497964 1836614191 \n",
            "Maximum pairwise product is: 1391231510336007124\n",
            "Test 7: 1208693037 403607523 2012546478 1524270562 \n",
            "Maximum pairwise product is: 3067665351072180636\n",
            "Test 8: 569103019 1686704507 893504038 1304078357 679047203 2038993731 1480872750 372249752 284900479 1033170475 149509461 1738252903 1924058500 1256403796 193646074 1172531076 1799386939 454193157 1361738632 \n",
            "Maximum pairwise product is: 3923143219577263500\n",
            "Test 9: 714723467 2091476413 1630235584 1472221430 1780606955 1980943248 533430818 36730829 1846006077 2057701380 1641537422 267625447 1596922238 387557811 1571703803 128485792 \n",
            "Maximum pairwise product is: 4303633901267549940\n",
            "Test 10: 905092904 500735543 563968372 1938263379 650245003 154737626 1714838230 1906648798 348383699 739885657 1558552088 802576856 2101624288 281006540 1517300322 2045617052 1911242123 842038104 \n",
            "Maximum pairwise product is: 4299118480430158976\n",
            "Test 11: 1744701722 1375468921 1715471186 1443224151 1285686652 1209524960 1710849597 735125241 1597082770 1135069752 863611033 1876150663 2040162655 1364346575 \n",
            "Maximum pairwise product is: 3827652517806090265\n",
            "Test 12: 1830942385 2014591578 447373011 1398296966 1773756727 795756710 2138182623 1184825167 1598333565 \n",
            "Maximum pairwise product is: 4307564704521749094\n",
            "Test 13: 1465831706 968150238 1990456666 1229590180 1810188341 1521713375 826808253 1038173614 1089700913 122548755 176376617 151742224 1833398352 911501858 1748824993 820984455 1775112890 1477492008 713663461 \n",
            "Maximum pairwise product is: 3649299971171814432\n",
            "Test 14: 1770127393 397122198 859083745 70016756 1795419163 485356824 865773465 1786118137 1670181990 316623381 \n",
            "Maximum pairwise product is: 3206830730551659331\n",
            "Test 15: 988530047 1284773618 1573930768 70636578 947478311 948160494 897444830 1985651924 2037861406 1019993585 14544892 \n",
            "Maximum pairwise product is: 4046483421669245144\n",
            "Test 16: 705908288 926046749 1790944974 \n",
            "Maximum pairwise product is: 1658498770810589526\n",
            "Test 17: 553675990 1120953333 93072554 1545651806 743597077 490194751 257251902 813613832 138130266 742608725 1679387296 1924248402 265307066 1996010676 1507722504 1253837112 1133300646 934169623 \n",
            "Maximum pairwise product is: 3840820353667939752\n",
            "Test 18: 2080778956 1882330117 74434871 1918947231 1772707874 1094428455 1933492122 1814827855 1800336742 712055223 1458289180 \n",
            "Maximum pairwise product is: 4023169719049384632\n",
            "Test 19: 1265731212 431758864 \n",
            "Maximum pairwise product is: 546490670222463168\n"
          ]
        }
      ]
    },
    {
      "cell_type": "markdown",
      "metadata": {
        "id": "9z9yr5QkeyJF"
      },
      "source": [
        "### Test 4  time test  measure the execution time running with the the largest worst case file (200000 increasing numbers, 200000 and 200000 the end) "
      ]
    },
    {
      "cell_type": "code",
      "metadata": {
        "id": "oLiMjbAIfPlX",
        "colab": {
          "base_uri": "https://localhost:8080/"
        },
        "outputId": "fabea196-4d4b-4679-cb9f-e683dd9784be"
      },
      "source": [
        "%%writefile Test2Write.cpp\n",
        "#include <iostream>\n",
        "#include <fstream>\n",
        "#include <cstdlib>\n",
        "\n",
        "using namespace std;\n",
        "\n",
        "int main() {\n",
        "  // Create and open a text file\n",
        "  ofstream MyFile(\"input3.txt\");\n",
        "\n",
        " MyFile << 200000 <<\"\\n\";  // n \n",
        " for (int i=1; i < 200001; i++){\n",
        "     MyFile << i <<\" \";\n",
        " }\n",
        "  \n",
        "  // Close the file\n",
        "  MyFile.close();\n",
        "}"
      ],
      "execution_count": null,
      "outputs": [
        {
          "output_type": "stream",
          "name": "stdout",
          "text": [
            "Writing Test2Write.cpp\n"
          ]
        }
      ]
    },
    {
      "cell_type": "code",
      "metadata": {
        "id": "EH25TkOkZfD9"
      },
      "source": [
        "!g++ Test2Write.cpp -o Test2Write\n",
        "!./Test2Write"
      ],
      "execution_count": null,
      "outputs": []
    },
    {
      "cell_type": "markdown",
      "metadata": {
        "id": "JB6f03qO-lj9"
      },
      "source": [
        "Measure time\n",
        "\n",
        "https://askubuntu.com/questions/53444/how-can-i-measure-the-execution-time-of-a-terminal-process"
      ]
    },
    {
      "cell_type": "code",
      "metadata": {
        "id": "6p2QLEr576zk"
      },
      "source": [
        "!g++ max_pairwise_product_long.cpp -o max_pairwise_product_long\n",
        "!time ./max_pairwise_product_long < input3.txt"
      ],
      "execution_count": null,
      "outputs": []
    },
    {
      "cell_type": "markdown",
      "metadata": {
        "id": "AmZeB2wYjxy5"
      },
      "source": [
        "##### Calculate  the number of instructions executed by the algorithm as a function of n, add in each line a comment with the number of instructions that are executed in that line \n",
        "\n",
        "```cpp\n",
        " int main() {                         //N inst exec by line executed  \n",
        "   \n",
        "    int n;                            //1                      \n",
        "    std::cin >> n;                    //1\n",
        "                                              \n",
        "    std::vector<int> numbers(n);      //n    init vector\n",
        "    .\n",
        "    .\n",
        " }\n",
        "\n",
        "```"
      ]
    },
    {
      "cell_type": "code",
      "metadata": {
        "colab": {
          "base_uri": "https://localhost:8080/"
        },
        "id": "djGX3FL13g9b",
        "outputId": "612a5017-222f-48d1-bb4b-f820d9d33d5c"
      },
      "source": [
        "%%writefile test_init_vectors.cpp\n",
        "#include <iostream>\n",
        "#include <vector>\n",
        "#include <algorithm>\n",
        "using namespace std;\n",
        "\n",
        "int main() {                                                               \n",
        "    int n = 10;                                                                                                                            //1\n",
        "    vector<int> numbers(n);                                            \n",
        "    for (int i = 0; i < n; ++i) {                                           \n",
        "        cout << numbers[i];                                             \n",
        "    }\n",
        "\n",
        "    cout << \"\\n\";                       \n",
        "    return 0;                                                              \n",
        "}  "
      ],
      "execution_count": null,
      "outputs": [
        {
          "output_type": "stream",
          "name": "stdout",
          "text": [
            "Writing test_init_vectors.cpp\n"
          ]
        }
      ]
    },
    {
      "cell_type": "code",
      "metadata": {
        "colab": {
          "base_uri": "https://localhost:8080/"
        },
        "id": "44gZcuE237-1",
        "outputId": "6220c0a8-41b0-4da6-a2ea-7f4413c1a7cb"
      },
      "source": [
        "!g++ test_init_vectors.cpp -o test_init_vectors\n",
        "!./test_init_vectors"
      ],
      "execution_count": null,
      "outputs": [
        {
          "output_type": "stream",
          "name": "stdout",
          "text": [
            "0000000000\n"
          ]
        }
      ]
    },
    {
      "cell_type": "code",
      "metadata": {
        "colab": {
          "base_uri": "https://localhost:8080/"
        },
        "id": "uG6Mv-Pwlkii",
        "outputId": "cdb5b458-a7b8-48b0-bc0a-69f5499cf744"
      },
      "source": [
        "%%writefile max_pairwise_product_long.cpp\n",
        "#include <iostream>\n",
        "#include <vector>\n",
        "#include <algorithm>\n",
        "using namespace std;\n",
        "\n",
        "long long MaxPairwiseProduct(const vector<int>& numbers) {                   //N inst exec by line executed \n",
        "    long long max_product = 0LL;                                             //1                                          \n",
        "\t  long long aux_product = 0LL;                                             //1 \n",
        "    int n = numbers.size();                                                  //1 \n",
        "                                                                             \n",
        "    for (int first = 0; first < n; ++first) {                                //1+2n  \n",
        "        for (int second = first + 1; second < n; ++second) {                 //n + (n-1)n \n",
        "\t\t\t       aux_product =  (long long) numbers[first] * numbers[second];    //(n-1)n/2 \n",
        "            if (max_product < aux_product)  {                                //(n-1)n/2 \n",
        "\t\t\t\t        max_product = aux_product;                                   //[0, (n-1)n/2] \n",
        "             }\n",
        "        }\n",
        "    }\n",
        "                                                                             // -------------- \n",
        "    return max_product;                                                      // 4 + 3n + [2(n-1)n, 2.5 (n-1)n] \n",
        "}\n",
        "\n",
        "int main() {                                              //N inst exec by line executed \n",
        "    int n;                                                //1  \n",
        "    cin >> n;                                             //1\n",
        "    vector<int> numbers(n);                               //n\n",
        "    for (int i = 0; i < n; ++i) {                         //1 + 2n\n",
        "        cin >> numbers[i];                                //n\n",
        "    }\n",
        "\n",
        "    cout << MaxPairwiseProduct(numbers) << \"\\n\";     //1 + 1  + 4 + 3n + [2(n-1)n, 2.5 (n-1)n]\n",
        "    return 0;                                             // -------------- \n",
        "}                                                         // 9 + 7n + [2(n-1)n, 2.5 (n-1)n]\n"
      ],
      "execution_count": null,
      "outputs": [
        {
          "output_type": "stream",
          "name": "stdout",
          "text": [
            "Overwriting max_pairwise_product_long.cpp\n"
          ]
        }
      ]
    },
    {
      "cell_type": "markdown",
      "metadata": {
        "id": "0vTsUg8OwcHs"
      },
      "source": [
        "Count executed intructions in code and verify with inputs 1, 2 and 3"
      ]
    },
    {
      "cell_type": "code",
      "metadata": {
        "colab": {
          "base_uri": "https://localhost:8080/"
        },
        "id": "CuRKkqQc137V",
        "outputId": "18340fb5-7575-44eb-c4b5-e841b9ef6548"
      },
      "source": [
        "%%writefile max_pairwise_product_long_execints.cpp\n",
        "#include <iostream>\n",
        "#include <vector>\n",
        "#include <algorithm>\n",
        "using namespace std;\n",
        "\n",
        "long long MaxPairwiseProduct(const vector<int>& numbers, long long &execints) {              //N inst exec by line executed \n",
        "    \n",
        "    long long m = 0LL;                                                       //1\n",
        "    \n",
        "    long long max_product = 0LL;                                             //1\n",
        "    execints++;\n",
        "\n",
        "\t  long long aux_product = 0LL;                                             //1\n",
        "    execints++;\n",
        "\n",
        "    int n = numbers.size();                                                  //1 \n",
        "    execints++;\n",
        "\n",
        "    execints++;                                                                         \n",
        "    for (int first = 0; first < n; ++first) {                                //1+2n  \n",
        "        execints += 2;\n",
        "\n",
        "        long long m = 0LL;\n",
        "\n",
        "        execints++;                                    \n",
        "        for (int second = first + 1; second < n; ++second) {                 //n+ (n-1)n \n",
        "            execints += 2;                                                \n",
        "\n",
        "\t\t\t      aux_product =  (long long) numbers[first] * numbers[second];    //(n-1)n/2 \n",
        "            execints++; \n",
        "\n",
        "            execints++; \n",
        "            if ( max_product < aux_product)  {                               //(n-1)n/2 \n",
        "                       \n",
        "\t\t\t\t        max_product = aux_product;                                   //[0, (n-1)n/2] \n",
        "                execints++; \n",
        "                m++;\n",
        "             }\n",
        "        }\n",
        "        if ( (first <= 10) || (n- first <= 10)) cout << m << \"\\n\";\n",
        "    }\n",
        "                                                                            // -------------- \n",
        "    return max_product;                                                     // 4 + 3n + [2(n-1)n, 2.5 (n-1)n] \n",
        "}\n",
        "\n",
        "int main() {                                                //N inst exec by line executed \n",
        "    long long execints = 0LL;\n",
        "\n",
        "    int n;                                                  //1\n",
        "    execints++;                                                              \n",
        "    \n",
        "    cin >> n;                                               //1\n",
        "    execints++;\n",
        "\n",
        "    vector<int> numbers(n);                                 //n\n",
        "    execints += n;\n",
        "    \n",
        "    execints++;\n",
        "    for (int i = 0; i < n; ++i) {                            //1 + 2n\n",
        "        execints += 2;\n",
        "\n",
        "        cin >> numbers[i];\n",
        "        execints++;                                          //n\n",
        "    }\n",
        "    \n",
        "    //cout << MaxPairwiseProduct(numbers) << \"\\n\";          //1 + 1  + 4 + 3n + [2(n-1)n, 2.5 (n-1)n]\n",
        "\n",
        "    execints++;\n",
        "    int M = MaxPairwiseProduct(numbers,execints);\n",
        "\n",
        "    execints++;\n",
        "    cout <<  execints << \"\\n\";                       \n",
        "    return 0;                                                // -------------- \n",
        "}                                                            // 9 + 7n + [2(n-1)n, 2.5 (n-1)n]"
      ],
      "execution_count": null,
      "outputs": [
        {
          "output_type": "stream",
          "name": "stdout",
          "text": [
            "Writing max_pairwise_product_long_execints.cpp\n"
          ]
        }
      ]
    },
    {
      "cell_type": "code",
      "metadata": {
        "id": "Kuvm1C05ly2a",
        "colab": {
          "base_uri": "https://localhost:8080/"
        },
        "outputId": "b6f2e297-433e-4b7e-fdd2-6b15f8316f1d"
      },
      "source": [
        "!g++ max_pairwise_product_long_execints.cpp -o max_pairwise_product_long_execints\n",
        "!./max_pairwise_product_long_execints < input1.txt\n",
        "!./max_pairwise_product_long_execints < input2.txt\n",
        "!./max_pairwise_product_long_execints < input3.txt"
      ],
      "execution_count": null,
      "outputs": [
        {
          "output_type": "stream",
          "name": "stdout",
          "text": [
            "9\n",
            "5\n",
            "4\n",
            "3\n",
            "2\n",
            "2\n",
            "2\n",
            "2\n",
            "1\n",
            "0\n",
            "289\n",
            "2\n",
            "1\n",
            "2\n",
            "0\n",
            "0\n",
            "0\n",
            "116\n",
            "199999\n",
            "100000\n",
            "66667\n",
            "50000\n",
            "40000\n",
            "33334\n",
            "28572\n",
            "25000\n",
            "22223\n",
            "20000\n",
            "18182\n",
            "5656\n",
            "555\n",
            "^C\n"
          ]
        }
      ]
    },
    {
      "cell_type": "markdown",
      "metadata": {
        "id": "L_uaamxeAHK7"
      },
      "source": [
        "The number of instructions executed by the algooirithm with a list of size $n$ is  \n",
        "\n",
        "$$T = 9 + 7n + [2(n-1)n, 2.5 (n-1)n]$$\n",
        "\n",
        "It depends on the size of the lists and  the order of the list.\n",
        "\n",
        "For the input1.txt \n",
        "```\n",
        "10\n",
        "1 2 3 4 5 6 7 8 9 10\n",
        "```\n",
        "$$T = 9 + 7(10) + 2(9)(10) +  9 + 5 + 4 + 3 + 2 + 2 + 2 + 2 + 1 + 0  = 289 $$\n",
        "\n",
        "For the input2.txt \n",
        "```\n",
        "6\n",
        "1 3 200000 9 200000 23\n",
        "```\n",
        "$$T = 9 + 7(6) + 2(5)(6)  +  2 + 1 + 2 + 0 + 0 + 0 = 116 $$\n",
        "\n",
        "\n",
        "For the input3.txt that is the worst case (n=200000 and list in incresing order)\n",
        "\n",
        "```\n",
        "200000\n",
        "1 2 3 4 5 6 7 8 9 10 ... 199998 199999 200000\n",
        "```\n",
        "\n",
        "$$\n",
        "\\begin{array}{ll}\n",
        "T &= 9 + 7(200000) + (2)(199999)(200000)  + (199999 +\n",
        "100000 + 66667 +50000 \\cdots 2 + 2 + 1)\\\\\n",
        "&= 80003672077  \\\\\n",
        "  &< 9 + 7(200000) + (2.5)(199999)(200000) \\\\\n",
        "  & = 100000900009\n",
        "\\end{array}\n",
        "  $$"
      ]
    },
    {
      "cell_type": "markdown",
      "metadata": {
        "id": "NXW7QkoBL6xH"
      },
      "source": [
        "Calculate estimated time by instruction and number of instructions by second"
      ]
    },
    {
      "cell_type": "code",
      "metadata": {
        "colab": {
          "base_uri": "https://localhost:8080/"
        },
        "id": "pKqB3i7dIxnc",
        "outputId": "ac7d5f0d-6740-44bb-c662-f96815f267a1"
      },
      "source": [
        "# Estimated time by instruction\n",
        "\n",
        "128/80003672077 \n"
      ],
      "execution_count": null,
      "outputs": [
        {
          "output_type": "execute_result",
          "data": {
            "text/plain": [
              "1.5999265618308827e-09"
            ]
          },
          "metadata": {},
          "execution_count": 22
        }
      ]
    },
    {
      "cell_type": "code",
      "metadata": {
        "colab": {
          "base_uri": "https://localhost:8080/"
        },
        "id": "18N1ouqeMhE1",
        "outputId": "5cbf6ca3-bd13-4fe3-a906-1c306ef9c6e2"
      },
      "source": [
        "# Estimated number of instructions by second\n",
        "\n",
        "1/(128/80003672077) "
      ],
      "execution_count": null,
      "outputs": [
        {
          "output_type": "execute_result",
          "data": {
            "text/plain": [
              "625028688.1015625"
            ]
          },
          "metadata": {},
          "execution_count": 23
        }
      ]
    },
    {
      "cell_type": "markdown",
      "metadata": {
        "id": "CQufozXLNJwO"
      },
      "source": [
        "### Efficient solution"
      ]
    },
    {
      "cell_type": "markdown",
      "metadata": {
        "id": "nLcKBwbU0QsE"
      },
      "source": [
        "Add in each line a coment with the number of intstrcution that are executed in that line"
      ]
    },
    {
      "cell_type": "code",
      "metadata": {
        "id": "knls5Fh3NSt_",
        "colab": {
          "base_uri": "https://localhost:8080/"
        },
        "outputId": "682d4d4b-c5f1-410a-a3e2-a1ec50464a03"
      },
      "source": [
        "%%writefile efficient_maximum_pairwise_product.cpp\n",
        "#include <iostream>\n",
        "#include <vector>\n",
        "#include <algorithm>\n",
        "using namespace std;\n",
        "\n",
        "int EfficientMaximumPairwiseProduct(int n, vector<long long> nums){\n",
        "    int maxn = 0;                                                               //1\n",
        "    int smaxn = 0;                                                              //1\n",
        "    for(int i = 0; i < n; i++){                                                 //n\n",
        "      if(nums[i] > maxn){                                                       //n\n",
        "        smaxn = maxn;                                                           //n\n",
        "        maxn = nums[i];                                                         //n\n",
        "      }else if(nums[i] > smaxn){                                                //n\n",
        "        smaxn = nums[i];                                                        //n\n",
        "      }\n",
        "    }\n",
        "    return smaxn*maxn;                                                          //1\n",
        "}                                                                               //O(6n+3)\n",
        "\n",
        "int main () {\n",
        "    int n;\n",
        "    cin >> n;\n",
        "    vector<long long> nums(n);\n",
        "    for(int i = 0; i < n; i++){                                                 //n\n",
        "        cin >> nums[i];                                                         //n\n",
        "    }\n",
        "\n",
        "    cout << \"Maximum pairwise product is: \" << EfficientMaximumPairwiseProduct(n, nums) << endl;\n",
        "}"
      ],
      "execution_count": null,
      "outputs": [
        {
          "output_type": "stream",
          "name": "stdout",
          "text": [
            "Writing efficient_maximum_pairwise_product.cpp\n"
          ]
        }
      ]
    },
    {
      "cell_type": "markdown",
      "metadata": {
        "id": "-JCijbWxNSii"
      },
      "source": [
        "Test with inputs 1 and 2\n",
        "\n"
      ]
    },
    {
      "cell_type": "code",
      "metadata": {
        "id": "TrTGAfqlNVXT",
        "colab": {
          "base_uri": "https://localhost:8080/"
        },
        "outputId": "b2500da2-90ca-420b-ce43-bef10aa60706"
      },
      "source": [
        "!g++ efficient_maximum_pairwise_product.cpp -o efficient_maximum_pairwise_product\n",
        "!time ./efficient_maximum_pairwise_product < input1.txt\n",
        "\n",
        "!g++ efficient_maximum_pairwise_product.cpp -o efficient_maximum_pairwise_product\n",
        "!time ./efficient_maximum_pairwise_product < input2.txt\n",
        "     "
      ],
      "execution_count": null,
      "outputs": [
        {
          "output_type": "stream",
          "name": "stdout",
          "text": [
            "Maximum pairwise product is: 90\n",
            "\n",
            "real\t0m0.002s\n",
            "user\t0m0.002s\n",
            "sys\t0m0.000s\n",
            "Maximum pairwise product is: 1345294336\n",
            "\n",
            "real\t0m0.002s\n",
            "user\t0m0.002s\n",
            "sys\t0m0.000s\n"
          ]
        }
      ]
    },
    {
      "cell_type": "markdown",
      "metadata": {
        "id": "PRX51wADNR8b"
      },
      "source": [
        "Test and time it with input 3"
      ]
    },
    {
      "cell_type": "code",
      "metadata": {
        "id": "v4z7-Is_NRt7",
        "colab": {
          "base_uri": "https://localhost:8080/"
        },
        "outputId": "d5b023d7-b01d-41ba-fe5f-93aa1c77314d"
      },
      "source": [
        "!g++ efficient_maximum_pairwise_product.cpp -o efficient_maximum_pairwise_product\n",
        "!time ./efficient_maximum_pairwise_product < input3.txt"
      ],
      "execution_count": null,
      "outputs": [
        {
          "output_type": "stream",
          "name": "stdout",
          "text": [
            "Maximum pairwise product is: 1345094336\n",
            "\n",
            "real\t0m0.066s\n",
            "user\t0m0.060s\n",
            "sys\t0m0.005s\n"
          ]
        }
      ]
    },
    {
      "cell_type": "markdown",
      "metadata": {
        "id": "rpdfs0_TNZJf"
      },
      "source": [
        "20 stress tests"
      ]
    },
    {
      "cell_type": "code",
      "metadata": {
        "id": "Lu4tYcKzNcTT",
        "colab": {
          "base_uri": "https://localhost:8080/"
        },
        "outputId": "647457ec-ee90-4f23-d13b-eaca5841ccd0"
      },
      "source": [
        "%%writefile efficient_maximum_pairwise_product_stress.cpp\n",
        "#include <iostream>\n",
        "#include <vector>\n",
        "#include <algorithm>\n",
        "#include <climits>\n",
        "using namespace std;\n",
        "\n",
        "int EfficientMaximumPairwiseProduct(int n, vector<long long> nums){\n",
        "    int maxn = 0;                                                               //1\n",
        "    int smaxn = 0;                                                              //1\n",
        "    for(int i = 0; i < n; i++){                                                 //n\n",
        "      if(nums[i] > maxn){                                                       //n\n",
        "        smaxn = maxn;                                                           //n\n",
        "        maxn = nums[i];                                                         //n\n",
        "      }else if(nums[i] > smaxn){                                                //n\n",
        "        smaxn = nums[i];                                                        //n\n",
        "      }\n",
        "    }\n",
        "    return smaxn*maxn;                                                          //1\n",
        "}                                                                               //O(6n+3)\n",
        "\n",
        "int main() {\n",
        "    srand(time(NULL));\n",
        "\n",
        "    for(int i = 0; i < 20; i++){\n",
        "      int n = rand() % 19 + 2;\n",
        "      vector<long long> nums(n);\n",
        "\n",
        "      for(int j = 0; j < n; j++){\n",
        "        nums[j] = rand() % LLONG_MAX + 1;\n",
        "      }\n",
        "\n",
        "      cout << \"Test \" << i << \": \";\n",
        "      for(int j = 0; j < n; j++){\n",
        "        cout << nums[j] << \" \";\n",
        "      }\n",
        "\n",
        "      cout << \"\\n\" << \"Maximum pairwise product is: \" << EfficientMaximumPairwiseProduct(n, nums) << endl;\n",
        "\n",
        "    }\n",
        "    return 0;\n",
        "}"
      ],
      "execution_count": null,
      "outputs": [
        {
          "output_type": "stream",
          "name": "stdout",
          "text": [
            "Writing efficient_maximum_pairwise_product_stress.cpp\n"
          ]
        }
      ]
    },
    {
      "cell_type": "code",
      "metadata": {
        "id": "dh85RM8vNhFz",
        "colab": {
          "base_uri": "https://localhost:8080/"
        },
        "outputId": "ec9f161d-76af-4f04-fa62-1aef4839b34b"
      },
      "source": [
        "!g++ efficient_maximum_pairwise_product_stress.cpp -o efficient_maximum_pairwise_product_stress\n",
        "!time ./efficient_maximum_pairwise_product_stress"
      ],
      "execution_count": null,
      "outputs": [
        {
          "output_type": "stream",
          "name": "stdout",
          "text": [
            "Test 0: 1839745509 967081131 \n",
            "Maximum pairwise product is: 384321527\n",
            "Test 1: 251737745 1584315994 1363568579 803078858 757065910 640392038 1838094661 1173539663 1083312609 821520437 \n",
            "Maximum pairwise product is: -357164990\n",
            "Test 2: 296305487 1313446186 219005156 243800308 1265287424 934032469 1594513864 1814384384 176000362 160935410 1992243686 \n",
            "Maximum pairwise product is: 1763441152\n",
            "Test 3: 1715778228 972420127 1557308011 1749216789 1518675429 1249569871 568814272 1075274182 1501307616 5646617 291359113 156902825 762712527 931751150 1994997485 1936252189 \n",
            "Maximum pairwise product is: -620316199\n",
            "Test 4: 669034274 908369428 163885597 1982480459 1127374583 407685904 1100284234 \n",
            "Maximum pairwise product is: -1241148835\n",
            "Test 5: 2002199767 767184969 89923765 15651528 611945007 361845604 1731429755 1584365133 1919153614 1333162896 955556913 1021239837 1901977167 2030831095 375063804 1907623783 174706559 531966628 522852661 1106457708 \n",
            "Maximum pairwise product is: 836812401\n",
            "Test 6: 311621202 974037818 1048514737 1219990629 1137923415 883511547 199881564 1545609318 1983795781 113804967 1400325437 603497101 203728731 1415976964 1215442107 565574334 999923071 652323592 337244300 185602318 \n",
            "Maximum pairwise product is: -71473282\n",
            "Test 7: 1358484136 2087579484 1491227950 1733547939 1847719618 1665934508 118030918 223088631 624908568 497511381 534709832 1598946385 1546026118 1754700460 \n",
            "Maximum pairwise product is: 1378732984\n",
            "Test 8: 282054016 1954582023 2134995469 118366148 2068386989 1387837257 721863249 124632071 656330572 1937305355 690206405 1656253642 442145298 1027450704 1841855959 \n",
            "Maximum pairwise product is: -522709303\n",
            "Test 9: 238451191 1781951794 1393770103 1971999129 1482187764 912220963 2090030046 1705276394 1537129530 440057778 92502577 988592266 1986083895 1847203036 1577978417 120654263 1654301411 \n",
            "Maximum pairwise product is: 1718422706\n",
            "Test 10: 239020410 1575204751 805843845 960883658 1699836822 1462174416 750705365 242559578 970944410 1192850662 1270010281 665316720 1095392815 1508461471 299784866 341679270 1332976951 1781972629 1253900232 1275523348 \n",
            "Maximum pairwise product is: -371877298\n",
            "Test 11: 643546113 1715581125 \n",
            "Maximum pairwise product is: -1206297403\n",
            "Test 12: 1632138378 1554181372 1131987337 1062633146 1674835634 638805099 480639734 1913856043 66526202 1286483578 727256053 1766363023 601174346 1477961417 \n",
            "Maximum pairwise product is: 381615365\n",
            "Test 13: 1572118755 523328430 1131449232 89951826 1618721245 492427054 389736691 1960400514 1825404004 \n",
            "Maximum pairwise product is: 1043509960\n",
            "Test 14: 1066817097 953443703 1363991044 1710363209 521541179 648775345 1195017938 \n",
            "Maximum pairwise product is: 1107718948\n",
            "Test 15: 1780762682 110167436 1603074535 272084132 590807169 1369446930 \n",
            "Maximum pairwise product is: 380999254\n",
            "Test 16: 1877290747 2096702982 2104973355 330981444 1427180750 1966412306 1903100198 1950509179 950377889 1993052023 \n",
            "Maximum pairwise product is: 1035301634\n",
            "Test 17: 1442804942 235305066 1234663640 1120725297 259530736 153997088 2074168999 1623521780 1864360296 448226530 124813476 911894586 376465431 \n",
            "Maximum pairwise product is: -287196456\n",
            "Test 18: 1022062021 1979539966 30176641 1612869189 1201503247 368786973 1342676287 1150722580 326276680 1673657730 430419681 145205337 1429274279 233445211 1095583226 1274842654 1655191986 390904519 1510147719 \n",
            "Maximum pairwise product is: 1862387964\n",
            "Test 19: 1511629816 1769678454 896369065 1438315166 1245716585 613245712 1886541695 \n",
            "Maximum pairwise product is: -290050422\n",
            "\n",
            "real\t0m0.003s\n",
            "user\t0m0.000s\n",
            "sys\t0m0.003s\n"
          ]
        }
      ]
    },
    {
      "cell_type": "markdown",
      "metadata": {
        "id": "L8U4151JNbxk"
      },
      "source": [
        "Count executed instructions in code and verify with inputs 1,2 and 3\n"
      ]
    },
    {
      "cell_type": "code",
      "source": [
        "%%writefile efficient_maximum_pairwise_product_exec.cpp\n",
        "#include <iostream>\n",
        "#include <vector>\n",
        "#include <algorithm>\n",
        "using namespace std;\n",
        "\n",
        "int EfficientMaximumPairwiseProduct(int n, vector<long long> nums){\n",
        "    int maxn = 0;                                                               //1\n",
        "    int smaxn = 0;                                                              //1\n",
        "    for(int i = 0; i < n; i++){                                                 //n\n",
        "      if(nums[i] > maxn){                                                       //n\n",
        "        smaxn = maxn;                                                           //n\n",
        "        maxn = nums[i];                                                         //n\n",
        "      }else if(nums[i] > smaxn){                                                //n\n",
        "        smaxn = nums[i];                                                        //n\n",
        "      }\n",
        "    }\n",
        "    return smaxn*maxn;                                                          //1\n",
        "}                                                                               //O(6n+3)\n",
        "\n",
        "int main () {\n",
        "    int n;\n",
        "    cin >> n;\n",
        "    vector<long long> nums(n);\n",
        "    for(int i = 0; i < n; i++){                                                 //n\n",
        "        cin >> nums[i];                                                         //n\n",
        "    }\n",
        "\n",
        "    cout << \"\\n\" << \"Instruction number: \" << 8*n+3 << endl;\n",
        "    cout << \"Maximum pairwise product is: \" << EfficientMaximumPairwiseProduct(n, nums) << endl;\n",
        "}"
      ],
      "metadata": {
        "colab": {
          "base_uri": "https://localhost:8080/"
        },
        "id": "7PewQemgrIG9",
        "outputId": "0bd49cb6-bcd7-4a21-e1bf-91ad76d24166"
      },
      "execution_count": null,
      "outputs": [
        {
          "output_type": "stream",
          "name": "stdout",
          "text": [
            "Writing efficient_maximum_pairwise_product_exec.cpp\n"
          ]
        }
      ]
    },
    {
      "cell_type": "code",
      "source": [
        "!g++ efficient_maximum_pairwise_product_exec.cpp -o efficient_maximum_pairwise_product_exec\n",
        "!time ./efficient_maximum_pairwise_product_exec < input1.txt\n",
        "\n",
        "!g++ efficient_maximum_pairwise_product_exec.cpp -o efficient_maximum_pairwise_product_exec\n",
        "!time ./efficient_maximum_pairwise_product_exec < input2.txt\n",
        "\n",
        "!g++ efficient_maximum_pairwise_product_exec.cpp -o efficient_maximum_pairwise_product_exec\n",
        "!time ./efficient_maximum_pairwise_product_exec < input3.txt"
      ],
      "metadata": {
        "colab": {
          "base_uri": "https://localhost:8080/"
        },
        "id": "1oOwD-pJrNGt",
        "outputId": "a38161cf-e96f-4bba-fa45-1fbae94ccfc3"
      },
      "execution_count": null,
      "outputs": [
        {
          "output_type": "stream",
          "name": "stdout",
          "text": [
            "\n",
            "Instruction number: 83\n",
            "Maximum pairwise product is: 90\n",
            "\n",
            "real\t0m0.002s\n",
            "user\t0m0.001s\n",
            "sys\t0m0.001s\n",
            "\n",
            "Instruction number: 51\n",
            "Maximum pairwise product is: 1345294336\n",
            "\n",
            "real\t0m0.003s\n",
            "user\t0m0.001s\n",
            "sys\t0m0.002s\n",
            "\n",
            "Instruction number: 1600003\n",
            "Maximum pairwise product is: 1345094336\n",
            "\n",
            "real\t0m0.060s\n",
            "user\t0m0.056s\n",
            "sys\t0m0.003s\n"
          ]
        }
      ]
    },
    {
      "cell_type": "markdown",
      "metadata": {
        "id": "K6ybgCmpNygr"
      },
      "source": [
        "Calculate estimated time by instruction and number of instructions by second"
      ]
    },
    {
      "cell_type": "code",
      "metadata": {
        "id": "kwe3G1O3Nz1w",
        "colab": {
          "base_uri": "https://localhost:8080/"
        },
        "outputId": "695dda00-e0d5-4763-e200-56515308dd3a"
      },
      "source": [
        "#Estimated time by instruction and number of instructions by second\n",
        "print(\"Estimated time by instruction\", \"\\t \\t\", \"Number of instructions by second\")\n",
        "print(\"Input 1: \", (83/0.003), \"\\t \\t\", 1/(83/0.003))\n",
        "print(\"Input 2: \", (51/0.001), \"\\t \\t \\t\", 1/(51/0.001))\n",
        "print(\"Input 3: \", (43/0.002), \"\\t \\t \\t\", 1/(43/0.002))"
      ],
      "execution_count": null,
      "outputs": [
        {
          "output_type": "stream",
          "name": "stdout",
          "text": [
            "Estimated time by instruction \t \t Number of instructions by second\n",
            "Input 1:  27666.666666666668 \t \t 3.614457831325301e-05\n",
            "Input 2:  51000.0 \t \t \t 1.9607843137254903e-05\n",
            "Input 3:  21500.0 \t \t \t 4.651162790697674e-05\n"
          ]
        }
      ]
    },
    {
      "cell_type": "markdown",
      "metadata": {
        "id": "sc9nOLQrfTm0"
      },
      "source": [
        "### Super efficient solution\n",
        "\n",
        "Whitout storing the list in memory and whitout calling a function, add in each line a coment with the number of intstrcution that are executed in that line "
      ]
    },
    {
      "cell_type": "code",
      "metadata": {
        "id": "hBLt_xBQLy8E",
        "colab": {
          "base_uri": "https://localhost:8080/"
        },
        "outputId": "32ce7254-f9c5-483f-a3cd-7d7458d3e58a"
      },
      "source": [
        "%%writefile super_efficient_maximum_pairwise_product.cpp\n",
        "#include <iostream>\n",
        "#include <vector>\n",
        "#include <algorithm>\n",
        "using namespace std;\n",
        "\n",
        "int main () {\n",
        "    int n;                                                                      //1\n",
        "    cin >> n;                                                                   //1\n",
        "    int maxn = 0;                                                               //1\n",
        "    int smaxn = 0;                                                              //1\n",
        "    for(int i = 0; i < n; i++){                                                 //n\n",
        "      int num;                                                                  //n\n",
        "      cin >> num;                                                               //n\n",
        "      if(num > maxn){                                                           //n\n",
        "        smaxn = maxn;                                                           //n\n",
        "        maxn = num;                                                             //n\n",
        "      }else if(num > smaxn){                                                    //n\n",
        "        smaxn = num;                                                            //n\n",
        "      }\n",
        "    }\n",
        "    cout << \"Maximum pairwise product is: \" << smaxn*maxn << endl;              //1\n",
        "}                                                                               //O(8*n+4)"
      ],
      "execution_count": null,
      "outputs": [
        {
          "output_type": "stream",
          "name": "stdout",
          "text": [
            "Writing super_efficient_maximum_pairwise_product.cpp\n"
          ]
        }
      ]
    },
    {
      "cell_type": "markdown",
      "metadata": {
        "id": "683gc3roHqzb"
      },
      "source": [
        "Test with inputs 1 and 2\n",
        "\n",
        "\n",
        " "
      ]
    },
    {
      "cell_type": "code",
      "metadata": {
        "id": "b7d4LA8OIc2_",
        "colab": {
          "base_uri": "https://localhost:8080/"
        },
        "outputId": "650e3ddb-e3dd-46dc-e77d-ce68d8180440"
      },
      "source": [
        "!g++ super_efficient_maximum_pairwise_product.cpp -o super_efficient_maximum_pairwise_product\n",
        "!time ./super_efficient_maximum_pairwise_product < input1.txt\n",
        "\n",
        "!g++ super_efficient_maximum_pairwise_product.cpp -o super_efficient_maximum_pairwise_product\n",
        "!time ./super_efficient_maximum_pairwise_product < input2.txt"
      ],
      "execution_count": null,
      "outputs": [
        {
          "output_type": "stream",
          "name": "stdout",
          "text": [
            "Maximum pairwise product is: 90\n",
            "\n",
            "real\t0m0.003s\n",
            "user\t0m0.003s\n",
            "sys\t0m0.000s\n",
            "Maximum pairwise product is: 1345294336\n",
            "\n",
            "real\t0m0.005s\n",
            "user\t0m0.002s\n",
            "sys\t0m0.000s\n"
          ]
        }
      ]
    },
    {
      "cell_type": "markdown",
      "metadata": {
        "id": "36Ugn1odIeJz"
      },
      "source": [
        "Test and time it with input 3"
      ]
    },
    {
      "cell_type": "code",
      "metadata": {
        "id": "jDyMbCnxHqSN",
        "colab": {
          "base_uri": "https://localhost:8080/"
        },
        "outputId": "d012ac3a-52fe-4b8a-ffea-de17560fe257"
      },
      "source": [
        "!g++ super_efficient_maximum_pairwise_product.cpp -o super_efficient_maximum_pairwise_product\n",
        "!time ./super_efficient_maximum_pairwise_product < input3.txt"
      ],
      "execution_count": null,
      "outputs": [
        {
          "output_type": "stream",
          "name": "stdout",
          "text": [
            "Maximum pairwise product is: 1345094336\n",
            "\n",
            "real\t0m0.054s\n",
            "user\t0m0.052s\n",
            "sys\t0m0.001s\n"
          ]
        }
      ]
    },
    {
      "cell_type": "markdown",
      "metadata": {
        "id": "bhqiKQG6fjKM"
      },
      "source": [
        "20 stress tests "
      ]
    },
    {
      "cell_type": "code",
      "metadata": {
        "id": "2KsiXKhALzwm",
        "colab": {
          "base_uri": "https://localhost:8080/"
        },
        "outputId": "e33cf980-dd9b-4460-bfa9-b30860b63a45"
      },
      "source": [
        "%%writefile super_efficient_maximum_pairwise_product_stress.cpp\n",
        "#include <iostream>\n",
        "#include <vector>\n",
        "#include <algorithm>\n",
        "#include <climits>\n",
        "using namespace std;\n",
        "\n",
        "int main () {\n",
        "    srand(time(NULL));                                                          //1\n",
        "    for(int i = 0; i < 20; i++){                                                //t = 20\n",
        "        int maxn = 0;                                                               //1\n",
        "        int smaxn = 0;                                                              //1\n",
        "        int n = rand() % 19 + 2;                                                    //t\n",
        "        for(int j = 0; j < n; j++){                                                   //t*n\n",
        "          int num;                                                                    //t*n\n",
        "          num = rand() % LLONG_MAX + 1;                                               //t*n\n",
        "          if(num > maxn){                                                             //t*n\n",
        "            smaxn = maxn;                                                             //t*n\n",
        "            maxn = num;                                                               //t*n\n",
        "          }else if(num > smaxn){                                                      //t*n\n",
        "            smaxn = num;                                                              //t*n\n",
        "          }\n",
        "        }\n",
        "        cout << \"Maximum pairwise product is: \" << smaxn*maxn << endl;              //1\n",
        "    }\n",
        "    return 0;\n",
        "}                                                                               //O(9*n+4)"
      ],
      "execution_count": null,
      "outputs": [
        {
          "output_type": "stream",
          "name": "stdout",
          "text": [
            "Writing super_efficient_maximum_pairwise_product_stress.cpp\n"
          ]
        }
      ]
    },
    {
      "cell_type": "code",
      "source": [
        "!g++ super_efficient_maximum_pairwise_product_stress.cpp -o super_efficient_maximum_pairwise_product_stress\n",
        "!time ./super_efficient_maximum_pairwise_product_stress"
      ],
      "metadata": {
        "colab": {
          "base_uri": "https://localhost:8080/"
        },
        "id": "K_0YhQv3rmM6",
        "outputId": "78168ae8-69d5-4e07-c2f1-f96f03db9c1c"
      },
      "execution_count": null,
      "outputs": [
        {
          "output_type": "stream",
          "name": "stdout",
          "text": [
            "Maximum pairwise product is: -424906816\n",
            "Maximum pairwise product is: -1122688640\n",
            "Maximum pairwise product is: 616597554\n",
            "Maximum pairwise product is: 269756580\n",
            "Maximum pairwise product is: 1340954880\n",
            "Maximum pairwise product is: 1201715887\n",
            "Maximum pairwise product is: -1678879936\n",
            "Maximum pairwise product is: 317142814\n",
            "Maximum pairwise product is: 2042597876\n",
            "Maximum pairwise product is: 115673762\n",
            "Maximum pairwise product is: -1317852885\n",
            "Maximum pairwise product is: -306621586\n",
            "Maximum pairwise product is: -323927172\n",
            "Maximum pairwise product is: 1381523944\n",
            "Maximum pairwise product is: -1954369870\n",
            "Maximum pairwise product is: -214944010\n",
            "Maximum pairwise product is: -1283857888\n",
            "Maximum pairwise product is: -602992444\n",
            "Maximum pairwise product is: -1612530720\n",
            "Maximum pairwise product is: -1259426898\n",
            "\n",
            "real\t0m0.003s\n",
            "user\t0m0.001s\n",
            "sys\t0m0.001s\n"
          ]
        }
      ]
    },
    {
      "cell_type": "markdown",
      "metadata": {
        "id": "fEXj8GHJH5p1"
      },
      "source": [
        "Count executed instructions in code and verify with inputs 1,2 and 3"
      ]
    },
    {
      "cell_type": "code",
      "metadata": {
        "id": "LF1DHjKXIAsF",
        "colab": {
          "base_uri": "https://localhost:8080/"
        },
        "outputId": "95c6220e-bd3c-47c1-93a1-95c19a6d3b5a"
      },
      "source": [
        "%%writefile super_efficient_maximum_pairwise_product.cpp\n",
        "#include <iostream>\n",
        "#include <vector>\n",
        "#include <algorithm>\n",
        "using namespace std;\n",
        "\n",
        "int main () {\n",
        "    int n;                                                                      //1\n",
        "    cin >> n;                                                                   //1\n",
        "    int maxn = 0;                                                               //1\n",
        "    int smaxn = 0;                                                              //1\n",
        "    for(int i = 0; i < n; i++){                                                 //n\n",
        "      int num;                                                                  //n\n",
        "      cin >> num;                                                               //n\n",
        "      if(num > maxn){                                                           //n\n",
        "        smaxn = maxn;                                                           //n\n",
        "        maxn = num;                                                             //n\n",
        "      }else if(num > smaxn){                                                    //n\n",
        "        smaxn = num;                                                            //n\n",
        "      }\n",
        "    }\n",
        "    cout << \"\\n\" << \"Instruction number: \" << 8*n+3 << endl;                    //1\n",
        "    cout << \"Maximum pairwise product is: \" << smaxn*maxn << endl;              //1\n",
        "}                                                                               //O(8*n+6)"
      ],
      "execution_count": null,
      "outputs": [
        {
          "output_type": "stream",
          "name": "stdout",
          "text": [
            "Overwriting super_efficient_maximum_pairwise_product.cpp\n"
          ]
        }
      ]
    },
    {
      "cell_type": "code",
      "source": [
        "!g++ super_efficient_maximum_pairwise_product.cpp -o super_efficient_maximum_pairwise_product\n",
        "!time ./super_efficient_maximum_pairwise_product < input1.txt\n",
        "\n",
        "!g++ super_efficient_maximum_pairwise_product.cpp -o super_efficient_maximum_pairwise_product\n",
        "!time ./super_efficient_maximum_pairwise_product < input2.txt\n",
        "\n",
        "!g++ super_efficient_maximum_pairwise_product.cpp -o super_efficient_maximum_pairwise_product\n",
        "!time ./super_efficient_maximum_pairwise_product < input3.txt"
      ],
      "metadata": {
        "colab": {
          "base_uri": "https://localhost:8080/"
        },
        "id": "Bhv8gLgJrusi",
        "outputId": "3feba09a-62de-4278-bb5d-af2d31ae4aed"
      },
      "execution_count": null,
      "outputs": [
        {
          "output_type": "stream",
          "name": "stdout",
          "text": [
            "\n",
            "Instruction number: 83\n",
            "Maximum pairwise product is: 90\n",
            "\n",
            "real\t0m0.002s\n",
            "user\t0m0.000s\n",
            "sys\t0m0.002s\n",
            "\n",
            "Instruction number: 51\n",
            "Maximum pairwise product is: 1345294336\n",
            "\n",
            "real\t0m0.003s\n",
            "user\t0m0.002s\n",
            "sys\t0m0.000s\n",
            "\n",
            "Instruction number: 1600003\n",
            "Maximum pairwise product is: 1345094336\n",
            "\n",
            "real\t0m0.097s\n",
            "user\t0m0.092s\n",
            "sys\t0m0.001s\n"
          ]
        }
      ]
    },
    {
      "cell_type": "markdown",
      "metadata": {
        "id": "yae7sSm2IG9U"
      },
      "source": [
        "Calculate estimated time by instruction and number of instructions by second"
      ]
    },
    {
      "cell_type": "code",
      "metadata": {
        "id": "suouY7BYL2dz",
        "colab": {
          "base_uri": "https://localhost:8080/"
        },
        "outputId": "8a45d1aa-7cfe-4a5a-bb1d-e6678a6c7cbf"
      },
      "source": [
        "#Estimated time by instruction and number of instructions by second\n",
        "print(\"Estimated time by instruction\", \"\\t \\t\", \"Number of instructions by second\")\n",
        "print(\"Input 1: \", (83/0.002), \"\\t \\t \\t\", 1/(83/0.002))\n",
        "print(\"Input 2: \", (51/0.003), \"\\t \\t \\t\", 1/(51/0.003))\n",
        "print(\"Input 3: \", (43/0.004), \"\\t \\t \\t\", 1/(43/0.004))"
      ],
      "execution_count": null,
      "outputs": [
        {
          "output_type": "stream",
          "name": "stdout",
          "text": [
            "Estimated time by instruction \t \t Number of instructions by second\n",
            "Input 1:  41500.0 \t \t \t 2.4096385542168674e-05\n",
            "Input 2:  17000.0 \t \t \t 5.882352941176471e-05\n",
            "Input 3:  10750.0 \t \t \t 9.302325581395348e-05\n"
          ]
        }
      ]
    },
    {
      "cell_type": "markdown",
      "metadata": {
        "id": "LkVxxlhl9H98"
      },
      "source": [
        "# Codeforces problem https://codeforces.com/contest/1619/problem/A \n",
        "\n",
        "Solve the problem in Colab, submit the solution to Codeforces and add a screenshoot of the submission."
      ]
    },
    {
      "cell_type": "markdown",
      "source": [
        "My profile: \n",
        "\n",
        "\n"
      ],
      "metadata": {
        "id": "92doxS2Xpxjv"
      }
    },
    {
      "cell_type": "markdown",
      "source": [
        "Submitted code:\n"
      ],
      "metadata": {
        "id": "7335vJ-iomrG"
      }
    },
    {
      "cell_type": "markdown",
      "source": [
        "Submission proof:\n"
      ],
      "metadata": {
        "id": "2SCv-jBqozKf"
      }
    }
  ]
}