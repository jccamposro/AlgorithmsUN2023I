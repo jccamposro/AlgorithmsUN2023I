{
  "nbformat": 4,
  "nbformat_minor": 0,
  "metadata": {
    "colab": {
      "provenance": [],
      "include_colab_link": true
    },
    "kernelspec": {
      "name": "python3",
      "display_name": "Python 3"
    },
    "language_info": {
      "name": "python"
    }
  },
  "cells": [
    {
      "cell_type": "markdown",
      "metadata": {
        "id": "view-in-github",
        "colab_type": "text"
      },
      "source": [
        "<a href=\"https://colab.research.google.com/github/jccamposro/AlgorithmsUN2023I/blob/main/Lab4/jccamposroGroup6Lab4.ipynb\" target=\"_parent\"><img src=\"https://colab.research.google.com/assets/colab-badge.svg\" alt=\"Open In Colab\"/></a>"
      ]
    },
    {
      "cell_type": "markdown",
      "metadata": {
        "id": "N1ok_-56OjB1"
      },
      "source": [
        "# I Solving the Sum of Two Digits Programming Challenge"
      ]
    },
    {
      "cell_type": "markdown",
      "metadata": {
        "id": "MMY7kmDSO0KM"
      },
      "source": [
        "## C++"
      ]
    },
    {
      "cell_type": "code",
      "metadata": {
        "colab": {
          "base_uri": "https://localhost:8080/"
        },
        "id": "2pGGf9BkPNIk",
        "outputId": "8dbef20b-f87d-4470-e6ae-cc2d76d68d7f"
      },
      "source": [
        "%%writefile APlusB.cpp\n",
        "#include <iostream>\n",
        "using namespace std;\n",
        "\n",
        "int sum_of_two_digits(int first_digit, int second_digit) {\n",
        "    return first_digit + second_digit;\n",
        "}\n",
        "\n",
        "int main() {\n",
        "    int a = 0;\n",
        "    int b = 0;\n",
        "    cin >> a;\n",
        "    cin >> b;\n",
        "    cout << sum_of_two_digits(a, b);\n",
        "    return 0;\n",
        "}"
      ],
      "execution_count": null,
      "outputs": [
        {
          "output_type": "stream",
          "name": "stdout",
          "text": [
            "Writing APlusB.cpp\n"
          ]
        }
      ]
    },
    {
      "cell_type": "code",
      "metadata": {
        "colab": {
          "base_uri": "https://localhost:8080/"
        },
        "id": "0G3ZKOYAPXSU",
        "outputId": "2b784e51-293f-4826-b696-c4dd06eab9d3"
      },
      "source": [
        "!g++ APlusB.cpp -o APlusB\n",
        "!./APlusB"
      ],
      "execution_count": null,
      "outputs": [
        {
          "output_type": "stream",
          "name": "stdout",
          "text": [
            "\n",
            "\n",
            "8989 6565\n",
            "15554"
          ]
        }
      ]
    },
    {
      "cell_type": "markdown",
      "metadata": {
        "id": "iNkG2HqfTl9c"
      },
      "source": [
        "### Test input output files"
      ]
    },
    {
      "cell_type": "code",
      "metadata": {
        "colab": {
          "base_uri": "https://localhost:8080/"
        },
        "id": "aTzU2efzMxly",
        "outputId": "0fe3ae20-9086-49f0-c22b-2980aef37935"
      },
      "source": [
        "%%writefile input1.txt\n",
        "3 23"
      ],
      "execution_count": null,
      "outputs": [
        {
          "output_type": "stream",
          "name": "stdout",
          "text": [
            "Writing input1.txt\n"
          ]
        }
      ]
    },
    {
      "cell_type": "markdown",
      "metadata": {
        "id": "pdkfsvs-T0Wr"
      },
      "source": []
    },
    {
      "cell_type": "code",
      "metadata": {
        "colab": {
          "base_uri": "https://localhost:8080/"
        },
        "id": "zBJ0Gc0NQRet",
        "outputId": "b22b1cf9-e0fa-43cc-a1d6-54eb5348e8fe"
      },
      "source": [
        "%%writefile output1.txt\n",
        "26"
      ],
      "execution_count": null,
      "outputs": [
        {
          "output_type": "stream",
          "name": "stdout",
          "text": [
            "Writing output1.txt\n"
          ]
        }
      ]
    },
    {
      "cell_type": "code",
      "metadata": {
        "colab": {
          "base_uri": "https://localhost:8080/"
        },
        "id": "IjEcIx63PJAN",
        "outputId": "aca4bc84-1cd2-4893-be8d-faf69691041f"
      },
      "source": [
        "%%writefile input2.txt\n",
        "-8 3"
      ],
      "execution_count": null,
      "outputs": [
        {
          "output_type": "stream",
          "name": "stdout",
          "text": [
            "Writing input2.txt\n"
          ]
        }
      ]
    },
    {
      "cell_type": "code",
      "metadata": {
        "colab": {
          "base_uri": "https://localhost:8080/"
        },
        "id": "Up9gOrxURTmd",
        "outputId": "3151f2db-7d3a-45bb-960e-0b44e700ccd3"
      },
      "source": [
        "%%writefile output2.txt\n",
        "7"
      ],
      "execution_count": null,
      "outputs": [
        {
          "output_type": "stream",
          "name": "stdout",
          "text": [
            "Writing output2.txt\n"
          ]
        }
      ]
    },
    {
      "cell_type": "code",
      "metadata": {
        "colab": {
          "base_uri": "https://localhost:8080/"
        },
        "id": "PST6G-s-Pwgc",
        "outputId": "16ede5ca-c841-486c-af4c-7c584d0995da"
      },
      "source": [
        "!./APlusB < input1.txt"
      ],
      "execution_count": null,
      "outputs": [
        {
          "output_type": "stream",
          "name": "stdout",
          "text": [
            "26"
          ]
        }
      ]
    },
    {
      "cell_type": "code",
      "metadata": {
        "colab": {
          "base_uri": "https://localhost:8080/"
        },
        "id": "cKxZOjSlRfIN",
        "outputId": "e07171d0-870e-4913-a7a0-6b08e8bc47fb"
      },
      "source": [
        "!./APlusB < input2.txt"
      ],
      "execution_count": null,
      "outputs": [
        {
          "output_type": "stream",
          "name": "stdout",
          "text": [
            "-5"
          ]
        }
      ]
    },
    {
      "cell_type": "markdown",
      "metadata": {
        "id": "Qw2TQWCCUwqk"
      },
      "source": [
        "### Comparing files with grep\n",
        "\n",
        "https://askubuntu.com/questions/546796/comparing-two-text-files"
      ]
    },
    {
      "cell_type": "code",
      "metadata": {
        "id": "WVIaAmMKU4QM"
      },
      "source": [
        "!grep -xvFf output1.txt output1.txt "
      ],
      "execution_count": null,
      "outputs": []
    },
    {
      "cell_type": "code",
      "metadata": {
        "colab": {
          "base_uri": "https://localhost:8080/"
        },
        "id": "MQU8gPPjQuYO",
        "outputId": "cd1b4109-c809-4d7a-9802-312f1431672a"
      },
      "source": [
        "!grep -xvFf output1.txt output2.txt "
      ],
      "execution_count": null,
      "outputs": [
        {
          "output_type": "stream",
          "name": "stdout",
          "text": [
            "7\n"
          ]
        }
      ]
    },
    {
      "cell_type": "code",
      "metadata": {
        "colab": {
          "base_uri": "https://localhost:8080/"
        },
        "id": "jYL9OuYBTD_l",
        "outputId": "516571db-2a5b-4288-cd87-645d6d5498cd"
      },
      "source": [
        "!grep -xvFf output2.txt output1.txt "
      ],
      "execution_count": null,
      "outputs": [
        {
          "output_type": "stream",
          "name": "stdout",
          "text": [
            "26\n"
          ]
        }
      ]
    },
    {
      "cell_type": "code",
      "metadata": {
        "id": "Jlja0Xm4TX9M"
      },
      "source": [
        "!./APlusB < input1.txt> ctest1.txt\n",
        "!grep -xvFf output1.txt ctest1.txt"
      ],
      "execution_count": null,
      "outputs": []
    },
    {
      "cell_type": "code",
      "metadata": {
        "id": "g9OIUZA_QLCQ",
        "colab": {
          "base_uri": "https://localhost:8080/"
        },
        "outputId": "260ffb32-b849-4d9d-c1a9-fd0bac453084"
      },
      "source": [
        "!./APlusB < input2.txt > ctest2.txt\n",
        "!grep -xvFf output2.txt ctest2.txt"
      ],
      "execution_count": null,
      "outputs": [
        {
          "output_type": "stream",
          "name": "stdout",
          "text": [
            "-5\n"
          ]
        }
      ]
    },
    {
      "cell_type": "markdown",
      "metadata": {
        "id": "3BgOaDjUVJk6"
      },
      "source": [
        "## Python"
      ]
    },
    {
      "cell_type": "code",
      "metadata": {
        "colab": {
          "base_uri": "https://localhost:8080/"
        },
        "id": "DBvl-T0CTN_8",
        "outputId": "f433a07e-ad06-4c89-bc8b-e4d957a31d3f"
      },
      "source": [
        "%%writefile sum.py\n",
        "# python3\n",
        "\n",
        "def sum_of_two_digits(first_digit, second_digit):\n",
        "    return first_digit + second_digit\n",
        "\n",
        "if __name__ == '__main__':\n",
        "    a, b = map(int, input().split())\n",
        "    print(sum_of_two_digits(a, b))"
      ],
      "execution_count": null,
      "outputs": [
        {
          "output_type": "stream",
          "name": "stdout",
          "text": [
            "Writing sum.py\n"
          ]
        }
      ]
    },
    {
      "cell_type": "code",
      "metadata": {
        "colab": {
          "base_uri": "https://localhost:8080/"
        },
        "id": "QKoKM11_WGyF",
        "outputId": "1cb0f2c4-40ea-4dd3-cc60-887f2b604c51"
      },
      "source": [
        "!python sum.py"
      ],
      "execution_count": null,
      "outputs": [
        {
          "output_type": "stream",
          "name": "stdout",
          "text": [
            "5 8\n",
            "13\n"
          ]
        }
      ]
    },
    {
      "cell_type": "code",
      "metadata": {
        "id": "cocFbPRTWrqt"
      },
      "source": [
        "!python sum.py  < input1.txt> ptest1.txt\n",
        "!grep -xvFf output1.txt ptest1.txt"
      ],
      "execution_count": null,
      "outputs": []
    },
    {
      "cell_type": "code",
      "metadata": {
        "id": "MorKTa-XXASN",
        "colab": {
          "base_uri": "https://localhost:8080/"
        },
        "outputId": "50da3c6b-7a8b-4225-d80c-373abf2ce786"
      },
      "source": [
        "!python sum.py  < input2.txt> ptest2.txt\n",
        "!grep -xvFf output2.txt ptest2.txt"
      ],
      "execution_count": null,
      "outputs": [
        {
          "output_type": "stream",
          "name": "stdout",
          "text": [
            "\n",
            "-5\n"
          ]
        }
      ]
    },
    {
      "cell_type": "markdown",
      "metadata": {
        "id": "uvP-mOubW_5F"
      },
      "source": [
        "# II Solving The Maximum Pairwise Product Programming Challenge in C++"
      ]
    },
    {
      "cell_type": "markdown",
      "metadata": {
        "id": "C12yoFR6Xonl"
      },
      "source": [
        "## C++"
      ]
    },
    {
      "cell_type": "code",
      "metadata": {
        "colab": {
          "base_uri": "https://localhost:8080/"
        },
        "id": "YL4qJX3tXxdd",
        "outputId": "8d8d09c4-d747-4f37-82f6-847196f85f1a"
      },
      "source": [
        "%%writefile max_pairwise_product.cpp\n",
        "#include <iostream>\n",
        "#include <vector>\n",
        "#include <algorithm>\n",
        "using namespace std;\n",
        "\n",
        "int MaxPairwiseProduct(const vector<int>& numbers) {\n",
        "    int max_product = 0;\n",
        "    int n = numbers.size();\n",
        "\n",
        "    for (int first = 0; first < n; ++first) {\n",
        "        for (int second = first + 1; second < n; ++second) {\n",
        "            max_product = max(max_product, numbers[first] * numbers[second]);\n",
        "        }\n",
        "    }\n",
        "\n",
        "    return max_product;\n",
        "}\n",
        "\n",
        "int main() {\n",
        "    int n;\n",
        "    cin >> n;\n",
        "    vector<int> numbers(n);\n",
        "    for (int i = 0; i < n; ++i) {\n",
        "        cin >> numbers[i];\n",
        "    }\n",
        "\n",
        "    cout << \"\\n\" << MaxPairwiseProduct(numbers) << \"\\n\";\n",
        "    return 0;\n",
        "}\n"
      ],
      "execution_count": null,
      "outputs": [
        {
          "output_type": "stream",
          "name": "stdout",
          "text": [
            "Writing max_pairwise_product.cpp\n"
          ]
        }
      ]
    },
    {
      "cell_type": "code",
      "metadata": {
        "colab": {
          "base_uri": "https://localhost:8080/"
        },
        "id": "KGxaEjvWX__O",
        "outputId": "e6602a26-5af0-4873-ded8-87b0b7c8b1a4"
      },
      "source": [
        "!g++ max_pairwise_product.cpp -o max_pairwise_product\n",
        "!./max_pairwise_product"
      ],
      "execution_count": null,
      "outputs": [
        {
          "output_type": "stream",
          "name": "stdout",
          "text": [
            "5\n",
            "45 48 69 2222 5\n",
            "\n",
            "153318\n"
          ]
        }
      ]
    },
    {
      "cell_type": "markdown",
      "metadata": {
        "id": "e7KhxHGNS3i0"
      },
      "source": [
        "### Test 1: Small numbers"
      ]
    },
    {
      "cell_type": "code",
      "metadata": {
        "colab": {
          "base_uri": "https://localhost:8080/"
        },
        "id": "e1mmTzBgShT-",
        "outputId": "78451a7d-7165-49aa-eaf9-60f2431a4cd0"
      },
      "source": [
        "%%writefile input1.txt\n",
        "10\n",
        "1 2 3 4 5 6 7 8 9 10"
      ],
      "execution_count": null,
      "outputs": [
        {
          "output_type": "stream",
          "name": "stdout",
          "text": [
            "Overwriting input1.txt\n"
          ]
        }
      ]
    },
    {
      "cell_type": "code",
      "metadata": {
        "colab": {
          "base_uri": "https://localhost:8080/"
        },
        "id": "vy_uI0x7TCId",
        "outputId": "db6a379a-8995-4eaa-8fa7-7800f25314dd"
      },
      "source": [
        "!./max_pairwise_product < input1.txt"
      ],
      "execution_count": null,
      "outputs": [
        {
          "output_type": "stream",
          "name": "stdout",
          "text": [
            "\n",
            "90\n"
          ]
        }
      ]
    },
    {
      "cell_type": "markdown",
      "metadata": {
        "id": "IeZ3kTjpYmR9"
      },
      "source": [
        "### Test 2: largest input numbers 200000 200000 in the input"
      ]
    },
    {
      "cell_type": "code",
      "metadata": {
        "colab": {
          "base_uri": "https://localhost:8080/"
        },
        "id": "LQNlZqaqYt7U",
        "outputId": "cb897c07-f6e9-478f-dcb2-ee3fb26660a8"
      },
      "source": [
        "%%writefile input2.txt\n",
        "6\n",
        "1 3 200000 9 200000 23"
      ],
      "execution_count": null,
      "outputs": [
        {
          "output_type": "stream",
          "name": "stdout",
          "text": [
            "Overwriting input2.txt\n"
          ]
        }
      ]
    },
    {
      "cell_type": "code",
      "metadata": {
        "colab": {
          "base_uri": "https://localhost:8080/"
        },
        "id": "2Wad2VZUZDxR",
        "outputId": "5d8338a6-7f4b-4464-f35e-1994ea9993a9"
      },
      "source": [
        "!./max_pairwise_product < input2.txt"
      ],
      "execution_count": null,
      "outputs": [
        {
          "output_type": "stream",
          "name": "stdout",
          "text": [
            "\n",
            "1345294336\n"
          ]
        }
      ]
    },
    {
      "cell_type": "markdown",
      "metadata": {
        "id": "H2SC0Qt5HCzz"
      },
      "source": [
        "Changing the variables to long long"
      ]
    },
    {
      "cell_type": "code",
      "metadata": {
        "colab": {
          "base_uri": "https://localhost:8080/"
        },
        "id": "MPcmsxiQZSfE",
        "outputId": "6728faf5-1fe0-4101-bfc1-0060beb71478"
      },
      "source": [
        "%%writefile max_pairwise_product_long.cpp\n",
        "#include <iostream>\n",
        "#include <vector>\n",
        "#include <algorithm>\n",
        "using namespace std;\n",
        "\n",
        "long long MaxPairwiseProduct(const vector<int>& numbers) {\n",
        "    long long max_product = 0LL;\n",
        "\t  long long aux_product = 0LL;\n",
        "    int n = numbers.size();\n",
        "\n",
        "    for (int first = 0; first < n; ++first) {\n",
        "        for (int second = first + 1; second < n; ++second) {\n",
        "\t\t\t       aux_product =  (long long) numbers[first] * numbers[second];\n",
        "            if ( max_product < aux_product)  {\n",
        "\t\t\t\t        max_product = aux_product;\n",
        "             }\n",
        "        }\n",
        "    }\n",
        "\n",
        "    return max_product;\n",
        "}\n",
        "\n",
        "int main() {\n",
        "    int n;\n",
        "    cin >> n;\n",
        "    vector<int> numbers(n);\n",
        "    for (int i = 0; i < n; ++i) {\n",
        "        cin >> numbers[i];\n",
        "    }\n",
        "\n",
        "    cout << MaxPairwiseProduct(numbers) << \"\\n\";\n",
        "    return 0;\n",
        "}\n"
      ],
      "execution_count": null,
      "outputs": [
        {
          "output_type": "stream",
          "name": "stdout",
          "text": [
            "Writing max_pairwise_product_long.cpp\n"
          ]
        }
      ]
    },
    {
      "cell_type": "code",
      "metadata": {
        "colab": {
          "base_uri": "https://localhost:8080/"
        },
        "id": "I5pCeOG1Zm7s",
        "outputId": "d0be7a35-932d-4d06-ae8f-baf53c9176f5"
      },
      "source": [
        "!g++ max_pairwise_product_long.cpp -o max_pairwise_product_long\n",
        "!./max_pairwise_product_long < input1.txt\n",
        "!./max_pairwise_product_long < input2.txt"
      ],
      "execution_count": null,
      "outputs": [
        {
          "output_type": "stream",
          "name": "stdout",
          "text": [
            "90\n",
            "40000000000\n"
          ]
        }
      ]
    },
    {
      "cell_type": "markdown",
      "metadata": {
        "id": "XPVHkHxH6_7s"
      },
      "source": [
        "### Test 3  stress tests 20  times  random n in [2, 20] "
      ]
    },
    {
      "cell_type": "code",
      "metadata": {
        "id": "PwqpBmYr69fu",
        "colab": {
          "base_uri": "https://localhost:8080/"
        },
        "outputId": "4c230a45-39d6-49ce-9f82-acbcb18f9836"
      },
      "source": [
        "%%writefile max_pairwise_product_long_test3.cpp\n",
        "#include <iostream>\n",
        "#include <vector>\n",
        "#include <algorithm>\n",
        "#include <climits>\n",
        "using namespace std;\n",
        "\n",
        "long long MaxPairwiseProduct(const vector<int>& numbers) {\n",
        "    long long max_product = 0LL;\n",
        "\t  long long aux_product = 0LL;\n",
        "    int n = numbers.size();\n",
        "\n",
        "    for (int first = 0; first < n; ++first) {\n",
        "        for (int second = first + 1; second < n; ++second) {\n",
        "\t\t\t       aux_product =  (long long) numbers[first] * numbers[second];\n",
        "            if ( max_product < aux_product)  {\n",
        "\t\t\t\t        max_product = aux_product;\n",
        "             }\n",
        "        }\n",
        "    }\n",
        "\n",
        "    return max_product;\n",
        "}\n",
        "\n",
        "int main() {\n",
        "    srand(time(NULL));\n",
        "    \n",
        "    for(int i = 0; i < 20; i++){\n",
        "      int n = rand() % 19 + 2;\n",
        "      vector<int> nums(n);\n",
        "\n",
        "      for(int j = 0; j < n; j++){\n",
        "        nums[j] = rand() % LLONG_MAX + 1;\n",
        "      }\n",
        "\n",
        "      cout << \"Test \" << i << \": \";\n",
        "      for(int j = 0; j < n; j++){\n",
        "        cout << nums[j] << \" \";\n",
        "      }\n",
        "\n",
        "      cout << \"\\n\" << \"Maximum pairwise product is: \" << MaxPairwiseProduct(nums) << endl;\n",
        "\n",
        "    }\n",
        "    return 0;\n",
        "}"
      ],
      "execution_count": null,
      "outputs": [
        {
          "output_type": "stream",
          "name": "stdout",
          "text": [
            "Writing max_pairwise_product_long_test3.cpp\n"
          ]
        }
      ]
    },
    {
      "cell_type": "code",
      "source": [
        "!g++ max_pairwise_product_long_test3.cpp -o max_pairwise_product_long_test3\n",
        "!./max_pairwise_product_long_test3"
      ],
      "metadata": {
        "colab": {
          "base_uri": "https://localhost:8080/"
        },
        "id": "y59ZxnIWsBUg",
        "outputId": "96238eda-0ee9-462d-bb9b-2ef6605cccd9"
      },
      "execution_count": null,
      "outputs": [
        {
          "output_type": "stream",
          "name": "stdout",
          "text": [
            "Test 0: 496984427 566346184 48147508 2101711069 1755084220 2071428632 2011866101 486722092 1189685025 1994340068 234982021 30935150 977392401 1856792251 1589302704 700859853 1395384351 1522986981 \n",
            "Maximum pairwise product is: 4353544484517927608\n",
            "Test 1: 1059962029 1338590300 1329634627 \n",
            "Maximum pairwise product is: 1779836014246318100\n",
            "Test 2: 505068201 1583572457 1805153912 940734980 675051667 2147466876 \n",
            "Maximum pairwise product is: 3876508232101818912\n",
            "Test 3: 1689746323 496967654 1106876410 1737893830 451195074 714476981 \n",
            "Maximum pairwise product is: 2936599709006887090\n",
            "Test 4: 315577526 1201199072 704040190 162433945 1436181092 734975339 1139826345 1145489694 176794394 1840686197 393390396 1699781374 1924743358 1453352425 \n",
            "Maximum pairwise product is: 3542848531838029526\n",
            "Test 5: 1106894336 602876820 1395956225 542983144 260547084 189207556 1218034810 260530311 729737782 \n",
            "Maximum pairwise product is: 1700323275286192250\n",
            "Test 6: 757497964 1836614191 \n",
            "Maximum pairwise product is: 1391231510336007124\n",
            "Test 7: 1208693037 403607523 2012546478 1524270562 \n",
            "Maximum pairwise product is: 3067665351072180636\n",
            "Test 8: 569103019 1686704507 893504038 1304078357 679047203 2038993731 1480872750 372249752 284900479 1033170475 149509461 1738252903 1924058500 1256403796 193646074 1172531076 1799386939 454193157 1361738632 \n",
            "Maximum pairwise product is: 3923143219577263500\n",
            "Test 9: 714723467 2091476413 1630235584 1472221430 1780606955 1980943248 533430818 36730829 1846006077 2057701380 1641537422 267625447 1596922238 387557811 1571703803 128485792 \n",
            "Maximum pairwise product is: 4303633901267549940\n",
            "Test 10: 905092904 500735543 563968372 1938263379 650245003 154737626 1714838230 1906648798 348383699 739885657 1558552088 802576856 2101624288 281006540 1517300322 2045617052 1911242123 842038104 \n",
            "Maximum pairwise product is: 4299118480430158976\n",
            "Test 11: 1744701722 1375468921 1715471186 1443224151 1285686652 1209524960 1710849597 735125241 1597082770 1135069752 863611033 1876150663 2040162655 1364346575 \n",
            "Maximum pairwise product is: 3827652517806090265\n",
            "Test 12: 1830942385 2014591578 447373011 1398296966 1773756727 795756710 2138182623 1184825167 1598333565 \n",
            "Maximum pairwise product is: 4307564704521749094\n",
            "Test 13: 1465831706 968150238 1990456666 1229590180 1810188341 1521713375 826808253 1038173614 1089700913 122548755 176376617 151742224 1833398352 911501858 1748824993 820984455 1775112890 1477492008 713663461 \n",
            "Maximum pairwise product is: 3649299971171814432\n",
            "Test 14: 1770127393 397122198 859083745 70016756 1795419163 485356824 865773465 1786118137 1670181990 316623381 \n",
            "Maximum pairwise product is: 3206830730551659331\n",
            "Test 15: 988530047 1284773618 1573930768 70636578 947478311 948160494 897444830 1985651924 2037861406 1019993585 14544892 \n",
            "Maximum pairwise product is: 4046483421669245144\n",
            "Test 16: 705908288 926046749 1790944974 \n",
            "Maximum pairwise product is: 1658498770810589526\n",
            "Test 17: 553675990 1120953333 93072554 1545651806 743597077 490194751 257251902 813613832 138130266 742608725 1679387296 1924248402 265307066 1996010676 1507722504 1253837112 1133300646 934169623 \n",
            "Maximum pairwise product is: 3840820353667939752\n",
            "Test 18: 2080778956 1882330117 74434871 1918947231 1772707874 1094428455 1933492122 1814827855 1800336742 712055223 1458289180 \n",
            "Maximum pairwise product is: 4023169719049384632\n",
            "Test 19: 1265731212 431758864 \n",
            "Maximum pairwise product is: 546490670222463168\n"
          ]
        }
      ]
    },
    {
      "cell_type": "markdown",
      "metadata": {
        "id": "9z9yr5QkeyJF"
      },
      "source": [
        "### Test 4  time test  measure the execution time running with the the largest worst case file (200000 increasing numbers, 200000 and 200000 the end) "
      ]
    },
    {
      "cell_type": "code",
      "metadata": {
        "id": "oLiMjbAIfPlX",
        "colab": {
          "base_uri": "https://localhost:8080/"
        },
        "outputId": "fabea196-4d4b-4679-cb9f-e683dd9784be"
      },
      "source": [
        "%%writefile Test2Write.cpp\n",
        "#include <iostream>\n",
        "#include <fstream>\n",
        "#include <cstdlib>\n",
        "\n",
        "using namespace std;\n",
        "\n",
        "int main() {\n",
        "  // Create and open a text file\n",
        "  ofstream MyFile(\"input3.txt\");\n",
        "\n",
        " MyFile << 200000 <<\"\\n\";  // n \n",
        " for (int i=1; i < 200001; i++){\n",
        "     MyFile << i <<\" \";\n",
        " }\n",
        "  \n",
        "  // Close the file\n",
        "  MyFile.close();\n",
        "}"
      ],
      "execution_count": null,
      "outputs": [
        {
          "output_type": "stream",
          "name": "stdout",
          "text": [
            "Writing Test2Write.cpp\n"
          ]
        }
      ]
    },
    {
      "cell_type": "code",
      "metadata": {
        "id": "EH25TkOkZfD9"
      },
      "source": [
        "!g++ Test2Write.cpp -o Test2Write\n",
        "!./Test2Write"
      ],
      "execution_count": null,
      "outputs": []
    },
    {
      "cell_type": "markdown",
      "metadata": {
        "id": "JB6f03qO-lj9"
      },
      "source": [
        "Measure time\n",
        "\n",
        "https://askubuntu.com/questions/53444/how-can-i-measure-the-execution-time-of-a-terminal-process"
      ]
    },
    {
      "cell_type": "code",
      "metadata": {
        "id": "6p2QLEr576zk"
      },
      "source": [
        "!g++ max_pairwise_product_long.cpp -o max_pairwise_product_long\n",
        "!time ./max_pairwise_product_long < input3.txt"
      ],
      "execution_count": null,
      "outputs": []
    },
    {
      "cell_type": "markdown",
      "metadata": {
        "id": "AmZeB2wYjxy5"
      },
      "source": [
        "##### Calculate  the number of instructions executed by the algorithm as a function of n, add in each line a comment with the number of instructions that are executed in that line \n",
        "\n",
        "```cpp\n",
        " int main() {                         //N inst exec by line executed  \n",
        "   \n",
        "    int n;                            //1                      \n",
        "    std::cin >> n;                    //1\n",
        "                                              \n",
        "    std::vector<int> numbers(n);      //n    init vector\n",
        "    .\n",
        "    .\n",
        " }\n",
        "\n",
        "```"
      ]
    },
    {
      "cell_type": "code",
      "metadata": {
        "colab": {
          "base_uri": "https://localhost:8080/"
        },
        "id": "djGX3FL13g9b",
        "outputId": "612a5017-222f-48d1-bb4b-f820d9d33d5c"
      },
      "source": [
        "%%writefile test_init_vectors.cpp\n",
        "#include <iostream>\n",
        "#include <vector>\n",
        "#include <algorithm>\n",
        "using namespace std;\n",
        "\n",
        "int main() {                                                               \n",
        "    int n = 10;                                                                                                                            //1\n",
        "    vector<int> numbers(n);                                            \n",
        "    for (int i = 0; i < n; ++i) {                                           \n",
        "        cout << numbers[i];                                             \n",
        "    }\n",
        "\n",
        "    cout << \"\\n\";                       \n",
        "    return 0;                                                              \n",
        "}  "
      ],
      "execution_count": null,
      "outputs": [
        {
          "output_type": "stream",
          "name": "stdout",
          "text": [
            "Writing test_init_vectors.cpp\n"
          ]
        }
      ]
    },
    {
      "cell_type": "code",
      "metadata": {
        "colab": {
          "base_uri": "https://localhost:8080/"
        },
        "id": "44gZcuE237-1",
        "outputId": "6220c0a8-41b0-4da6-a2ea-7f4413c1a7cb"
      },
      "source": [
        "!g++ test_init_vectors.cpp -o test_init_vectors\n",
        "!./test_init_vectors"
      ],
      "execution_count": null,
      "outputs": [
        {
          "output_type": "stream",
          "name": "stdout",
          "text": [
            "0000000000\n"
          ]
        }
      ]
    },
    {
      "cell_type": "code",
      "metadata": {
        "colab": {
          "base_uri": "https://localhost:8080/"
        },
        "id": "uG6Mv-Pwlkii",
        "outputId": "cdb5b458-a7b8-48b0-bc0a-69f5499cf744"
      },
      "source": [
        "%%writefile max_pairwise_product_long.cpp\n",
        "#include <iostream>\n",
        "#include <vector>\n",
        "#include <algorithm>\n",
        "using namespace std;\n",
        "\n",
        "long long MaxPairwiseProduct(const vector<int>& numbers) {                   //N inst exec by line executed \n",
        "    long long max_product = 0LL;                                             //1                                          \n",
        "\t  long long aux_product = 0LL;                                             //1 \n",
        "    int n = numbers.size();                                                  //1 \n",
        "                                                                             \n",
        "    for (int first = 0; first < n; ++first) {                                //1+2n  \n",
        "        for (int second = first + 1; second < n; ++second) {                 //n + (n-1)n \n",
        "\t\t\t       aux_product =  (long long) numbers[first] * numbers[second];    //(n-1)n/2 \n",
        "            if (max_product < aux_product)  {                                //(n-1)n/2 \n",
        "\t\t\t\t        max_product = aux_product;                                   //[0, (n-1)n/2] \n",
        "             }\n",
        "        }\n",
        "    }\n",
        "                                                                             // -------------- \n",
        "    return max_product;                                                      // 4 + 3n + [2(n-1)n, 2.5 (n-1)n] \n",
        "}\n",
        "\n",
        "int main() {                                              //N inst exec by line executed \n",
        "    int n;                                                //1  \n",
        "    cin >> n;                                             //1\n",
        "    vector<int> numbers(n);                               //n\n",
        "    for (int i = 0; i < n; ++i) {                         //1 + 2n\n",
        "        cin >> numbers[i];                                //n\n",
        "    }\n",
        "\n",
        "    cout << MaxPairwiseProduct(numbers) << \"\\n\";     //1 + 1  + 4 + 3n + [2(n-1)n, 2.5 (n-1)n]\n",
        "    return 0;                                             // -------------- \n",
        "}                                                         // 9 + 7n + [2(n-1)n, 2.5 (n-1)n]\n"
      ],
      "execution_count": null,
      "outputs": [
        {
          "output_type": "stream",
          "name": "stdout",
          "text": [
            "Overwriting max_pairwise_product_long.cpp\n"
          ]
        }
      ]
    },
    {
      "cell_type": "markdown",
      "metadata": {
        "id": "0vTsUg8OwcHs"
      },
      "source": [
        "Count executed intructions in code and verify with inputs 1, 2 and 3"
      ]
    },
    {
      "cell_type": "code",
      "metadata": {
        "colab": {
          "base_uri": "https://localhost:8080/"
        },
        "id": "CuRKkqQc137V",
        "outputId": "18340fb5-7575-44eb-c4b5-e841b9ef6548"
      },
      "source": [
        "%%writefile max_pairwise_product_long_execints.cpp\n",
        "#include <iostream>\n",
        "#include <vector>\n",
        "#include <algorithm>\n",
        "using namespace std;\n",
        "\n",
        "long long MaxPairwiseProduct(const vector<int>& numbers, long long &execints) {              //N inst exec by line executed \n",
        "    \n",
        "    long long m = 0LL;                                                       //1\n",
        "    \n",
        "    long long max_product = 0LL;                                             //1\n",
        "    execints++;\n",
        "\n",
        "\t  long long aux_product = 0LL;                                             //1\n",
        "    execints++;\n",
        "\n",
        "    int n = numbers.size();                                                  //1 \n",
        "    execints++;\n",
        "\n",
        "    execints++;                                                                         \n",
        "    for (int first = 0; first < n; ++first) {                                //1+2n  \n",
        "        execints += 2;\n",
        "\n",
        "        long long m = 0LL;\n",
        "\n",
        "        execints++;                                    \n",
        "        for (int second = first + 1; second < n; ++second) {                 //n+ (n-1)n \n",
        "            execints += 2;                                                \n",
        "\n",
        "\t\t\t      aux_product =  (long long) numbers[first] * numbers[second];    //(n-1)n/2 \n",
        "            execints++; \n",
        "\n",
        "            execints++; \n",
        "            if ( max_product < aux_product)  {                               //(n-1)n/2 \n",
        "                       \n",
        "\t\t\t\t        max_product = aux_product;                                   //[0, (n-1)n/2] \n",
        "                execints++; \n",
        "                m++;\n",
        "             }\n",
        "        }\n",
        "        if ( (first <= 10) || (n- first <= 10)) cout << m << \"\\n\";\n",
        "    }\n",
        "                                                                            // -------------- \n",
        "    return max_product;                                                     // 4 + 3n + [2(n-1)n, 2.5 (n-1)n] \n",
        "}\n",
        "\n",
        "int main() {                                                //N inst exec by line executed \n",
        "    long long execints = 0LL;\n",
        "\n",
        "    int n;                                                  //1\n",
        "    execints++;                                                              \n",
        "    \n",
        "    cin >> n;                                               //1\n",
        "    execints++;\n",
        "\n",
        "    vector<int> numbers(n);                                 //n\n",
        "    execints += n;\n",
        "    \n",
        "    execints++;\n",
        "    for (int i = 0; i < n; ++i) {                            //1 + 2n\n",
        "        execints += 2;\n",
        "\n",
        "        cin >> numbers[i];\n",
        "        execints++;                                          //n\n",
        "    }\n",
        "    \n",
        "    //cout << MaxPairwiseProduct(numbers) << \"\\n\";          //1 + 1  + 4 + 3n + [2(n-1)n, 2.5 (n-1)n]\n",
        "\n",
        "    execints++;\n",
        "    int M = MaxPairwiseProduct(numbers,execints);\n",
        "\n",
        "    execints++;\n",
        "    cout <<  execints << \"\\n\";                       \n",
        "    return 0;                                                // -------------- \n",
        "}                                                            // 9 + 7n + [2(n-1)n, 2.5 (n-1)n]"
      ],
      "execution_count": null,
      "outputs": [
        {
          "output_type": "stream",
          "name": "stdout",
          "text": [
            "Writing max_pairwise_product_long_execints.cpp\n"
          ]
        }
      ]
    },
    {
      "cell_type": "code",
      "metadata": {
        "id": "Kuvm1C05ly2a",
        "colab": {
          "base_uri": "https://localhost:8080/"
        },
        "outputId": "b6f2e297-433e-4b7e-fdd2-6b15f8316f1d"
      },
      "source": [
        "!g++ max_pairwise_product_long_execints.cpp -o max_pairwise_product_long_execints\n",
        "!./max_pairwise_product_long_execints < input1.txt\n",
        "!./max_pairwise_product_long_execints < input2.txt\n",
        "!./max_pairwise_product_long_execints < input3.txt"
      ],
      "execution_count": null,
      "outputs": [
        {
          "output_type": "stream",
          "name": "stdout",
          "text": [
            "9\n",
            "5\n",
            "4\n",
            "3\n",
            "2\n",
            "2\n",
            "2\n",
            "2\n",
            "1\n",
            "0\n",
            "289\n",
            "2\n",
            "1\n",
            "2\n",
            "0\n",
            "0\n",
            "0\n",
            "116\n",
            "199999\n",
            "100000\n",
            "66667\n",
            "50000\n",
            "40000\n",
            "33334\n",
            "28572\n",
            "25000\n",
            "22223\n",
            "20000\n",
            "18182\n",
            "5656\n",
            "555\n",
            "^C\n"
          ]
        }
      ]
    },
    {
      "cell_type": "markdown",
      "metadata": {
        "id": "L_uaamxeAHK7"
      },
      "source": [
        "The number of instructions executed by the algooirithm with a list of size $n$ is  \n",
        "\n",
        "$$T = 9 + 7n + [2(n-1)n, 2.5 (n-1)n]$$\n",
        "\n",
        "It depends on the size of the lists and  the order of the list.\n",
        "\n",
        "For the input1.txt \n",
        "```\n",
        "10\n",
        "1 2 3 4 5 6 7 8 9 10\n",
        "```\n",
        "$$T = 9 + 7(10) + 2(9)(10) +  9 + 5 + 4 + 3 + 2 + 2 + 2 + 2 + 1 + 0  = 289 $$\n",
        "\n",
        "For the input2.txt \n",
        "```\n",
        "6\n",
        "1 3 200000 9 200000 23\n",
        "```\n",
        "$$T = 9 + 7(6) + 2(5)(6)  +  2 + 1 + 2 + 0 + 0 + 0 = 116 $$\n",
        "\n",
        "\n",
        "For the input3.txt that is the worst case (n=200000 and list in incresing order)\n",
        "\n",
        "```\n",
        "200000\n",
        "1 2 3 4 5 6 7 8 9 10 ... 199998 199999 200000\n",
        "```\n",
        "\n",
        "$$\n",
        "\\begin{array}{ll}\n",
        "T &= 9 + 7(200000) + (2)(199999)(200000)  + (199999 +\n",
        "100000 + 66667 +50000 \\cdots 2 + 2 + 1)\\\\\n",
        "&= 80003672077  \\\\\n",
        "  &< 9 + 7(200000) + (2.5)(199999)(200000) \\\\\n",
        "  & = 100000900009\n",
        "\\end{array}\n",
        "  $$"
      ]
    },
    {
      "cell_type": "markdown",
      "metadata": {
        "id": "NXW7QkoBL6xH"
      },
      "source": [
        "Calculate estimated time by instruction and number of instructions by second"
      ]
    },
    {
      "cell_type": "code",
      "metadata": {
        "colab": {
          "base_uri": "https://localhost:8080/"
        },
        "id": "pKqB3i7dIxnc",
        "outputId": "ac7d5f0d-6740-44bb-c662-f96815f267a1"
      },
      "source": [
        "# Estimated time by instruction\n",
        "\n",
        "128/80003672077 \n"
      ],
      "execution_count": null,
      "outputs": [
        {
          "output_type": "execute_result",
          "data": {
            "text/plain": [
              "1.5999265618308827e-09"
            ]
          },
          "metadata": {},
          "execution_count": 22
        }
      ]
    },
    {
      "cell_type": "code",
      "metadata": {
        "colab": {
          "base_uri": "https://localhost:8080/"
        },
        "id": "18N1ouqeMhE1",
        "outputId": "5cbf6ca3-bd13-4fe3-a906-1c306ef9c6e2"
      },
      "source": [
        "# Estimated number of instructions by second\n",
        "\n",
        "1/(128/80003672077) "
      ],
      "execution_count": null,
      "outputs": [
        {
          "output_type": "execute_result",
          "data": {
            "text/plain": [
              "625028688.1015625"
            ]
          },
          "metadata": {},
          "execution_count": 23
        }
      ]
    },
    {
      "cell_type": "markdown",
      "metadata": {
        "id": "CQufozXLNJwO"
      },
      "source": [
        "### Efficient solution"
      ]
    },
    {
      "cell_type": "markdown",
      "metadata": {
        "id": "nLcKBwbU0QsE"
      },
      "source": [
        "Add in each line a coment with the number of intstrcution that are executed in that line"
      ]
    },
    {
      "cell_type": "code",
      "metadata": {
        "id": "knls5Fh3NSt_",
        "colab": {
          "base_uri": "https://localhost:8080/"
        },
        "outputId": "682d4d4b-c5f1-410a-a3e2-a1ec50464a03"
      },
      "source": [
        "%%writefile efficient_maximum_pairwise_product.cpp\n",
        "#include <iostream>\n",
        "#include <vector>\n",
        "#include <algorithm>\n",
        "using namespace std;\n",
        "\n",
        "int EfficientMaximumPairwiseProduct(int n, vector<long long> nums){\n",
        "    int maxn = 0;                                                               //1\n",
        "    int smaxn = 0;                                                              //1\n",
        "    for(int i = 0; i < n; i++){                                                 //n\n",
        "      if(nums[i] > maxn){                                                       //n\n",
        "        smaxn = maxn;                                                           //n\n",
        "        maxn = nums[i];                                                         //n\n",
        "      }else if(nums[i] > smaxn){                                                //n\n",
        "        smaxn = nums[i];                                                        //n\n",
        "      }\n",
        "    }\n",
        "    return smaxn*maxn;                                                          //1\n",
        "}                                                                               //O(6n+3)\n",
        "\n",
        "int main () {\n",
        "    int n;\n",
        "    cin >> n;\n",
        "    vector<long long> nums(n);\n",
        "    for(int i = 0; i < n; i++){                                                 //n\n",
        "        cin >> nums[i];                                                         //n\n",
        "    }\n",
        "\n",
        "    cout << \"Maximum pairwise product is: \" << EfficientMaximumPairwiseProduct(n, nums) << endl;\n",
        "}"
      ],
      "execution_count": null,
      "outputs": [
        {
          "output_type": "stream",
          "name": "stdout",
          "text": [
            "Writing efficient_maximum_pairwise_product.cpp\n"
          ]
        }
      ]
    },
    {
      "cell_type": "markdown",
      "metadata": {
        "id": "-JCijbWxNSii"
      },
      "source": [
        "Test with inputs 1 and 2\n",
        "\n"
      ]
    },
    {
      "cell_type": "code",
      "metadata": {
        "id": "TrTGAfqlNVXT",
        "colab": {
          "base_uri": "https://localhost:8080/"
        },
        "outputId": "b2500da2-90ca-420b-ce43-bef10aa60706"
      },
      "source": [
        "!g++ efficient_maximum_pairwise_product.cpp -o efficient_maximum_pairwise_product\n",
        "!time ./efficient_maximum_pairwise_product < input1.txt\n",
        "\n",
        "!g++ efficient_maximum_pairwise_product.cpp -o efficient_maximum_pairwise_product\n",
        "!time ./efficient_maximum_pairwise_product < input2.txt\n",
        "     "
      ],
      "execution_count": null,
      "outputs": [
        {
          "output_type": "stream",
          "name": "stdout",
          "text": [
            "Maximum pairwise product is: 90\n",
            "\n",
            "real\t0m0.002s\n",
            "user\t0m0.002s\n",
            "sys\t0m0.000s\n",
            "Maximum pairwise product is: 1345294336\n",
            "\n",
            "real\t0m0.002s\n",
            "user\t0m0.002s\n",
            "sys\t0m0.000s\n"
          ]
        }
      ]
    },
    {
      "cell_type": "markdown",
      "metadata": {
        "id": "PRX51wADNR8b"
      },
      "source": [
        "Test and time it with input 3"
      ]
    },
    {
      "cell_type": "code",
      "metadata": {
        "id": "v4z7-Is_NRt7",
        "colab": {
          "base_uri": "https://localhost:8080/"
        },
        "outputId": "d5b023d7-b01d-41ba-fe5f-93aa1c77314d"
      },
      "source": [
        "!g++ efficient_maximum_pairwise_product.cpp -o efficient_maximum_pairwise_product\n",
        "!time ./efficient_maximum_pairwise_product < input3.txt"
      ],
      "execution_count": null,
      "outputs": [
        {
          "output_type": "stream",
          "name": "stdout",
          "text": [
            "Maximum pairwise product is: 1345094336\n",
            "\n",
            "real\t0m0.066s\n",
            "user\t0m0.060s\n",
            "sys\t0m0.005s\n"
          ]
        }
      ]
    },
    {
      "cell_type": "markdown",
      "metadata": {
        "id": "rpdfs0_TNZJf"
      },
      "source": [
        "20 stress tests"
      ]
    },
    {
      "cell_type": "code",
      "metadata": {
        "id": "Lu4tYcKzNcTT",
        "colab": {
          "base_uri": "https://localhost:8080/"
        },
        "outputId": "647457ec-ee90-4f23-d13b-eaca5841ccd0"
      },
      "source": [
        "%%writefile efficient_maximum_pairwise_product_stress.cpp\n",
        "#include <iostream>\n",
        "#include <vector>\n",
        "#include <algorithm>\n",
        "#include <climits>\n",
        "using namespace std;\n",
        "\n",
        "int EfficientMaximumPairwiseProduct(int n, vector<long long> nums){\n",
        "    int maxn = 0;                                                               //1\n",
        "    int smaxn = 0;                                                              //1\n",
        "    for(int i = 0; i < n; i++){                                                 //n\n",
        "      if(nums[i] > maxn){                                                       //n\n",
        "        smaxn = maxn;                                                           //n\n",
        "        maxn = nums[i];                                                         //n\n",
        "      }else if(nums[i] > smaxn){                                                //n\n",
        "        smaxn = nums[i];                                                        //n\n",
        "      }\n",
        "    }\n",
        "    return smaxn*maxn;                                                          //1\n",
        "}                                                                               //O(6n+3)\n",
        "\n",
        "int main() {\n",
        "    srand(time(NULL));\n",
        "\n",
        "    for(int i = 0; i < 20; i++){\n",
        "      int n = rand() % 19 + 2;\n",
        "      vector<long long> nums(n);\n",
        "\n",
        "      for(int j = 0; j < n; j++){\n",
        "        nums[j] = rand() % LLONG_MAX + 1;\n",
        "      }\n",
        "\n",
        "      cout << \"Test \" << i << \": \";\n",
        "      for(int j = 0; j < n; j++){\n",
        "        cout << nums[j] << \" \";\n",
        "      }\n",
        "\n",
        "      cout << \"\\n\" << \"Maximum pairwise product is: \" << EfficientMaximumPairwiseProduct(n, nums) << endl;\n",
        "\n",
        "    }\n",
        "    return 0;\n",
        "}"
      ],
      "execution_count": null,
      "outputs": [
        {
          "output_type": "stream",
          "name": "stdout",
          "text": [
            "Writing efficient_maximum_pairwise_product_stress.cpp\n"
          ]
        }
      ]
    },
    {
      "cell_type": "code",
      "metadata": {
        "id": "dh85RM8vNhFz",
        "colab": {
          "base_uri": "https://localhost:8080/"
        },
        "outputId": "ec9f161d-76af-4f04-fa62-1aef4839b34b"
      },
      "source": [
        "!g++ efficient_maximum_pairwise_product_stress.cpp -o efficient_maximum_pairwise_product_stress\n",
        "!time ./efficient_maximum_pairwise_product_stress"
      ],
      "execution_count": null,
      "outputs": [
        {
          "output_type": "stream",
          "name": "stdout",
          "text": [
            "Test 0: 1839745509 967081131 \n",
            "Maximum pairwise product is: 384321527\n",
            "Test 1: 251737745 1584315994 1363568579 803078858 757065910 640392038 1838094661 1173539663 1083312609 821520437 \n",
            "Maximum pairwise product is: -357164990\n",
            "Test 2: 296305487 1313446186 219005156 243800308 1265287424 934032469 1594513864 1814384384 176000362 160935410 1992243686 \n",
            "Maximum pairwise product is: 1763441152\n",
            "Test 3: 1715778228 972420127 1557308011 1749216789 1518675429 1249569871 568814272 1075274182 1501307616 5646617 291359113 156902825 762712527 931751150 1994997485 1936252189 \n",
            "Maximum pairwise product is: -620316199\n",
            "Test 4: 669034274 908369428 163885597 1982480459 1127374583 407685904 1100284234 \n",
            "Maximum pairwise product is: -1241148835\n",
            "Test 5: 2002199767 767184969 89923765 15651528 611945007 361845604 1731429755 1584365133 1919153614 1333162896 955556913 1021239837 1901977167 2030831095 375063804 1907623783 174706559 531966628 522852661 1106457708 \n",
            "Maximum pairwise product is: 836812401\n",
            "Test 6: 311621202 974037818 1048514737 1219990629 1137923415 883511547 199881564 1545609318 1983795781 113804967 1400325437 603497101 203728731 1415976964 1215442107 565574334 999923071 652323592 337244300 185602318 \n",
            "Maximum pairwise product is: -71473282\n",
            "Test 7: 1358484136 2087579484 1491227950 1733547939 1847719618 1665934508 118030918 223088631 624908568 497511381 534709832 1598946385 1546026118 1754700460 \n",
            "Maximum pairwise product is: 1378732984\n",
            "Test 8: 282054016 1954582023 2134995469 118366148 2068386989 1387837257 721863249 124632071 656330572 1937305355 690206405 1656253642 442145298 1027450704 1841855959 \n",
            "Maximum pairwise product is: -522709303\n",
            "Test 9: 238451191 1781951794 1393770103 1971999129 1482187764 912220963 2090030046 1705276394 1537129530 440057778 92502577 988592266 1986083895 1847203036 1577978417 120654263 1654301411 \n",
            "Maximum pairwise product is: 1718422706\n",
            "Test 10: 239020410 1575204751 805843845 960883658 1699836822 1462174416 750705365 242559578 970944410 1192850662 1270010281 665316720 1095392815 1508461471 299784866 341679270 1332976951 1781972629 1253900232 1275523348 \n",
            "Maximum pairwise product is: -371877298\n",
            "Test 11: 643546113 1715581125 \n",
            "Maximum pairwise product is: -1206297403\n",
            "Test 12: 1632138378 1554181372 1131987337 1062633146 1674835634 638805099 480639734 1913856043 66526202 1286483578 727256053 1766363023 601174346 1477961417 \n",
            "Maximum pairwise product is: 381615365\n",
            "Test 13: 1572118755 523328430 1131449232 89951826 1618721245 492427054 389736691 1960400514 1825404004 \n",
            "Maximum pairwise product is: 1043509960\n",
            "Test 14: 1066817097 953443703 1363991044 1710363209 521541179 648775345 1195017938 \n",
            "Maximum pairwise product is: 1107718948\n",
            "Test 15: 1780762682 110167436 1603074535 272084132 590807169 1369446930 \n",
            "Maximum pairwise product is: 380999254\n",
            "Test 16: 1877290747 2096702982 2104973355 330981444 1427180750 1966412306 1903100198 1950509179 950377889 1993052023 \n",
            "Maximum pairwise product is: 1035301634\n",
            "Test 17: 1442804942 235305066 1234663640 1120725297 259530736 153997088 2074168999 1623521780 1864360296 448226530 124813476 911894586 376465431 \n",
            "Maximum pairwise product is: -287196456\n",
            "Test 18: 1022062021 1979539966 30176641 1612869189 1201503247 368786973 1342676287 1150722580 326276680 1673657730 430419681 145205337 1429274279 233445211 1095583226 1274842654 1655191986 390904519 1510147719 \n",
            "Maximum pairwise product is: 1862387964\n",
            "Test 19: 1511629816 1769678454 896369065 1438315166 1245716585 613245712 1886541695 \n",
            "Maximum pairwise product is: -290050422\n",
            "\n",
            "real\t0m0.003s\n",
            "user\t0m0.000s\n",
            "sys\t0m0.003s\n"
          ]
        }
      ]
    },
    {
      "cell_type": "markdown",
      "metadata": {
        "id": "L8U4151JNbxk"
      },
      "source": [
        "Count executed instructions in code and verify with inputs 1,2 and 3\n"
      ]
    },
    {
      "cell_type": "code",
      "source": [
        "%%writefile efficient_maximum_pairwise_product_exec.cpp\n",
        "#include <iostream>\n",
        "#include <vector>\n",
        "#include <algorithm>\n",
        "using namespace std;\n",
        "\n",
        "int EfficientMaximumPairwiseProduct(int n, vector<long long> nums){\n",
        "    int maxn = 0;                                                               //1\n",
        "    int smaxn = 0;                                                              //1\n",
        "    for(int i = 0; i < n; i++){                                                 //n\n",
        "      if(nums[i] > maxn){                                                       //n\n",
        "        smaxn = maxn;                                                           //n\n",
        "        maxn = nums[i];                                                         //n\n",
        "      }else if(nums[i] > smaxn){                                                //n\n",
        "        smaxn = nums[i];                                                        //n\n",
        "      }\n",
        "    }\n",
        "    return smaxn*maxn;                                                          //1\n",
        "}                                                                               //O(6n+3)\n",
        "\n",
        "int main () {\n",
        "    int n;\n",
        "    cin >> n;\n",
        "    vector<long long> nums(n);\n",
        "    for(int i = 0; i < n; i++){                                                 //n\n",
        "        cin >> nums[i];                                                         //n\n",
        "    }\n",
        "\n",
        "    cout << \"\\n\" << \"Instruction number: \" << 8*n+3 << endl;\n",
        "    cout << \"Maximum pairwise product is: \" << EfficientMaximumPairwiseProduct(n, nums) << endl;\n",
        "}"
      ],
      "metadata": {
        "colab": {
          "base_uri": "https://localhost:8080/"
        },
        "id": "7PewQemgrIG9",
        "outputId": "0bd49cb6-bcd7-4a21-e1bf-91ad76d24166"
      },
      "execution_count": null,
      "outputs": [
        {
          "output_type": "stream",
          "name": "stdout",
          "text": [
            "Writing efficient_maximum_pairwise_product_exec.cpp\n"
          ]
        }
      ]
    },
    {
      "cell_type": "code",
      "source": [
        "!g++ efficient_maximum_pairwise_product_exec.cpp -o efficient_maximum_pairwise_product_exec\n",
        "!time ./efficient_maximum_pairwise_product_exec < input1.txt\n",
        "\n",
        "!g++ efficient_maximum_pairwise_product_exec.cpp -o efficient_maximum_pairwise_product_exec\n",
        "!time ./efficient_maximum_pairwise_product_exec < input2.txt\n",
        "\n",
        "!g++ efficient_maximum_pairwise_product_exec.cpp -o efficient_maximum_pairwise_product_exec\n",
        "!time ./efficient_maximum_pairwise_product_exec < input3.txt"
      ],
      "metadata": {
        "colab": {
          "base_uri": "https://localhost:8080/"
        },
        "id": "1oOwD-pJrNGt",
        "outputId": "a38161cf-e96f-4bba-fa45-1fbae94ccfc3"
      },
      "execution_count": null,
      "outputs": [
        {
          "output_type": "stream",
          "name": "stdout",
          "text": [
            "\n",
            "Instruction number: 83\n",
            "Maximum pairwise product is: 90\n",
            "\n",
            "real\t0m0.002s\n",
            "user\t0m0.001s\n",
            "sys\t0m0.001s\n",
            "\n",
            "Instruction number: 51\n",
            "Maximum pairwise product is: 1345294336\n",
            "\n",
            "real\t0m0.003s\n",
            "user\t0m0.001s\n",
            "sys\t0m0.002s\n",
            "\n",
            "Instruction number: 1600003\n",
            "Maximum pairwise product is: 1345094336\n",
            "\n",
            "real\t0m0.060s\n",
            "user\t0m0.056s\n",
            "sys\t0m0.003s\n"
          ]
        }
      ]
    },
    {
      "cell_type": "markdown",
      "metadata": {
        "id": "K6ybgCmpNygr"
      },
      "source": [
        "Calculate estimated time by instruction and number of instructions by second"
      ]
    },
    {
      "cell_type": "code",
      "metadata": {
        "id": "kwe3G1O3Nz1w",
        "colab": {
          "base_uri": "https://localhost:8080/"
        },
        "outputId": "695dda00-e0d5-4763-e200-56515308dd3a"
      },
      "source": [
        "#Estimated time by instruction and number of instructions by second\n",
        "print(\"Estimated time by instruction\", \"\\t \\t\", \"Number of instructions by second\")\n",
        "print(\"Input 1: \", (83/0.003), \"\\t \\t\", 1/(83/0.003))\n",
        "print(\"Input 2: \", (51/0.001), \"\\t \\t \\t\", 1/(51/0.001))\n",
        "print(\"Input 3: \", (43/0.002), \"\\t \\t \\t\", 1/(43/0.002))"
      ],
      "execution_count": null,
      "outputs": [
        {
          "output_type": "stream",
          "name": "stdout",
          "text": [
            "Estimated time by instruction \t \t Number of instructions by second\n",
            "Input 1:  27666.666666666668 \t \t 3.614457831325301e-05\n",
            "Input 2:  51000.0 \t \t \t 1.9607843137254903e-05\n",
            "Input 3:  21500.0 \t \t \t 4.651162790697674e-05\n"
          ]
        }
      ]
    },
    {
      "cell_type": "markdown",
      "metadata": {
        "id": "sc9nOLQrfTm0"
      },
      "source": [
        "### Super efficient solution\n",
        "\n",
        "Whitout storing the list in memory and whitout calling a function, add in each line a coment with the number of intstrcution that are executed in that line "
      ]
    },
    {
      "cell_type": "code",
      "metadata": {
        "id": "hBLt_xBQLy8E",
        "colab": {
          "base_uri": "https://localhost:8080/"
        },
        "outputId": "32ce7254-f9c5-483f-a3cd-7d7458d3e58a"
      },
      "source": [
        "%%writefile super_efficient_maximum_pairwise_product.cpp\n",
        "#include <iostream>\n",
        "#include <vector>\n",
        "#include <algorithm>\n",
        "using namespace std;\n",
        "\n",
        "int main () {\n",
        "    int n;                                                                      //1\n",
        "    cin >> n;                                                                   //1\n",
        "    int maxn = 0;                                                               //1\n",
        "    int smaxn = 0;                                                              //1\n",
        "    for(int i = 0; i < n; i++){                                                 //n\n",
        "      int num;                                                                  //n\n",
        "      cin >> num;                                                               //n\n",
        "      if(num > maxn){                                                           //n\n",
        "        smaxn = maxn;                                                           //n\n",
        "        maxn = num;                                                             //n\n",
        "      }else if(num > smaxn){                                                    //n\n",
        "        smaxn = num;                                                            //n\n",
        "      }\n",
        "    }\n",
        "    cout << \"Maximum pairwise product is: \" << smaxn*maxn << endl;              //1\n",
        "}                                                                               //O(8*n+4)"
      ],
      "execution_count": null,
      "outputs": [
        {
          "output_type": "stream",
          "name": "stdout",
          "text": [
            "Writing super_efficient_maximum_pairwise_product.cpp\n"
          ]
        }
      ]
    },
    {
      "cell_type": "markdown",
      "metadata": {
        "id": "683gc3roHqzb"
      },
      "source": [
        "Test with inputs 1 and 2\n",
        "\n",
        "\n",
        " "
      ]
    },
    {
      "cell_type": "code",
      "metadata": {
        "id": "b7d4LA8OIc2_",
        "colab": {
          "base_uri": "https://localhost:8080/"
        },
        "outputId": "650e3ddb-e3dd-46dc-e77d-ce68d8180440"
      },
      "source": [
        "!g++ super_efficient_maximum_pairwise_product.cpp -o super_efficient_maximum_pairwise_product\n",
        "!time ./super_efficient_maximum_pairwise_product < input1.txt\n",
        "\n",
        "!g++ super_efficient_maximum_pairwise_product.cpp -o super_efficient_maximum_pairwise_product\n",
        "!time ./super_efficient_maximum_pairwise_product < input2.txt"
      ],
      "execution_count": null,
      "outputs": [
        {
          "output_type": "stream",
          "name": "stdout",
          "text": [
            "Maximum pairwise product is: 90\n",
            "\n",
            "real\t0m0.003s\n",
            "user\t0m0.003s\n",
            "sys\t0m0.000s\n",
            "Maximum pairwise product is: 1345294336\n",
            "\n",
            "real\t0m0.005s\n",
            "user\t0m0.002s\n",
            "sys\t0m0.000s\n"
          ]
        }
      ]
    },
    {
      "cell_type": "markdown",
      "metadata": {
        "id": "36Ugn1odIeJz"
      },
      "source": [
        "Test and time it with input 3"
      ]
    },
    {
      "cell_type": "code",
      "metadata": {
        "id": "jDyMbCnxHqSN",
        "colab": {
          "base_uri": "https://localhost:8080/"
        },
        "outputId": "d012ac3a-52fe-4b8a-ffea-de17560fe257"
      },
      "source": [
        "!g++ super_efficient_maximum_pairwise_product.cpp -o super_efficient_maximum_pairwise_product\n",
        "!time ./super_efficient_maximum_pairwise_product < input3.txt"
      ],
      "execution_count": null,
      "outputs": [
        {
          "output_type": "stream",
          "name": "stdout",
          "text": [
            "Maximum pairwise product is: 1345094336\n",
            "\n",
            "real\t0m0.054s\n",
            "user\t0m0.052s\n",
            "sys\t0m0.001s\n"
          ]
        }
      ]
    },
    {
      "cell_type": "markdown",
      "metadata": {
        "id": "bhqiKQG6fjKM"
      },
      "source": [
        "20 stress tests "
      ]
    },
    {
      "cell_type": "code",
      "metadata": {
        "id": "2KsiXKhALzwm",
        "colab": {
          "base_uri": "https://localhost:8080/"
        },
        "outputId": "e33cf980-dd9b-4460-bfa9-b30860b63a45"
      },
      "source": [
        "%%writefile super_efficient_maximum_pairwise_product_stress.cpp\n",
        "#include <iostream>\n",
        "#include <vector>\n",
        "#include <algorithm>\n",
        "#include <climits>\n",
        "using namespace std;\n",
        "\n",
        "int main () {\n",
        "    srand(time(NULL));                                                          //1\n",
        "    for(int i = 0; i < 20; i++){                                                //t = 20\n",
        "        int maxn = 0;                                                               //1\n",
        "        int smaxn = 0;                                                              //1\n",
        "        int n = rand() % 19 + 2;                                                    //t\n",
        "        for(int j = 0; j < n; j++){                                                   //t*n\n",
        "          int num;                                                                    //t*n\n",
        "          num = rand() % LLONG_MAX + 1;                                               //t*n\n",
        "          if(num > maxn){                                                             //t*n\n",
        "            smaxn = maxn;                                                             //t*n\n",
        "            maxn = num;                                                               //t*n\n",
        "          }else if(num > smaxn){                                                      //t*n\n",
        "            smaxn = num;                                                              //t*n\n",
        "          }\n",
        "        }\n",
        "        cout << \"Maximum pairwise product is: \" << smaxn*maxn << endl;              //1\n",
        "    }\n",
        "    return 0;\n",
        "}                                                                               //O(9*n+4)"
      ],
      "execution_count": null,
      "outputs": [
        {
          "output_type": "stream",
          "name": "stdout",
          "text": [
            "Writing super_efficient_maximum_pairwise_product_stress.cpp\n"
          ]
        }
      ]
    },
    {
      "cell_type": "code",
      "source": [
        "!g++ super_efficient_maximum_pairwise_product_stress.cpp -o super_efficient_maximum_pairwise_product_stress\n",
        "!time ./super_efficient_maximum_pairwise_product_stress"
      ],
      "metadata": {
        "colab": {
          "base_uri": "https://localhost:8080/"
        },
        "id": "K_0YhQv3rmM6",
        "outputId": "78168ae8-69d5-4e07-c2f1-f96f03db9c1c"
      },
      "execution_count": null,
      "outputs": [
        {
          "output_type": "stream",
          "name": "stdout",
          "text": [
            "Maximum pairwise product is: -424906816\n",
            "Maximum pairwise product is: -1122688640\n",
            "Maximum pairwise product is: 616597554\n",
            "Maximum pairwise product is: 269756580\n",
            "Maximum pairwise product is: 1340954880\n",
            "Maximum pairwise product is: 1201715887\n",
            "Maximum pairwise product is: -1678879936\n",
            "Maximum pairwise product is: 317142814\n",
            "Maximum pairwise product is: 2042597876\n",
            "Maximum pairwise product is: 115673762\n",
            "Maximum pairwise product is: -1317852885\n",
            "Maximum pairwise product is: -306621586\n",
            "Maximum pairwise product is: -323927172\n",
            "Maximum pairwise product is: 1381523944\n",
            "Maximum pairwise product is: -1954369870\n",
            "Maximum pairwise product is: -214944010\n",
            "Maximum pairwise product is: -1283857888\n",
            "Maximum pairwise product is: -602992444\n",
            "Maximum pairwise product is: -1612530720\n",
            "Maximum pairwise product is: -1259426898\n",
            "\n",
            "real\t0m0.003s\n",
            "user\t0m0.001s\n",
            "sys\t0m0.001s\n"
          ]
        }
      ]
    },
    {
      "cell_type": "markdown",
      "metadata": {
        "id": "fEXj8GHJH5p1"
      },
      "source": [
        "Count executed instructions in code and verify with inputs 1,2 and 3"
      ]
    },
    {
      "cell_type": "code",
      "metadata": {
        "id": "LF1DHjKXIAsF",
        "colab": {
          "base_uri": "https://localhost:8080/"
        },
        "outputId": "95c6220e-bd3c-47c1-93a1-95c19a6d3b5a"
      },
      "source": [
        "%%writefile super_efficient_maximum_pairwise_product.cpp\n",
        "#include <iostream>\n",
        "#include <vector>\n",
        "#include <algorithm>\n",
        "using namespace std;\n",
        "\n",
        "int main () {\n",
        "    int n;                                                                      //1\n",
        "    cin >> n;                                                                   //1\n",
        "    int maxn = 0;                                                               //1\n",
        "    int smaxn = 0;                                                              //1\n",
        "    for(int i = 0; i < n; i++){                                                 //n\n",
        "      int num;                                                                  //n\n",
        "      cin >> num;                                                               //n\n",
        "      if(num > maxn){                                                           //n\n",
        "        smaxn = maxn;                                                           //n\n",
        "        maxn = num;                                                             //n\n",
        "      }else if(num > smaxn){                                                    //n\n",
        "        smaxn = num;                                                            //n\n",
        "      }\n",
        "    }\n",
        "    cout << \"\\n\" << \"Instruction number: \" << 8*n+3 << endl;                    //1\n",
        "    cout << \"Maximum pairwise product is: \" << smaxn*maxn << endl;              //1\n",
        "}                                                                               //O(8*n+6)"
      ],
      "execution_count": null,
      "outputs": [
        {
          "output_type": "stream",
          "name": "stdout",
          "text": [
            "Overwriting super_efficient_maximum_pairwise_product.cpp\n"
          ]
        }
      ]
    },
    {
      "cell_type": "code",
      "source": [
        "!g++ super_efficient_maximum_pairwise_product.cpp -o super_efficient_maximum_pairwise_product\n",
        "!time ./super_efficient_maximum_pairwise_product < input1.txt\n",
        "\n",
        "!g++ super_efficient_maximum_pairwise_product.cpp -o super_efficient_maximum_pairwise_product\n",
        "!time ./super_efficient_maximum_pairwise_product < input2.txt\n",
        "\n",
        "!g++ super_efficient_maximum_pairwise_product.cpp -o super_efficient_maximum_pairwise_product\n",
        "!time ./super_efficient_maximum_pairwise_product < input3.txt"
      ],
      "metadata": {
        "colab": {
          "base_uri": "https://localhost:8080/"
        },
        "id": "Bhv8gLgJrusi",
        "outputId": "3feba09a-62de-4278-bb5d-af2d31ae4aed"
      },
      "execution_count": null,
      "outputs": [
        {
          "output_type": "stream",
          "name": "stdout",
          "text": [
            "\n",
            "Instruction number: 83\n",
            "Maximum pairwise product is: 90\n",
            "\n",
            "real\t0m0.002s\n",
            "user\t0m0.000s\n",
            "sys\t0m0.002s\n",
            "\n",
            "Instruction number: 51\n",
            "Maximum pairwise product is: 1345294336\n",
            "\n",
            "real\t0m0.003s\n",
            "user\t0m0.002s\n",
            "sys\t0m0.000s\n",
            "\n",
            "Instruction number: 1600003\n",
            "Maximum pairwise product is: 1345094336\n",
            "\n",
            "real\t0m0.097s\n",
            "user\t0m0.092s\n",
            "sys\t0m0.001s\n"
          ]
        }
      ]
    },
    {
      "cell_type": "markdown",
      "metadata": {
        "id": "yae7sSm2IG9U"
      },
      "source": [
        "Calculate estimated time by instruction and number of instructions by second"
      ]
    },
    {
      "cell_type": "code",
      "metadata": {
        "id": "suouY7BYL2dz",
        "colab": {
          "base_uri": "https://localhost:8080/"
        },
        "outputId": "8a45d1aa-7cfe-4a5a-bb1d-e6678a6c7cbf"
      },
      "source": [
        "#Estimated time by instruction and number of instructions by second\n",
        "print(\"Estimated time by instruction\", \"\\t \\t\", \"Number of instructions by second\")\n",
        "print(\"Input 1: \", (83/0.002), \"\\t \\t \\t\", 1/(83/0.002))\n",
        "print(\"Input 2: \", (51/0.003), \"\\t \\t \\t\", 1/(51/0.003))\n",
        "print(\"Input 3: \", (43/0.004), \"\\t \\t \\t\", 1/(43/0.004))"
      ],
      "execution_count": null,
      "outputs": [
        {
          "output_type": "stream",
          "name": "stdout",
          "text": [
            "Estimated time by instruction \t \t Number of instructions by second\n",
            "Input 1:  41500.0 \t \t \t 2.4096385542168674e-05\n",
            "Input 2:  17000.0 \t \t \t 5.882352941176471e-05\n",
            "Input 3:  10750.0 \t \t \t 9.302325581395348e-05\n"
          ]
        }
      ]
    },
    {
      "cell_type": "markdown",
      "metadata": {
        "id": "LkVxxlhl9H98"
      },
      "source": [
        "# Codeforces problem https://codeforces.com/contest/1619/problem/A \n",
        "\n",
        "Solve the problem in Colab, submit the solution to Codeforces and add a screenshoot of the submission."
      ]
    },
    {
      "cell_type": "markdown",
      "source": [
        "My profile: \n",
        "\n",
        "\n",
        "![image.png](data:image/png;base64,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)"
      ],
      "metadata": {
        "id": "92doxS2Xpxjv"
      }
    },
    {
      "cell_type": "markdown",
      "source": [],
      "metadata": {
        "id": "Jni5bb3k47eE"
      }
    },
    {
      "cell_type": "markdown",
      "source": [
        "Submitted code:\n",
        "![image.png](data:image/png;base64,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)"
      ],
      "metadata": {
        "id": "7335vJ-iomrG"
      }
    },
    {
      "cell_type": "markdown",
      "source": [
        "Submission proof:\n",
        "\n",
        "![image.png](data:image/png;base64,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)"
      ],
      "metadata": {
        "id": "2SCv-jBqozKf"
      }
    }
  ]
}