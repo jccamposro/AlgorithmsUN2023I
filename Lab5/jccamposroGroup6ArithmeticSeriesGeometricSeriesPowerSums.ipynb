{
  "nbformat": 4,
  "nbformat_minor": 0,
  "metadata": {
    "colab": {
      "provenance": [],
      "include_colab_link": true
    },
    "kernelspec": {
      "name": "python3",
      "display_name": "Python 3"
    }
  },
  "cells": [
    {
      "cell_type": "markdown",
      "metadata": {
        "id": "view-in-github",
        "colab_type": "text"
      },
      "source": [
        "<a href=\"https://colab.research.google.com/github/jccamposro/AlgorithmsUN2023I/blob/main/Lab5/jccamposroGroup6ArithmeticSeriesGeometricSeriesPowerSums.ipynb\" target=\"_parent\"><img src=\"https://colab.research.google.com/assets/colab-badge.svg\" alt=\"Open In Colab\"/></a>"
      ]
    },
    {
      "cell_type": "markdown",
      "metadata": {
        "id": "r4rXWI4gCN5B"
      },
      "source": [
        "# Arithmetic Series\n",
        "\n",
        "## Modified from Arithmetic Series -  [Wolfram MathWorld](https://mathworld.wolfram.com/ArithmeticSeries.html) - [wikipedia](https://en.wikipedia.org/wiki/Arithmetic_progression)\n",
        "\n",
        "\n",
        "An arithmetic sequence $\\{a_k\\}$ for $k=1, 2, ..., $ in which each term is computed from the previous one by adding (or subtracting) a constant $d$. \n",
        "\n",
        "\\begin{align*}\n",
        "a_1 & \\\\\n",
        "a_2 &\\ \\ =\\ \\ a_1 + d  \\\\\n",
        "a_3 &\\ \\ =\\ \\ a_2 + d \\ \\ =\\ \\ a_1 + 2d   \\\\\n",
        "a_4 &\\ \\ =\\ \\ a_3 + d \\ \\ =\\ \\ a_2 + 2d \\ \\ =\\ \\ a_1 + 3d  \\\\\n",
        "\\vdots\\\\\n",
        "a_k &\\ \\ =\\ \\ a_{(k-1)}+d \\ =\\  a_{(k-2)}+2d \\ =\\  \\ldots \\ =\\  \\ a_1+(k-1)d\n",
        "\\end{align*}\n",
        "\n",
        "Therefore, for $k>=1$,\n",
        "\n",
        "$$ a_k = a_1 + (k-1)d$$\n",
        "\n",
        "With $a_1$ and $d$ given.\n",
        "\n",
        "<br /> \n",
        "\n",
        "The sequence of the partial sum of the first $n$ terms of a sequence is called a series, in the case of an arithemetic sequence the series is called an arithmetic series.\n",
        "\n",
        "If  $a_1= 1$ and $d=1$ we have, the simplest arithmnetic sequence,  the natural numbers sequence $\\{a_k = k \\}$ for  $k=1, 2, ..., $  i.e. the seuqnece\n",
        "$$1, 2, ...,$$\n",
        "The  corresponding series is \n",
        "$$ \n",
        "S_n = 1 + 2+ \\ldots + (n-1)+ n = \\sum_{k=1}^n k\n",
        "$$\n",
        "can be calculated as a function of $n$.\n",
        "\n",
        "Assume that we allign one $S_{n-1}$ with a second  $S_{n-1}$ that have the terms adden reverse order and you add term to term, we have\n",
        "\\begin{array}{llclclclclc}\n",
        "  S_{n-1} &=& 1 &+& 2 &+& \\ldots &+& (n-2) &+& (n-1) \\\\\n",
        "  S_{n-1} &=& (n-1)  &+& (n-2)  &+& \\ldots   &+& 2   &+& 1 \\\\\n",
        "   \\hline \\\\\n",
        "   2S_{n-1} &=& n  &+& n  &+& \\ldots   &+& n   &+& n \\\\\n",
        "\\end{array}\n",
        "so\n",
        "$$  2S_{n-1} = (n-1)n $$\n",
        "then\n",
        "$$  S_{n-1} = \\frac{1}{2} (n-1)n$$\n",
        "therefore \n",
        "$$  S_{n} = \\frac{1}{2} n(n+1)$$\n",
        "\n",
        "\n",
        "\\begin{align*}\n",
        "S_n &= \\sum_{k=1}^n a_k\t\\\\\n",
        "    &= \\sum_{k=1}^n[a_1+(k-1)d]\t\t\\\\\n",
        "    &= na_1 + d \\sum_{k=1}^n(k-1)\t\\\\\n",
        "    &= na_1 + d \\sum_{k=0}^{n-1} k\t\\\\\n",
        "    &= na_1 + d \\sum_{k=1}^{n-1} k\t\\\\\n",
        "    &= na_1 +  \\frac{1}{2} d(n-1)n\\\\\n",
        "\\end{align*}\n",
        "so \n",
        "$$ S_n =  \\frac{1}{2} n[2 a_1 +d(n-1)].$$\n",
        "\n",
        "Note, however, that\n",
        "$$a_1+a_n=a_1+[a_1+d(n-1)]=2a_1+d(n-1),$$ \t\n",
        "so\n",
        "$$S_n = \\frac{1}{2}n(a_1+a_n),$$\n",
        "\n",
        "\n",
        "or $n$ times the arithmetic mean of the first and last terms! This is the trick Gauss used as a schoolboy to solve the problem of summing the integers from $1$ to $100$ given as busy-work by his teacher. While his classmates toiled away doing the addition longhand, Gauss wrote a single number, the correct answer\n",
        "\n",
        "$$\\frac{1}{2}(100)(1+100)=50·101=5050$$ \t\n",
        "on his slate (Burton 1989, pp. 80-81; Hoffman 1998, p. 207). When the answers were examined, Gauss's proved to be the only correct one.\n",
        "\n",
        "<br /> \n",
        "\n",
        "If  the sequence starts at index $0$, $\\{a_k\\}$ for $ k=0, 1, 2, ..., $ we have\n",
        "\n",
        "\\begin{align*}\n",
        "a_0 & \\\\\n",
        "a_1 &\\ \\ =\\ \\ a_0 + d  \\\\\n",
        "a_2 &\\ \\ =\\ \\ a_1 + d \\ \\ =\\ \\ a_0 + 2d   \\\\\n",
        "a_3 &\\ \\ =\\ \\ a_2 + d \\ \\ =\\ \\ a_1 + 2d \\ \\ =\\ \\ a_0 + 3d  \\\\\n",
        "\\vdots\\\\\n",
        "a_k &\\ \\ =\\ \\ a_{(k-1)}+d \\ =\\  a_{(k-2)}+2d \\ =\\  \\ldots \\ = \\  \\ a_1+(k-1)d \\ \\ =\\ \\ a_0+kd\n",
        "\\end{align*}\n",
        "\n",
        "<br /> \n",
        "for given   $a_0$ and $d$.\n",
        "\n",
        "In this case the sum of the terms between $0$ and $n$ of  the arithemnetic sequence  is then given by\n",
        "\\begin{align*}\n",
        "S_n &= \\sum_{k=0}^{n} a_k\t\\\\\n",
        "    &= \\sum_{k=0}^{n}[a_0+kd]\t\t\\\\\n",
        "    &= (n+1) a_0 + d \\sum_{k=0}^{n} k\t\\\\\n",
        "    &= (n+1) a_0 + d \\sum_{k=1}^{} k\t\\\\\n",
        "    &=(n+1) a_0+  \\frac{1}{2} dn(n+1) \\\\\n",
        "\\end{align*}\n",
        "so \n",
        "$$ S_n =  \\frac{1}{2} (n+1)[2 a_0 + dn].$$\n",
        "<br /> \n",
        "$$ S_n =  \\frac{1}{2} (n+1)[a_0+ a_n].$$\n",
        "\n",
        "\n"
      ]
    },
    {
      "cell_type": "markdown",
      "metadata": {
        "id": "GfBh-QHRcods"
      },
      "source": [
        "### Code\n",
        "####  The simplest arithmetic sequence and series\n",
        "\n",
        "The simplest arithmnetic sequence is \n",
        "\n",
        "\n",
        "$$a_n = 1, 2, ...,$$"
      ]
    },
    {
      "cell_type": "markdown",
      "metadata": {
        "id": "n36eWqEXiktl"
      },
      "source": [
        "The following code plots the first $n = 15$ terms of the simplest arithmnetic sequence \n",
        "$$\\{a_n = n\\} \\text{ for } n =1,2,\\ldots  $$\n",
        "i.e\n",
        "$$\\{a_n = n\\} =1,2,\\ldots $$\n",
        "adn the corresponding terms of the simplest arithmnetic series \n",
        "$$  S_n = 1 + 2+ \\ldots + (n-1)+ n = \\sum_{k=1}^n k=  \\frac{1}{2} n(n+1)$$\n"
      ]
    },
    {
      "cell_type": "markdown",
      "metadata": {
        "id": "_VyGiunIZknK"
      },
      "source": [
        "Plot"
      ]
    },
    {
      "cell_type": "code",
      "metadata": {
        "colab": {
          "base_uri": "https://localhost:8080/",
          "height": 447
        },
        "id": "gx3Q4uo-ONCi",
        "outputId": "50efd08e-00f0-433f-d999-64a12341177b"
      },
      "source": [
        "import matplotlib.pyplot as plt\n",
        "\n",
        "n = 15\n",
        "S_n = 0\n",
        "Serie_S_n=[]\n",
        "Sequence_a_n =[]\n",
        "for i in range(1,n+1):\n",
        "  S_n = S_n + i\n",
        "  Serie_S_n.append(S_n)\n",
        "  Sequence_a_n.append(i)\n",
        " \n",
        "\n",
        "plt.plot(Serie_S_n, color='black',label='Serie_S_n')\n",
        "plt.plot(Sequence_a_n, color='red',label='Sequence_a_n')\n",
        "plt.legend()\n",
        "\n",
        "\n"
      ],
      "execution_count": null,
      "outputs": [
        {
          "output_type": "execute_result",
          "data": {
            "text/plain": [
              "<matplotlib.legend.Legend at 0x7f6f415fe460>"
            ]
          },
          "metadata": {},
          "execution_count": 1
        },
        {
          "output_type": "display_data",
          "data": {
            "text/plain": [
              "<Figure size 640x480 with 1 Axes>"
            ],
            "image/png": "[encoded data removed]"
          },
          "metadata": {}
        }
      ]
    },
    {
      "cell_type": "code",
      "metadata": {
        "colab": {
          "base_uri": "https://localhost:8080/"
        },
        "id": "o2es6b4cysQk",
        "outputId": "bbbb12ca-db8f-4e4d-beaf-7922621c10a6"
      },
      "source": [
        "Sequence_a_n"
      ],
      "execution_count": null,
      "outputs": [
        {
          "output_type": "execute_result",
          "data": {
            "text/plain": [
              "[1, 2, 3, 4, 5, 6, 7, 8, 9, 10, 11, 12, 13, 14, 15]"
            ]
          },
          "metadata": {},
          "execution_count": 2
        }
      ]
    },
    {
      "cell_type": "code",
      "metadata": {
        "colab": {
          "base_uri": "https://localhost:8080/"
        },
        "id": "T2VeBOBZ0ibg",
        "outputId": "71702291-59a7-459f-d946-1b8ef9c32906"
      },
      "source": [
        "Serie_S_n"
      ],
      "execution_count": null,
      "outputs": [
        {
          "output_type": "execute_result",
          "data": {
            "text/plain": [
              "[1, 3, 6, 10, 15, 21, 28, 36, 45, 55, 66, 78, 91, 105, 120]"
            ]
          },
          "metadata": {},
          "execution_count": 3
        }
      ]
    },
    {
      "cell_type": "markdown",
      "metadata": {
        "id": "0ybfJdHxZGvW"
      },
      "source": [
        "The following code computes the  $n=10000000$  term of the airthmetic series\n",
        "$$  S_n = 1 + 2+ \\ldots + (n-1)+ n = \\sum_{k=1}^n =  \\frac{1}{2} n(n+1)$$"
      ]
    },
    {
      "cell_type": "code",
      "metadata": {
        "colab": {
          "base_uri": "https://localhost:8080/"
        },
        "id": "99xYHDQycnol",
        "outputId": "8bcbb395-16ca-4b26-c65b-41a4609f22c0"
      },
      "source": [
        "n = 10000000\n",
        "S_n = 0\n",
        "for i in range(1,n+1):  # range(n+1) goes form 1 to n\n",
        "  S_n = S_n + i \n",
        "print(S_n)"
      ],
      "execution_count": null,
      "outputs": [
        {
          "output_type": "stream",
          "name": "stdout",
          "text": [
            "50000005000000\n"
          ]
        }
      ]
    },
    {
      "cell_type": "code",
      "metadata": {
        "colab": {
          "base_uri": "https://localhost:8080/"
        },
        "id": "RGCSuDGHeFwH",
        "outputId": "5840fcb6-7db1-4cc3-bf71-f2837857e74c"
      },
      "source": [
        "(1/2)*n*(n+1)"
      ],
      "execution_count": null,
      "outputs": [
        {
          "output_type": "execute_result",
          "data": {
            "text/plain": [
              "50000005000000.0"
            ]
          },
          "metadata": {},
          "execution_count": 5
        }
      ]
    },
    {
      "cell_type": "markdown",
      "metadata": {
        "id": "bg8zxAhcecpk"
      },
      "source": [
        "The following code computes the $n=10000000$ term of the airthmetic series \n",
        "$$ S_n  = \\sum_{k=1}^n a_k$$\n",
        "\n",
        "<br /> \n",
        "for the airthmetic sequence $a_k = 10 + 3 (k-1) $ for $k=1,2,\\ldots$\n",
        "\n",
        "<br /> \n",
        "$$ 10,13,16,19,21,\\ldots$$\n"
      ]
    },
    {
      "cell_type": "markdown",
      "metadata": {
        "id": "hg3ixQ3bZiVh"
      },
      "source": [
        "Plot"
      ]
    },
    {
      "cell_type": "code",
      "metadata": {
        "colab": {
          "base_uri": "https://localhost:8080/"
        },
        "id": "w8FP1XqSgnie",
        "outputId": "db0e6762-53fa-4ecd-84d7-02d04429e965"
      },
      "source": [
        "n = 10000000\n",
        "a = 10\n",
        "d = 3\n",
        "S_n = 0\n",
        "for i in range(1,n+1):  # range(n+19 goes form 1 to n\n",
        "  a_n = a + d * (i-1) \n",
        "  S_n = S_n + a_n\n",
        "print(S_n)"
      ],
      "execution_count": null,
      "outputs": [
        {
          "output_type": "stream",
          "name": "stdout",
          "text": [
            "150000085000000\n"
          ]
        }
      ]
    },
    {
      "cell_type": "code",
      "metadata": {
        "colab": {
          "base_uri": "https://localhost:8080/"
        },
        "id": "g_38RfB_hgg2",
        "outputId": "bb524c15-1852-4fe5-ed12-0c332af630c2"
      },
      "source": [
        "n*(2*a +d*(n-1))/2"
      ],
      "execution_count": null,
      "outputs": [
        {
          "output_type": "execute_result",
          "data": {
            "text/plain": [
              "150000085000000.0"
            ]
          },
          "metadata": {},
          "execution_count": 7
        }
      ]
    },
    {
      "cell_type": "code",
      "metadata": {
        "colab": {
          "base_uri": "https://localhost:8080/"
        },
        "id": "zS3qb_xE1u58",
        "outputId": "b747a407-3d96-408f-9f41-527c32c996c4"
      },
      "source": [
        "n*(a +a_n)/2"
      ],
      "execution_count": null,
      "outputs": [
        {
          "output_type": "execute_result",
          "data": {
            "text/plain": [
              "150000085000000.0"
            ]
          },
          "metadata": {},
          "execution_count": 8
        }
      ]
    },
    {
      "cell_type": "code",
      "metadata": {
        "colab": {
          "base_uri": "https://localhost:8080/",
          "height": 449
        },
        "id": "7qesKez70zub",
        "outputId": "f404f753-4cb1-48b1-fe5f-f56e3b4dda02"
      },
      "source": [
        "import matplotlib.pyplot as plt\n",
        "\n",
        "n = 20\n",
        "a = 10\n",
        "d = 3\n",
        "S_n = 0\n",
        "Serie_S_n=[]\n",
        "Sequence_a_n =[]\n",
        "for i in range(1,n+1):  # range(n+19 goes form 1 to n\n",
        "  a_n = a + d * (i-1) \n",
        "  S_n = S_n + a_n\n",
        "  Serie_S_n.append(S_n)\n",
        "  Sequence_a_n.append(a_n)\n",
        "\n",
        "plt.plot(Serie_S_n, color='black',label='Serie_S_n')\n",
        "plt.plot(Sequence_a_n, color='red',label='Sequence_a_n')\n",
        "plt.legend()"
      ],
      "execution_count": null,
      "outputs": [
        {
          "output_type": "execute_result",
          "data": {
            "text/plain": [
              "<matplotlib.legend.Legend at 0x7f6f40276d60>"
            ]
          },
          "metadata": {},
          "execution_count": 9
        },
        {
          "output_type": "display_data",
          "data": {
            "text/plain": [
              "<Figure size 640x480 with 1 Axes>"
            ],
            "image/png": "[encoded data removed]"
          },
          "metadata": {}
        }
      ]
    },
    {
      "cell_type": "markdown",
      "metadata": {
        "id": "r9qzONSlZq2q"
      },
      "source": [
        "## Your own example of arithmetic series "
      ]
    },
    {
      "cell_type": "markdown",
      "source": [
        "Example 1:\n",
        "Find the sum of arithmetic series {-5, 0, 5, 10, … } up to 30 terms"
      ],
      "metadata": {
        "id": "2F5D60eB87G1"
      }
    },
    {
      "cell_type": "code",
      "metadata": {
        "id": "SrJ_dPxS0pwP",
        "colab": {
          "base_uri": "https://localhost:8080/"
        },
        "outputId": "be310fa5-0161-483e-f276-a5cc5cad7bbd"
      },
      "source": [
        "n = 30\n",
        "a = -5\n",
        "d = 5-0\n",
        "S_n = 0\n",
        "for i in range(1,n+1):\n",
        "  a_n = (a+(i-1)*d)\n",
        "  S_n += a_n\n",
        "print(S_n)"
      ],
      "execution_count": null,
      "outputs": [
        {
          "output_type": "stream",
          "name": "stdout",
          "text": [
            "2025\n"
          ]
        }
      ]
    },
    {
      "cell_type": "code",
      "source": [
        "n*(2*a +d*(n-1))/2"
      ],
      "metadata": {
        "colab": {
          "base_uri": "https://localhost:8080/"
        },
        "id": "PvBmJC7EA5Gm",
        "outputId": "b65540de-ea81-4f7a-f60f-542cd5c6d045"
      },
      "execution_count": null,
      "outputs": [
        {
          "output_type": "execute_result",
          "data": {
            "text/plain": [
              "2025.0"
            ]
          },
          "metadata": {},
          "execution_count": 189
        }
      ]
    },
    {
      "cell_type": "code",
      "source": [
        "n*(a +a_n)/2"
      ],
      "metadata": {
        "colab": {
          "base_uri": "https://localhost:8080/"
        },
        "id": "ijtPFL0VBZmT",
        "outputId": "d3c9bdec-583a-4f4b-dc29-638816719247"
      },
      "execution_count": null,
      "outputs": [
        {
          "output_type": "execute_result",
          "data": {
            "text/plain": [
              "2025.0"
            ]
          },
          "metadata": {},
          "execution_count": 190
        }
      ]
    },
    {
      "cell_type": "code",
      "source": [
        "import matplotlib.pyplot as plt\n",
        "\n",
        "n = 30\n",
        "a = -5\n",
        "d = 5-0\n",
        "S_n = 0\n",
        "Serie_S_n = []\n",
        "Sequence_a_n = []\n",
        "for i in range(1,n+1):\n",
        "  a_n = (a+(i-1)*d)\n",
        "  S_n += a_n\n",
        "  Serie_S_n.append(S_n)\n",
        "  Sequence_a_n.append(a_n)\n",
        "\n",
        "plt.plot(Serie_S_n, color='black',label='Serie_S_n')\n",
        "plt.plot(Sequence_a_n, color='red',label='Sequence_a_n')\n",
        "plt.legend()"
      ],
      "metadata": {
        "colab": {
          "base_uri": "https://localhost:8080/",
          "height": 447
        },
        "id": "ZWXhAWMJBzni",
        "outputId": "ab714e8d-5bdf-4155-ea5b-4127328d0a24"
      },
      "execution_count": null,
      "outputs": [
        {
          "output_type": "execute_result",
          "data": {
            "text/plain": [
              "<matplotlib.legend.Legend at 0x7f6f203acb50>"
            ]
          },
          "metadata": {},
          "execution_count": 192
        },
        {
          "output_type": "display_data",
          "data": {
            "text/plain": [
              "<Figure size 640x480 with 1 Axes>"
            ],
            "image/png": "[encoded data removed]"
          },
          "metadata": {}
        }
      ]
    },
    {
      "cell_type": "markdown",
      "source": [
        "Example 2:\n",
        "Find the sum of arithmetic series {5, 9, 13, 17 … } up to 25 terms"
      ],
      "metadata": {
        "id": "uwIsVaXpDOvM"
      }
    },
    {
      "cell_type": "code",
      "source": [
        "n = 25\n",
        "a = 5\n",
        "d = 9-5\n",
        "S_n = 0\n",
        "for i in range(1,n+1):\n",
        "  a_n = (a+(i-1)*d)\n",
        "  S_n += a_n\n",
        "print(S_n)"
      ],
      "metadata": {
        "colab": {
          "base_uri": "https://localhost:8080/"
        },
        "id": "Gc9Y9zlwGJ8M",
        "outputId": "134381e0-f3bd-462d-afdd-22e4c8bdd7b3"
      },
      "execution_count": null,
      "outputs": [
        {
          "output_type": "stream",
          "name": "stdout",
          "text": [
            "1325\n"
          ]
        }
      ]
    },
    {
      "cell_type": "code",
      "source": [
        "n*(2*a +d*(n-1))/2"
      ],
      "metadata": {
        "colab": {
          "base_uri": "https://localhost:8080/"
        },
        "id": "sMB4DYOvGl7V",
        "outputId": "5c158ff3-d893-4f3f-d49d-3e2745642455"
      },
      "execution_count": null,
      "outputs": [
        {
          "output_type": "execute_result",
          "data": {
            "text/plain": [
              "1325.0"
            ]
          },
          "metadata": {},
          "execution_count": 61
        }
      ]
    },
    {
      "cell_type": "code",
      "source": [
        "n*(a +a_n)/2"
      ],
      "metadata": {
        "colab": {
          "base_uri": "https://localhost:8080/"
        },
        "id": "5wa0fNRsGnPl",
        "outputId": "6f4e905d-499a-4536-c7dd-b52b691ad52c"
      },
      "execution_count": null,
      "outputs": [
        {
          "output_type": "execute_result",
          "data": {
            "text/plain": [
              "1325.0"
            ]
          },
          "metadata": {},
          "execution_count": 62
        }
      ]
    },
    {
      "cell_type": "code",
      "source": [
        "import matplotlib.pyplot as plt\n",
        "\n",
        "n = 25\n",
        "a = 5\n",
        "d = 9-5\n",
        "S_n = 0\n",
        "Serie_S_n = []\n",
        "Sequence_a_n = []\n",
        "for i in range(1,n+1):\n",
        "  a_n = (a+(i-1)*d)\n",
        "  S_n += a_n\n",
        "  Serie_S_n.append(S_n)\n",
        "  Sequence_a_n.append(a_n)\n",
        "\n",
        "plt.plot(Serie_S_n, color='black',label='Serie_S_n')\n",
        "plt.plot(Sequence_a_n, color='red',label='Sequence_a_n')\n",
        "plt.legend()"
      ],
      "metadata": {
        "colab": {
          "base_uri": "https://localhost:8080/",
          "height": 447
        },
        "id": "MeD1GonsGpH-",
        "outputId": "2544ac83-6457-4838-e49a-3db4f527359e"
      },
      "execution_count": null,
      "outputs": [
        {
          "output_type": "execute_result",
          "data": {
            "text/plain": [
              "<matplotlib.legend.Legend at 0x7f6f20f316d0>"
            ]
          },
          "metadata": {},
          "execution_count": 63
        },
        {
          "output_type": "display_data",
          "data": {
            "text/plain": [
              "<Figure size 640x480 with 1 Axes>"
            ],
            "image/png": "[encoded data removed]"
          },
          "metadata": {}
        }
      ]
    },
    {
      "cell_type": "markdown",
      "metadata": {
        "id": "AKWJ1F7hac8T"
      },
      "source": [
        "# Geometric Series\n",
        "\n",
        "## Modified from Geometric Series -  [Wolfram MathWorld](https://mathworld.wolfram.com/GeometricSeries.html) - [wikipedia](https://en.wikipedia.org/wiki/Geometric_series)\n"
      ]
    },
    {
      "cell_type": "markdown",
      "metadata": {
        "id": "W5zx_-nR81GI"
      },
      "source": [
        "An geometric series is the sum of a sequence $\\{a_k\\}$ for $k=1, 2, ..., $ in which each term is computed from the previous one by adding (or subtracting) a constant $d$. \n",
        "\n",
        "\\begin{align*}\n",
        "a_0 &\\ \\ =\\ \\ r^0 \\ \\ =\\ \\ 1\\\\\n",
        "a_1 &\\ \\ =\\ \\ a_0 *  r \\ \\ =\\ \\  r\\\\\n",
        "a_2 &\\ \\ =\\ \\ a_1 * r\\ \\ =\\ \\ a_0 * r^2  \\ \\ =\\ \\ r^2 \\\\\n",
        "a_3 &\\ \\ =\\ \\ a_2 * r \\ \\ =\\ \\ a_0 * r^3 \\ \\ =\\ \\  r^3  \\\\\n",
        "a_4 &\\ \\ =\\ \\ a_3 * r\\ \\  =\\ \\ a_0 * r^4 \\ \\  =\\ \\ r^4  \\\\\n",
        "\\vdots\\\\\n",
        "a_k &\\ \\ =\\ \\ a_{(k-1)}* r \\ =\\   a_0 * r^k \\ \\  =\\ \\  r^k\n",
        "\\end{align*}\n",
        "\n",
        "The sum of the first $n$ terms  of  the geometric sequence (called an geometric serie)  is then given by\n",
        "$$\n",
        "\\begin{array}{ll}\n",
        "S_n &=  1 + r + r^2 + \\cdots + r^{n-1} +r^n \\\\\n",
        " &=  (1 + r + r^2 + \\cdots + r^{n-1} ) +r^n \\\\\n",
        " &= S_{n-1}  +r^n \n",
        "\\end{array}\n",
        "$$\n",
        "\n",
        "$$\n",
        "\\begin{array}{ll}\n",
        "S_n &=  1 + r + r^2 + \\cdots + r^{n-1} +r^n \\\\\n",
        " &=  1 + (r + r^2 + \\cdots + r^{n-1}  +r^n)  \\\\\n",
        " &=   1 + r (1 +  r  + r^2 + \\cdots + r^{n-1} )  \\\\\n",
        "  &=   1 + r   S_{n-1} \n",
        "\\end{array}\n",
        "$$\n",
        "\n",
        "Then\n",
        "$$\n",
        " S_{n-1}  +r^n =   1 + r   S_{n-1} \n",
        "$$\n",
        "\n",
        "Therefore\n",
        "$$\n",
        " S_{n-1} (1 -r)   +r^n =   1 - r^n \n",
        "$$\n",
        "\n",
        "$$\n",
        " S_{n-1}   =   \\frac{1 - r^n }{1 -r}\n",
        "$$\n",
        "\n",
        "$$\n",
        " S_{n}   =   \\frac{1 - r^{n+1} }{1 -r}  = \\frac{ r^{n+1} - 1}{r -1}\n",
        "$$\n"
      ]
    },
    {
      "cell_type": "markdown",
      "metadata": {
        "id": "CDUYfT8k8crr"
      },
      "source": [
        "## Nodes in Complete Binary Tree with $L=0,1,2,\\cdots , L-1$ levels \n",
        "\n",
        "![](https://raw.githubusercontent.com/gjhernandezp/algorithms/master/Lab7/ComBinTree.png)\n",
        "\n",
        "In a complete binary tree you have in ecah level $k =0,1,2,\\cdots $  $ 2^k $\n",
        "\n",
        "$$\n",
        "\\begin{array}{ll}\n",
        "\\text {Level } 0 \\rightarrow 2^0 = 1 \\text { node (root)} \\\\\n",
        "\\text {Level } 1 \\rightarrow 2^1 = 2 \\text { nodes} \\\\\n",
        "\\text {Level } 2 \\rightarrow 2^2 = 4 \\text { nodes} \\\\\n",
        "\\text {Level } 3 \\rightarrow 2^3 = 8 \\text { nodes} \\\\\n",
        "\\vdots\\\\\n",
        "\\text {Level } k \\rightarrow 2^k  \\text { nodes} \\\\\n",
        "\\end{array}\n",
        "$$\n",
        "\n",
        "nodes, with $l = 0,1,2, ... $ the level\n",
        "\n",
        "Total number of the complte tree with $L=0,1,2,\\cdots , L-1$ levels\n",
        "\n",
        "$$ \n",
        "2^0 + 2^1 + 2^2 + \\cdots +2^{L-1}  = 1 + 2 + 4 + \\cdots +2^{L-1} = \\sum_{k=0}^{L-1} 2^k = \\frac{ 2^{L} - 1}{2 -1} = 2^{L} - 1\n",
        "$$"
      ]
    },
    {
      "cell_type": "markdown",
      "metadata": {
        "id": "YiWlrhLZNMX9"
      },
      "source": [
        "### Code"
      ]
    },
    {
      "cell_type": "code",
      "metadata": {
        "id": "YvMkYU8UNOll",
        "colab": {
          "base_uri": "https://localhost:8080/",
          "height": 462
        },
        "outputId": "b96d9202-fe61-464a-f622-89ae275474a5"
      },
      "source": [
        "import matplotlib.pyplot as plt\n",
        "\n",
        "a = 1\n",
        "r = 5\n",
        "n = 10\n",
        "S_n = 0\n",
        "Serie_S_n = []\n",
        "Sequence_a_n = []\n",
        "\n",
        "for k in range(0, n + 1):\n",
        "  S_n = S_n + r**k\n",
        "  Serie_S_n.append(S_n)\n",
        "  Sequence_a_n.append(a * r ** (k - 1))\n",
        "\n",
        "plt.plot(Serie_S_n, color='black',label='Serie_S_n')\n",
        "plt.plot(Sequence_a_n, color='red',label='Sequence_a_n')\n",
        "plt.legend()"
      ],
      "execution_count": null,
      "outputs": [
        {
          "output_type": "execute_result",
          "data": {
            "text/plain": [
              "<matplotlib.legend.Legend at 0x7f6f20eb32e0>"
            ]
          },
          "metadata": {},
          "execution_count": 64
        },
        {
          "output_type": "display_data",
          "data": {
            "text/plain": [
              "<Figure size 640x480 with 1 Axes>"
            ],
            "image/png": "[encoded data removed]"
          },
          "metadata": {}
        }
      ]
    },
    {
      "cell_type": "markdown",
      "metadata": {
        "id": "Dd3RWDwJe2xD"
      },
      "source": [
        "## Zenon Arrow\n",
        "\n",
        "![](https://raw.githubusercontent.com/gjhernandezp/algorithms/master/Lab7/zeno-paradox-arrow.png)\n",
        "\n",
        "https://leseditionsdeschavonnes.com/2018/10/15/the-paradox-of-achilles-and-the-tortoise/\n",
        "\n",
        "\n",
        "\n",
        "$$ \n",
        "\\lim_{n\\rightarrow \\infty} \\left\\{\\left(\\frac{1}{2}\\right)^0 + \\left(\\frac{1}{2}\\right)^1 +\\left(\\frac{1}{2}\\right)^2 + \\cdots +\\left(\\frac{1}{2}\\right)^{n} \\right\\} = \\lim_{n\\rightarrow \\infty} \\left\\{ 1 +\\frac{1}{2} + \\frac{1}{4} + \\frac{1}{8} + \\cdots +\\frac{1}{2^{n}}\\right\\}  = \\lim_{n\\rightarrow \\infty} \\sum_{k=0}^{n} \\left(\\frac{1}{2}\\right)^k = \\lim_{n\\rightarrow \\infty} \\frac{ 1- \\left(\\frac{1}{2}\\right)^n  }{1 - \\left(\\frac{1}{2}\\right) } = \\frac{ 1}{1 - \\left(\\frac{1}{2}\\right)} = 2\n",
        "$$"
      ]
    },
    {
      "cell_type": "markdown",
      "metadata": {
        "id": "R-J4EekBNPkd"
      },
      "source": [
        "### Code"
      ]
    },
    {
      "cell_type": "code",
      "metadata": {
        "id": "8xdBovY3NEW_",
        "colab": {
          "base_uri": "https://localhost:8080/",
          "height": 447
        },
        "outputId": "ff2eb169-c86f-43f3-c8f1-6abadf67d3ef"
      },
      "source": [
        "import matplotlib.pyplot as plt\n",
        "\n",
        "n = 100 \n",
        "S_n = 0\n",
        "Serie_S_n = []\n",
        "Sequence_a_n = []\n",
        "\n",
        "for k in range(0, n):\n",
        "  S_n = S_n + (1/2)**(k)\n",
        "  Serie_S_n.append(S_n)\n",
        "  Sequence_a_n.append(k)\n",
        "\n",
        "plt.plot(Serie_S_n, color='black',label='Serie_S_n')\n",
        "plt.plot(Sequence_a_n, color='red',label='Sequence_a_n')\n",
        "plt.legend()"
      ],
      "execution_count": null,
      "outputs": [
        {
          "output_type": "execute_result",
          "data": {
            "text/plain": [
              "<matplotlib.legend.Legend at 0x7f6f2108c2e0>"
            ]
          },
          "metadata": {},
          "execution_count": 49
        },
        {
          "output_type": "display_data",
          "data": {
            "text/plain": [
              "<Figure size 640x480 with 1 Axes>"
            ],
            "image/png": "[encoded data removed]"
          },
          "metadata": {}
        }
      ]
    },
    {
      "cell_type": "markdown",
      "source": [
        "## Your own example of geometric series "
      ],
      "metadata": {
        "id": "OocGKdBvIUyO"
      }
    },
    {
      "cell_type": "markdown",
      "source": [
        "Example 1:\n",
        "$$aₙ = 2 * 5^{(n-1)}$$\n",
        "$$\\{2, 10, 50, 250, \\dots\\}$$"
      ],
      "metadata": {
        "id": "jzjeFFihLTLR"
      }
    },
    {
      "cell_type": "code",
      "source": [
        "n = 10\n",
        "#First term\n",
        "a = 2\n",
        "#Common ratio\n",
        "r = 5\n",
        "\n",
        "for i in range(n-1):\n",
        "  a *= r\n",
        "\n",
        "print(a)"
      ],
      "metadata": {
        "colab": {
          "base_uri": "https://localhost:8080/"
        },
        "id": "KXaJlYaVIZO1",
        "outputId": "772cc3ae-5976-4a49-e730-3924d9c6e379"
      },
      "execution_count": null,
      "outputs": [
        {
          "output_type": "stream",
          "name": "stdout",
          "text": [
            "3906250\n"
          ]
        }
      ]
    },
    {
      "cell_type": "code",
      "source": [
        "#First term\n",
        "a = 2\n",
        "#Common ratio\n",
        "r = 5\n",
        "a*(r**(n-1))"
      ],
      "metadata": {
        "colab": {
          "base_uri": "https://localhost:8080/"
        },
        "id": "8fA-eJWuKB8t",
        "outputId": "f1416701-d8ac-4caa-9c81-bd59de4ee748"
      },
      "execution_count": null,
      "outputs": [
        {
          "output_type": "execute_result",
          "data": {
            "text/plain": [
              "3906250"
            ]
          },
          "metadata": {},
          "execution_count": 157
        }
      ]
    },
    {
      "cell_type": "code",
      "source": [
        "n = 10\n",
        "#First term\n",
        "a = 2\n",
        "#Common ratio\n",
        "r = 5\n",
        "S_n = 2\n",
        "\n",
        "for i in range(n-1):\n",
        "  a *= r\n",
        "  S_n += a\n",
        "\n",
        "print(S_n)"
      ],
      "metadata": {
        "colab": {
          "base_uri": "https://localhost:8080/"
        },
        "id": "WCgTzpLOKnXq",
        "outputId": "cd096f7c-7307-49e9-c09e-aa9fefcc661f"
      },
      "execution_count": null,
      "outputs": [
        {
          "output_type": "stream",
          "name": "stdout",
          "text": [
            "4882812\n"
          ]
        }
      ]
    },
    {
      "cell_type": "code",
      "source": [
        "n = 10\n",
        "#First term\n",
        "a = 2\n",
        "#Common ratio\n",
        "r = 5\n",
        "(a*((r**n)-1))/(r-1)"
      ],
      "metadata": {
        "colab": {
          "base_uri": "https://localhost:8080/"
        },
        "id": "1brPBB-pKs3K",
        "outputId": "5ade7c01-fba8-403e-880a-12a84c5bd33e"
      },
      "execution_count": null,
      "outputs": [
        {
          "output_type": "execute_result",
          "data": {
            "text/plain": [
              "4882812.0"
            ]
          },
          "metadata": {},
          "execution_count": 168
        }
      ]
    },
    {
      "cell_type": "code",
      "source": [
        "import matplotlib.pyplot as plt\n",
        "\n",
        "n = 10\n",
        "#First term\n",
        "a = 2\n",
        "#Common ratio\n",
        "r = 5\n",
        "S_n = 2\n",
        "Serie_S_n = [a]\n",
        "Sequence_a_n = [a]\n",
        "\n",
        "for k in range(0, n-1):\n",
        "  a *= r\n",
        "  S_n += a\n",
        "  Serie_S_n.append(S_n)\n",
        "  Sequence_a_n.append(a)\n",
        "\n",
        "plt.plot(Serie_S_n, color='black',label='Serie_S_n')\n",
        "plt.plot(Sequence_a_n, color='red',label='Sequence_a_n')\n",
        "plt.legend()"
      ],
      "metadata": {
        "colab": {
          "base_uri": "https://localhost:8080/",
          "height": 462
        },
        "id": "KV2-hWEUK5XL",
        "outputId": "1b15ad6c-8038-4ec2-ead2-2c62f26f1201"
      },
      "execution_count": null,
      "outputs": [
        {
          "output_type": "execute_result",
          "data": {
            "text/plain": [
              "<matplotlib.legend.Legend at 0x7f6f20626580>"
            ]
          },
          "metadata": {},
          "execution_count": 170
        },
        {
          "output_type": "display_data",
          "data": {
            "text/plain": [
              "<Figure size 640x480 with 1 Axes>"
            ],
            "image/png": "[encoded data removed]"
          },
          "metadata": {}
        }
      ]
    },
    {
      "cell_type": "markdown",
      "source": [
        "Example 2:\n",
        "$$aₙ = (-3) * (-4)^{(n-1)}$$\n",
        "$$\\{-3, 12, -48, 192, \\dots\\}$$"
      ],
      "metadata": {
        "id": "qELS1FWwMjEU"
      }
    },
    {
      "cell_type": "code",
      "source": [
        "n = 10\n",
        "#First term\n",
        "a = -3\n",
        "#Common ratio\n",
        "r = -4\n",
        "\n",
        "for i in range(n-1):\n",
        "  a *= r\n",
        "\n",
        "print(a)"
      ],
      "metadata": {
        "colab": {
          "base_uri": "https://localhost:8080/"
        },
        "id": "04n4u0nsM1G7",
        "outputId": "c83faa07-f1e7-45f8-9400-de28cce13e19"
      },
      "execution_count": null,
      "outputs": [
        {
          "output_type": "stream",
          "name": "stdout",
          "text": [
            "786432\n"
          ]
        }
      ]
    },
    {
      "cell_type": "code",
      "source": [
        "#First term\n",
        "a = -3\n",
        "#Common ratio\n",
        "r = -4\n",
        "a*(r**(n-1))"
      ],
      "metadata": {
        "colab": {
          "base_uri": "https://localhost:8080/"
        },
        "id": "nyBqGgLpM5m5",
        "outputId": "27120419-570b-468d-9e0d-ef86757d9b3a"
      },
      "execution_count": null,
      "outputs": [
        {
          "output_type": "execute_result",
          "data": {
            "text/plain": [
              "786432"
            ]
          },
          "metadata": {},
          "execution_count": 183
        }
      ]
    },
    {
      "cell_type": "code",
      "source": [
        "n = 10\n",
        "#First term\n",
        "a = -3\n",
        "#Common ratio\n",
        "r = -4\n",
        "S_n = -3\n",
        "\n",
        "for i in range(n-1):\n",
        "  a *= r\n",
        "  S_n += a\n",
        "\n",
        "print(S_n)"
      ],
      "metadata": {
        "colab": {
          "base_uri": "https://localhost:8080/"
        },
        "id": "U6Hdcq30M-SB",
        "outputId": "56e060b1-2f95-4066-db04-dd50485d0057"
      },
      "execution_count": null,
      "outputs": [
        {
          "output_type": "stream",
          "name": "stdout",
          "text": [
            "629145\n"
          ]
        }
      ]
    },
    {
      "cell_type": "code",
      "source": [
        "n = 10\n",
        "#First term\n",
        "a = -3\n",
        "#Common ratio\n",
        "r = -4\n",
        "(a*((r**n)-1))/(r-1)"
      ],
      "metadata": {
        "colab": {
          "base_uri": "https://localhost:8080/"
        },
        "id": "o0OsCVyoNGw5",
        "outputId": "28432f4e-8c20-4dfd-e1b0-83a7547b2421"
      },
      "execution_count": null,
      "outputs": [
        {
          "output_type": "execute_result",
          "data": {
            "text/plain": [
              "629145.0"
            ]
          },
          "metadata": {},
          "execution_count": 185
        }
      ]
    },
    {
      "cell_type": "code",
      "source": [
        "import matplotlib.pyplot as plt\n",
        "\n",
        "n = 10\n",
        "#First term\n",
        "a = -3\n",
        "#Common ratio\n",
        "r = -4\n",
        "S_n = -3\n",
        "Serie_S_n = [a]\n",
        "Sequence_a_n = [a]\n",
        "\n",
        "for k in range(0, n-1):\n",
        "  a *= r\n",
        "  S_n += a\n",
        "  Serie_S_n.append(S_n)\n",
        "  Sequence_a_n.append(a)\n",
        "\n",
        "plt.plot(Serie_S_n, color='black',label='Serie_S_n')\n",
        "plt.plot(Sequence_a_n, color='red',label='Sequence_a_n')\n",
        "plt.legend()"
      ],
      "metadata": {
        "colab": {
          "base_uri": "https://localhost:8080/",
          "height": 447
        },
        "id": "5mV-iYRSNQ9x",
        "outputId": "30f3086d-b66f-4ce5-878e-b5997dd2285a"
      },
      "execution_count": null,
      "outputs": [
        {
          "output_type": "execute_result",
          "data": {
            "text/plain": [
              "<matplotlib.legend.Legend at 0x7f6f2042d070>"
            ]
          },
          "metadata": {},
          "execution_count": 186
        },
        {
          "output_type": "display_data",
          "data": {
            "text/plain": [
              "<Figure size 640x480 with 1 Axes>"
            ],
            "image/png": "[encoded data removed]"
          },
          "metadata": {}
        }
      ]
    },
    {
      "cell_type": "markdown",
      "metadata": {
        "id": "dh2ntBeoNQlN"
      },
      "source": [
        "# Power Sums Power Sums - [Wolfram MathWorld](https://mathworld.wolfram.com/PowerSum.html) - [wikipedia](https://en.wikipedia.org/wiki/Sums_of_powers) - [reserachgate](https://www.researchgate.net/publication/331933608_The_Powers_Sums_Bernoulli_Numbers_Bernoulli_Polynomials_Rethinked)\n",
        "\n"
      ]
    },
    {
      "cell_type": "markdown",
      "source": [
        "There are two kinds of power sums commonly considered. The first is the sum of $p^{th}$ powers of a set of $n$ variables $x_k$\n",
        "\n",
        "\n",
        " $$ S_p(x_1,...,x_n)=\\sum_{k=1}^{n}x_k^p $$\n",
        "\n",
        "\n",
        "and the second is the special case $x_k=k$, i.e.,\n",
        "\n",
        "$$ S_p(n)=\\sum_{k=1}^{n}k^p. \t$$\n",
        "\n",
        "General power sums arise commonly in statistics. For example, $k$-statistics are most commonly defined in terms of power sums. Power sums are related to symmetric polynomials by the Newton-Girard formulas.\n",
        "\n",
        "The sum of $k$ times the $kth$ power of $x$ is given analytically by\n",
        "\n",
        "$$ \\sum_{k=0}^{n}kx^k=\\frac{x-(n+1)x^{n+1}+nx^{n+2}}{(x-1)^2} $$\n",
        "\n",
        "Other analytic sums include\n",
        "\n",
        "$$(\\sum_{k=0}^{\\infty} x^{k})^{p} = (1-x)^{-p}$$\n",
        "\n",
        "$$= \\frac{1}{(p-1)!} \\sum_{n=0}^{\\infty}(n+1)_{p-1}x^{n}$$\n",
        "\n",
        "for $|x|<1$, where $(n)_p$ is a Pochhammer symbol. The finite version has the elegant closed form\n",
        "\n",
        "$(\\sum_{k=0}^{\\infty} x^{k})^{p} = \\frac{1}{(p-1)!} \\sum_{k=0}^{np} \\frac{(n-|n-k|+p-1)!}{(n-|n-k|)!}x^{k}$\n",
        "\n",
        "for $p=1$ and 2. An additional sum is given by\n",
        "\n",
        "$$(\\sum_{n=0}^{\\infty} a_{n}x^{n})^{2} = \\sum_{n=0}^{\\infty} a_{n}^{2}x^{2n} + 2 \\sum_{n=1}^{\\infty}a_{i}a_{j}x^{n}$$\n",
        "\n",
        "An analytic solution for a sum of powers of integers is\n",
        "\n",
        "$$S_{p}(n) = \\sum_{k=1}^{n}k^{p} = H_{n}^{-p}$$\n",
        "\n",
        "Bernoulli used the property of the figurate number triangle that\n",
        "\n",
        "$$\\sum_{i=0}^{n}a_{ij} = \\frac{(n+1)a_{nj}}{j+1}$$\n",
        "\n",
        "along with a form for a_(nj) which he derived inductively to compute the sums up to n=10 (Boyer 1968, p. 85). For p in $Z>0$, the sum is given by\n",
        "\n",
        "$$\\sum_{k=1}^{n}k^{p} = \\frac{(B + n + 1)^{(p+1)}-B^{(p+1)}}{p+1}$$\n",
        "\n",
        "where the notation $B^k$ means the quantity in question is raised to the appropriate power k, and all terms of the form $B^m$ are replaced with the corresponding Bernoulli numbers $B_m$. Written explicitly in terms of a sum of powers,\n",
        "\n",
        "$$\\sum_{k=1}^{n} k^{p} = \\sum_{k=1}^{p+1}b_{pk}n^{k}$$\n",
        "\n",
        "where\n",
        "\n",
        "$$b_{pk} = \\frac{(-1)^{p-k+1}B_{p-k+1}p!}{k!(p-k+1)!}$$\n",
        "\n",
        "It is also true that the coefficients of the terms b_(pk) sum to 1,\n",
        "\n",
        "$$\\sum_{k=1}^{p+1}b_{pk}=1$$\n",
        "\n",
        "which Bernoulli stated without proof.\n",
        "\n",
        "A double series solution for $S_p(n)$ is given by\n",
        "\n",
        "$$S_{p}(n) = \\sum_{i=1}^{p} \\sum_{j=0}^{i-1}(-1)^{j} (i-j)^{p} \\binom{n+p-i+1}{n-i}\\binom{p+1}{j}$$\n"
      ],
      "metadata": {
        "id": "l5D0aNHa22BS"
      }
    },
    {
      "cell_type": "markdown",
      "source": [
        "# Example 1:"
      ],
      "metadata": {
        "id": "bl4ijwHW5L5_"
      }
    },
    {
      "cell_type": "code",
      "metadata": {
        "id": "2PyxzzOZVIdl",
        "colab": {
          "base_uri": "https://localhost:8080/",
          "height": 462
        },
        "outputId": "554283f5-8b85-4210-b22a-6945bf2ae277"
      },
      "source": [
        "import matplotlib.pyplot as plt\n",
        "\n",
        "n = 30\n",
        "S_n = 0\n",
        "Serie_S_n=[]\n",
        "Sequence_a_n =[]\n",
        "for i in range(1,n+1):\n",
        "  S_n = S_n + i**5\n",
        "  Serie_S_n.append(S_n)\n",
        "  Sequence_a_n.append(i)\n",
        " \n",
        "\n",
        "plt.plot(Serie_S_n, color='black',label='Serie_S_n')\n",
        "plt.plot(Sequence_a_n, color='red',label='Sequence_a_n')\n",
        "plt.legend()"
      ],
      "execution_count": 2,
      "outputs": [
        {
          "output_type": "execute_result",
          "data": {
            "text/plain": [
              "<matplotlib.legend.Legend at 0x7f76cc30edc0>"
            ]
          },
          "metadata": {},
          "execution_count": 2
        },
        {
          "output_type": "display_data",
          "data": {
            "text/plain": [
              "<Figure size 640x480 with 1 Axes>"
            ],
            "image/png": "[encoded data removed]"
          },
          "metadata": {}
        }
      ]
    },
    {
      "cell_type": "code",
      "source": [
        "Sequence_a_n"
      ],
      "metadata": {
        "colab": {
          "base_uri": "https://localhost:8080/"
        },
        "id": "w3yAWD1zJPBH",
        "outputId": "0bbcecdd-410f-4639-c723-15559ecaaaa4"
      },
      "execution_count": 4,
      "outputs": [
        {
          "output_type": "execute_result",
          "data": {
            "text/plain": [
              "[1,\n",
              " 2,\n",
              " 3,\n",
              " 4,\n",
              " 5,\n",
              " 6,\n",
              " 7,\n",
              " 8,\n",
              " 9,\n",
              " 10,\n",
              " 11,\n",
              " 12,\n",
              " 13,\n",
              " 14,\n",
              " 15,\n",
              " 16,\n",
              " 17,\n",
              " 18,\n",
              " 19,\n",
              " 20,\n",
              " 21,\n",
              " 22,\n",
              " 23,\n",
              " 24,\n",
              " 25,\n",
              " 26,\n",
              " 27,\n",
              " 28,\n",
              " 29,\n",
              " 30]"
            ]
          },
          "metadata": {},
          "execution_count": 4
        }
      ]
    },
    {
      "cell_type": "code",
      "source": [
        "Serie_S_n"
      ],
      "metadata": {
        "colab": {
          "base_uri": "https://localhost:8080/"
        },
        "id": "pW77J2HiJWvY",
        "outputId": "8318346b-38b3-467b-b797-80e688dd22bd"
      },
      "execution_count": 5,
      "outputs": [
        {
          "output_type": "execute_result",
          "data": {
            "text/plain": [
              "[1,\n",
              " 129,\n",
              " 2316,\n",
              " 18700,\n",
              " 96825,\n",
              " 376761,\n",
              " 1200304,\n",
              " 3297456,\n",
              " 8080425,\n",
              " 18080425,\n",
              " 37567596,\n",
              " 73399404,\n",
              " 136147921,\n",
              " 241561425,\n",
              " 412420800,\n",
              " 680856256,\n",
              " 1091194929,\n",
              " 1703414961,\n",
              " 2597286700,\n",
              " 3877286700,\n",
              " 5678375241,\n",
              " 8172733129,\n",
              " 11577558576,\n",
              " 16164030000,\n",
              " 22267545625,\n",
              " 30299355801,\n",
              " 40759709004,\n",
              " 54252637516,\n",
              " 71502513825,\n",
              " 93372513825]"
            ]
          },
          "metadata": {},
          "execution_count": 5
        }
      ]
    },
    {
      "cell_type": "markdown",
      "source": [
        "# Example 2:"
      ],
      "metadata": {
        "id": "UgA_prYX5NU-"
      }
    },
    {
      "cell_type": "code",
      "source": [
        "import matplotlib.pyplot as plt\n",
        "n = 150\n",
        "x = 2\n",
        "S_n = 0\n",
        "Serie_S_n=[]\n",
        "Sequence_a_n =[]\n",
        "for i in range(1,n+1):  \n",
        "  a_n = i*(x**i)\n",
        "  S_n = S_n + a_n\n",
        "  Serie_S_n.append(S_n)\n",
        "  Sequence_a_n.append(a_n)\n",
        "print(S_n)\n",
        "plt.plot(Serie_S_n, color='black',label='Serie_S_n')\n",
        "plt.plot(Sequence_a_n, color='red',label='Sequence_a_n')\n",
        "plt.legend()"
      ],
      "metadata": {
        "colab": {
          "base_uri": "https://localhost:8080/",
          "height": 480
        },
        "id": "qJdbNpS45DXY",
        "outputId": "f4192af1-04a9-42cc-a375-7582c6bb8e8c"
      },
      "execution_count": 12,
      "outputs": [
        {
          "output_type": "stream",
          "name": "stdout",
          "text": [
            "425319812426376044555369218895949550642058493954\n"
          ]
        },
        {
          "output_type": "execute_result",
          "data": {
            "text/plain": [
              "<matplotlib.legend.Legend at 0x7f76c47df940>"
            ]
          },
          "metadata": {},
          "execution_count": 12
        },
        {
          "output_type": "display_data",
          "data": {
            "text/plain": [
              "<Figure size 640x480 with 1 Axes>"
            ],
            "image/png": "[encoded data removed]"
          },
          "metadata": {}
        }
      ]
    },
    {
      "cell_type": "code",
      "source": [
        "Sequence_a_n"
      ],
      "metadata": {
        "colab": {
          "base_uri": "https://localhost:8080/"
        },
        "id": "6l4n3Oy9Jbv9",
        "outputId": "074db906-d854-428b-ee0a-dde8aca32947"
      },
      "execution_count": 13,
      "outputs": [
        {
          "output_type": "execute_result",
          "data": {
            "text/plain": [
              "[2,\n",
              " 8,\n",
              " 24,\n",
              " 64,\n",
              " 160,\n",
              " 384,\n",
              " 896,\n",
              " 2048,\n",
              " 4608,\n",
              " 10240,\n",
              " 22528,\n",
              " 49152,\n",
              " 106496,\n",
              " 229376,\n",
              " 491520,\n",
              " 1048576,\n",
              " 2228224,\n",
              " 4718592,\n",
              " 9961472,\n",
              " 20971520,\n",
              " 44040192,\n",
              " 92274688,\n",
              " 192937984,\n",
              " 402653184,\n",
              " 838860800,\n",
              " 1744830464,\n",
              " 3623878656,\n",
              " 7516192768,\n",
              " 15569256448,\n",
              " 32212254720,\n",
              " 66571993088,\n",
              " 137438953472,\n",
              " 283467841536,\n",
              " 584115552256,\n",
              " 1202590842880,\n",
              " 2473901162496,\n",
              " 5085241278464,\n",
              " 10445360463872,\n",
              " 21440476741632,\n",
              " 43980465111040,\n",
              " 90159953477632,\n",
              " 184717953466368,\n",
              " 378231999954944,\n",
              " 774056185954304,\n",
              " 1583296743997440,\n",
              " 3236962232172544,\n",
              " 6614661952700416,\n",
              " 13510798882111488,\n",
              " 27584547717644288,\n",
              " 56294995342131200,\n",
              " 114841790497947648,\n",
              " 234187180623265792,\n",
              " 477381560501272576,\n",
              " 972777519512027136,\n",
              " 1981583836043018240,\n",
              " 4035225266123964416,\n",
              " 8214565720323784704,\n",
              " 16717361816799281152,\n",
              " 34011184385901985792,\n",
              " 69175290276410818560,\n",
              " 140656423562035331072,\n",
              " 285924533142498050048,\n",
              " 581072438321850875904,\n",
              " 1180591620717411303424,\n",
              " 2398076729582241710080,\n",
              " 4869940435459321626624,\n",
              " 9887454823508319666176,\n",
              " 20070057552195992158208,\n",
              " 40730410914750689968128,\n",
              " 82641413450218791239680,\n",
              " 167644010141872405086208,\n",
              " 340010386766614455386112,\n",
              " 689465506498968201199616,\n",
              " 1397820478929414983254016,\n",
              " 2833419889721787128217600,\n",
              " 5742397643169488579854336,\n",
              " 11635911013790805806546944,\n",
              " 23574053482485268906770432,\n",
              " 47752569874777852400893952,\n",
              " 96714065569170333976494080,\n",
              " 195845982777569926302400512,\n",
              " 396527668833598369303625728,\n",
              " 802726744224113772004900864,\n",
              " 1624796301562061610805100544,\n",
              " 3288278229351791355200798720,\n",
              " 6653927711158918977582792704,\n",
              " 13462597927228510489527975936,\n",
              " 27234680864278366047780732928,\n",
              " 55088331748199422233011027968,\n",
              " 111414603535684224740921180160,\n",
              " 225305087149939210031640608768,\n",
              " 455561934457019941162877714432,\n",
              " 921027389228322924524948422656,\n",
              " 1861861819085211933448282832896,\n",
              " 3763337719427556035693337640960,\n",
              " 7605903601369376408980219232256,\n",
              " 15370263527767281493147526365184,\n",
              " 31057439705591620336669228531712,\n",
              " 62748704711297355374086808666112,\n",
              " 126765060022822940149670320537600,\n",
              " 256065421246102339102334047485952,\n",
              " 517201444893117595810654907793408,\n",
              " 1044544094588061026833283441229824,\n",
              " 2109370598779773724090514133745664,\n",
              " 4259306016766850789028922770063360,\n",
              " 8599741671948308259753634545270784,\n",
              " 17361742620725829882898847100829696,\n",
              " 35048003795110086492580850222235648,\n",
              " 70745044697537026438728012485623808,\n",
              " 142788163609707759784588649053552640,\n",
              " 288172475648682933383442546271715328,\n",
              " 581537248155900694395415588872650752,\n",
              " 1173459090028871044047892170403741696,\n",
              " 2367687367491881398609906326124363776,\n",
              " 4776913109852041418248056622882488320,\n",
              " 9636902969440640078552601187032498176,\n",
              " 19439959438354394641218178256600039424,\n",
              " 39212225875655018250662308278270164992,\n",
              " 79089065749202494437776520086680502272,\n",
              " 159507359494189904748456847233641349120,\n",
              " 321673174979949641242721308587843387392,\n",
              " 648663261943038945977057845416808153088,\n",
              " 1307960347852357218937346147315859062784,\n",
              " 2637188343637273091841153207596203638784,\n",
              " 5316911983139663491615228241121378304000,\n",
              " 10718894558009561599096300134100698660864,\n",
              " 21607930299479592429924287571917281427456,\n",
              " 43556142965880123323311949751266331066368,\n",
              " 87792850665602123573550648717396198555648,\n",
              " 176946830798888001000954795864519469957120,\n",
              " 356615920533143509709616588588493085605888,\n",
              " 718676358937022034834647170895894462595072,\n",
              " 1448241753615514100500122329229605507956736,\n",
              " 2918261578713968262661900633334844181446656,\n",
              " 5880079300393816648647113216420954693959680,\n",
              " 11847270886719393543940850332344442050052096,\n",
              " 23868766345302307581174948463693949424369664,\n",
              " 48085981834331656148936392525398029497270272,\n",
              " 96868861956117394271045776246816320291602432,\n",
              " 195131520487142952488437534885673163177328640,\n",
              " 393050634124102232869567034555427371542904832,\n",
              " 791676454547837121524517998679016833462304768,\n",
              " 1594503281694939554619803856494357847677599744,\n",
              " 3211307308588409732381143431261364056861179904,\n",
              " 6467216107573880711045358299068024836734320640,\n",
              " 13023635195941883914656859471226643119492562944,\n",
              " 26225676353472012814446004688634473131032969216,\n",
              " 52808164630120515599156580869631320046161625088,\n",
              " 106329953106594011138842304723987387660514623488,\n",
              " 214087153905893982158742895417424270457411993600]"
            ]
          },
          "metadata": {},
          "execution_count": 13
        }
      ]
    },
    {
      "cell_type": "code",
      "source": [
        "Serie_S_n"
      ],
      "metadata": {
        "colab": {
          "base_uri": "https://localhost:8080/"
        },
        "id": "ucOiVZAUJh8h",
        "outputId": "1b719754-4abd-4452-a06f-0891cd13a96c"
      },
      "execution_count": 14,
      "outputs": [
        {
          "output_type": "execute_result",
          "data": {
            "text/plain": [
              "[2,\n",
              " 10,\n",
              " 34,\n",
              " 98,\n",
              " 258,\n",
              " 642,\n",
              " 1538,\n",
              " 3586,\n",
              " 8194,\n",
              " 18434,\n",
              " 40962,\n",
              " 90114,\n",
              " 196610,\n",
              " 425986,\n",
              " 917506,\n",
              " 1966082,\n",
              " 4194306,\n",
              " 8912898,\n",
              " 18874370,\n",
              " 39845890,\n",
              " 83886082,\n",
              " 176160770,\n",
              " 369098754,\n",
              " 771751938,\n",
              " 1610612738,\n",
              " 3355443202,\n",
              " 6979321858,\n",
              " 14495514626,\n",
              " 30064771074,\n",
              " 62277025794,\n",
              " 128849018882,\n",
              " 266287972354,\n",
              " 549755813890,\n",
              " 1133871366146,\n",
              " 2336462209026,\n",
              " 4810363371522,\n",
              " 9895604649986,\n",
              " 20340965113858,\n",
              " 41781441855490,\n",
              " 85761906966530,\n",
              " 175921860444162,\n",
              " 360639813910530,\n",
              " 738871813865474,\n",
              " 1512927999819778,\n",
              " 3096224743817218,\n",
              " 6333186975989762,\n",
              " 12947848928690178,\n",
              " 26458647810801666,\n",
              " 54043195528445954,\n",
              " 110338190870577154,\n",
              " 225179981368524802,\n",
              " 459367161991790594,\n",
              " 936748722493063170,\n",
              " 1909526242005090306,\n",
              " 3891110078048108546,\n",
              " 7926335344172072962,\n",
              " 16140901064495857666,\n",
              " 32858262881295138818,\n",
              " 66869447267197124610,\n",
              " 136044737543607943170,\n",
              " 276701161105643274242,\n",
              " 562625694248141324290,\n",
              " 1143698132569992200194,\n",
              " 2324289753287403503618,\n",
              " 4722366482869645213698,\n",
              " 9592306918328966840322,\n",
              " 19479761741837286506498,\n",
              " 39549819294033278664706,\n",
              " 80280230208783968632834,\n",
              " 162921643659002759872514,\n",
              " 330565653800875164958722,\n",
              " 670576040567489620344834,\n",
              " 1360041547066457821544450,\n",
              " 2757862025995872804798466,\n",
              " 5591281915717659933016066,\n",
              " 11333679558887148512870402,\n",
              " 22969590572677954319417346,\n",
              " 46543644055163223226187778,\n",
              " 94296213929941075627081730,\n",
              " 191010279499111409603575810,\n",
              " 386856262276681335905976322,\n",
              " 783383931110279705209602050,\n",
              " 1586110675334393477214502914,\n",
              " 3210906976896455088019603458,\n",
              " 6499185206248246443220402178,\n",
              " 13153112917407165420803194882,\n",
              " 26615710844635675910331170818,\n",
              " 53850391708914041958111903746,\n",
              " 108938723457113464191122931714,\n",
              " 220353326992797688932044111874,\n",
              " 445658414142736898963684720642,\n",
              " 901220348599756840126562435074,\n",
              " 1822247737828079764651510857730,\n",
              " 3684109556913291698099793690626,\n",
              " 7447447276340847733793131331586,\n",
              " 15053350877710224142773350563842,\n",
              " 30423614405477505635920876929026,\n",
              " 61481054111069125972590105460738,\n",
              " 124229758822366481346676914126850,\n",
              " 250994818845189421496347234664450,\n",
              " 507060240091291760598681282150402,\n",
              " 1024261684984409356409336189943810,\n",
              " 2068805779572470383242619631173634,\n",
              " 4178176378352244107333133764919298,\n",
              " 8437482395119094896362056534982658,\n",
              " 17037224067067403156115691080253442,\n",
              " 34398966687793233039014538181083138,\n",
              " 69446970482903319531595388403318786,\n",
              " 140192015180440345970323400888942594,\n",
              " 282980178790148105754912049942495234,\n",
              " 571152654438831039138354596214210562,\n",
              " 1152689902594731733533770185086861314,\n",
              " 2326148992623602777581662355490603010,\n",
              " 4693836360115484176191568681614966786,\n",
              " 9470749469967525594439625304497455106,\n",
              " 19107652439408165672992226491529953282,\n",
              " 38547611877762560314210404748129992706,\n",
              " 77759837753417578564872713026400157698,\n",
              " 156848903502620073002649233113080659970,\n",
              " 316356262996809977751106080346722009090,\n",
              " 638029437976759618993827388934565396482,\n",
              " 1286692699919798564970885234351373549570,\n",
              " 2594653047772155783908231381667232612354,\n",
              " 5231841391409428875749384589263436251138,\n",
              " 10548753374549092367364612830384814555138,\n",
              " 21267647932558653966460912964485513216002,\n",
              " 42875578232038246396385200536402794643458,\n",
              " 86431721197918369719697150287669125709826,\n",
              " 174224571863520493293247799005065324265474,\n",
              " 351171402662408494294202594869584794222594,\n",
              " 707787323195552004003819183458077879828482,\n",
              " 1426463682132574038838466354353972342423554,\n",
              " 2874705435748088139338588683583577850380290,\n",
              " 5792967014462056402000489316918422031826946,\n",
              " 11673046314855873050647602533339376725786626,\n",
              " 23520317201575266594588452865683818775838722,\n",
              " 47389083546877574175763401329377768200208386,\n",
              " 95475065381209230324699793854775797697478658,\n",
              " 192343927337326624595745570101592117989081090,\n",
              " 387475447824469577084183104987265281166409730,\n",
              " 780526081948571809953750139542692652709314562,\n",
              " 1572202536496408931478268138221709486171619330,\n",
              " 3166705818191348486098071994716067333849219074,\n",
              " 6378013126779758218479215425977431390710398978,\n",
              " 12845229234353638929524573725045456227444719618,\n",
              " 25868864430295522844181433196272099346937282562,\n",
              " 52094540783767535658627437884906572477970251778,\n",
              " 104902705413888051257784018754537892524131876866,\n",
              " 211232658520482062396626323478525280184646500354,\n",
              " 425319812426376044555369218895949550642058493954]"
            ]
          },
          "metadata": {},
          "execution_count": 14
        }
      ]
    }
  ]
}