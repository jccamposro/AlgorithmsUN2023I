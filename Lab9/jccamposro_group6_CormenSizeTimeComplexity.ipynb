{
  "nbformat": 4,
  "nbformat_minor": 0,
  "metadata": {
    "colab": {
      "provenance": [],
      "include_colab_link": true
    },
    "kernelspec": {
      "name": "python3",
      "display_name": "Python 3"
    },
    "language_info": {
      "name": "python"
    }
  },
  "cells": [
    {
      "cell_type": "markdown",
      "metadata": {
        "id": "view-in-github",
        "colab_type": "text"
      },
      "source": [
        "<a href=\"https://colab.research.google.com/github/jccamposro/AlgorithmsUN2023I/blob/main/Lab9/jccamposro_group6_CormenSizeTimeComplexity.ipynb\" target=\"_parent\"><img src=\"https://colab.research.google.com/assets/colab-badge.svg\" alt=\"Open In Colab\"/></a>"
      ]
    },
    {
      "cell_type": "markdown",
      "metadata": {
        "id": "I5UAAxG2_CqQ"
      },
      "source": [
        "# 0.(1 microsecond by instruction)\n",
        "Asuuming that you can execute a million instructions $10^6$ every second, i.e. each instruction takes one microsecond $1\\mu s=10^{-6}$ seconds. If you have algorithms take $\\bf{ Time\\ Complexity}$ steps to solve a problem of size $n$ as specified in column one. What is the size of the largest problem that you can solve in the time specified in row one?\n",
        "\n",
        "$$\n",
        "\\begin{array}{|c|c|c|c|c|c|c|c|} \n",
        " \\hline\n",
        " \\bf{ Time\\ Complexity} & Second  & Minute  & Hour & Day & Year & Century & Milenium  \\\\ \n",
        "  \\hline\\\\ \n",
        "\\lg(n) & 10^{12} & 6 \\times 10^{13} & 3.6 \\times 10^{15} & 8.64 \\times 10^{16} & 3.1536 \\times 10^{18} & 3.1536 \\times 10^{20} & 3.1536 \\times 10^{23} \\\\ \n",
        "   \\hline\\\\ \n",
        "\\lg^2(n) & 10^{6} & 7.7 \\times 10^{6} & 3 \\times 10^{7} & 1.7 \\times 10^{8} & 5.6 \\times 10^{8} & 5.6 \\times 10^{9} & 5.6 \\times 10^{12} \\\\ \n",
        "   \\hline\\\\ \n",
        "\\sqrt{n} & 10^{12} & 3.6 \\times 10^{15} & 1.3 \\times 10^{19} & 7.46 \\times 10^{21} & 9.95 \\times 10^{24} & 9.95 \\times 10^{28} & 9.95 \\times 10^{35} \\\\ \n",
        " \\hline\n",
        " n & 10^6 & 6 \\times 10^{7} & 3.6 \\times 10^{9} & 8.64 \\times 10^{10} & 3.1536 \\times 10^{12} & 3.1536 \\times 10^{14} & 3.1536 \\times 10^{17} \\\\ \n",
        " \\hline\n",
        " n\\lg(n) & 62746 & 2.8 \\times 10^{6} & 1.27 \\times 10^{8} & 2.79 \\times 10^{9} & 1.03 \\times 10^{11} & 9.64 \\times 10^{12} & 1.07 \\times 10^{16} \\\\ \n",
        " \\hline\n",
        " n^2 & 1000 & 7745 & 60000 & 293938 & 5612385 & 56123889 & 561238899 \\\\ \n",
        " \\hline\n",
        " n^3 & 100 & 391 & 1532 & 4420 & 14641 & 146410 & 1464109 \\\\ \n",
        " \\hline\n",
        " n^4 & 31 & 92 & 213 & 398 & 757 & 1414 & 2511 \\\\ \n",
        " \\hline\n",
        "  2^n & 19 & 25 & 31 & 36 & 42 & 51 & 60 \\\\ \n",
        " \\hline\n",
        " n! & 9 & 11 & 12 & 13 & 15 & 16 & 18 \\\\ \n",
        " \\hline\n",
        " n^n & 2 & 2 & 2 & 2 & 2 & 2 & 2 \\\\ \n",
        " \\hline\n",
        "\\end{array}\n",
        "$$"
      ]
    },
    {
      "cell_type": "markdown",
      "metadata": {
        "id": "yCCsCOW2OQbQ"
      },
      "source": [
        "# 1.(10  nanoseconds by instruction)\n",
        "\n",
        "Asuuming that you can execute a 100 million instructions $100 \\times 10^6$ every second, i.e. each instrcution takes 10 nanoseconds, 10 $\\eta s  = 10^{-8} s $. If you have algorithms take $\\bf{ Time\\ Complexity}$ steps to solve a poblem of size $n$ as specified in column one. What is the size of the largest porblem that you can solve in the time specified in row one?\n",
        "$$\n",
        "\\begin{array}{|c|c|c|c|c|c|c|c|} \n",
        " \\hline\n",
        " \\bf{ Time\\ Complexity} & Second  & Minute  & Hour & Day & Year & Century & Milenium  \\\\ \n",
        "  \\hline\\\\ \n",
        "\\lg(n) & 10^{14} & 6 \\times 10^{15} & 3.6 \\times 10^{17} & 8.64 \\times 10^{18} & 3.1536 \\times 10^{20} & 3.1536 \\times 10^{22} & 3.1536 \\times 10^{25} \\\\ \n",
        "   \\hline\\\\ \n",
        "\\lg^2(n) & 10^{7} & 4.3 \\times 10^{7} & 1.9 \\times 10^{8} & 7.46 \\times 10^{8} & 2.59 \\times 10^{9} & 2.59 \\times 10^{10} & 2.59 \\times 10^{13} \\\\ \n",
        "   \\hline\\\\ \n",
        "\\sqrt{n} & 10^{16} & 2.59 \\times 10^{19} & 6.92 \\times 10^{22} & 7.46 \\times 10^{24} & 2.59 \\times 10^{27} & 2.59 \\times 10^{31} & 2.59 \\times 10^{38} \\\\ \n",
        " \\hline\n",
        " n & 10^8 & 6 \\times 10^{9} & 3.6 \\times 10^{11} & 8.64 \\times 10^{12} & 3.1536 \\times 10^{14} & 3.1536 \\times 10^{16} & 3.1536 \\times 10^{19} \\\\ \n",
        " \\hline\n",
        " n\\lg(n) & 2.53 \\times 10^{7} & 1.25 \\times 10^{9} & 6.04 \\times 10^{10} & 1.38 \\times 10^{12} & 4.63 \\times 10^{13} & 4.63 \\times 10^{15} & 5.16 \\times 10^{18} \\\\ \n",
        " \\hline\n",
        " n^2 & 3162 & 77459 & 1905249 & 29393846 & 561238898 & 5612388982 & 56123889820 \\\\ \n",
        " \\hline\n",
        " n^3 & 464 & 1532 & 5043 & 146410 & 1464109 & 14641097 & 146410970 \\\\ \n",
        " \\hline\n",
        " n^4 & 177 & 292 & 464 & 747 & 1135 & 1702 & 2511 \\\\ \n",
        " \\hline\n",
        "  2^n & 26 & 31 & 36 & 41 & 47 & 55 & 63 \\\\ \n",
        " \\hline\n",
        " n! & 11 & 12 & 13 & 14 & 15 & 16 & 17\\\\ \n",
        " \\hline\n",
        " n^n & 3 & 3 & 3 & 3 & 3 & 3 & 3 \\\\ \n",
        " \\hline\n",
        "\\end{array}\n",
        "$$"
      ]
    },
    {
      "cell_type": "markdown",
      "metadata": {
        "id": "9fIs_70_DJWM"
      },
      "source": [
        "# 2.(2.5  nanoseconds by instruction)\n",
        "\n",
        "Asuuming that you can execute a 400 million instructions $400 \\times 10^6$ every second, i.e. each instrcution takes 2.5  nanoseconds, 2.5 $\\eta s  = 2.5 \\times 10^{-9} s$. If you have algorithms take $\\bf{ Time\\ Complexity}$ steps to solve a problem of size $n$ as specified in column one. What is the size of the largest problem that you can solve in the time specified in row one?\n",
        "$$\n",
        "\\begin{array}{|c|c|c|c|c|c|c|c|} \n",
        " \\hline\n",
        " \\bf{ Time\\ Complexity} & Second  & Minute  & Hour & Day & Year & Century & Mileniun  \\\\ \n",
        "  \\hline\\\\ \n",
        "\\lg(n) & 2^{2.5 × 10^{9}} &  2^{60 × 2.5 × 10^{9}} & 2^{3.6 × 2.5 × 10^{11}} & 2^{8.64 × 2.5 × 10^{13}} & 2^{3.1536 × 2.5×10^{16}} & 2^{3.1536 × 2.5×10^{18}} &  2^{3.1536 ×2.5×10^{21}}\\\\ \n",
        "   \\hline\\\\ \n",
        "\\lg^2(n) & 2^{50000}& 2^{ 387298 } & 2^{ 3000000 } & 2^{ 14696938 } & 2^{ 280784615 } & 2^{ 2807846150 } & 2^{ 88791891522 } \\\\ \n",
        "   \\hline\\\\ \n",
        "\\sqrt{n} & 6.25 × 10^{18} & 2.25 × 10^{22} & 8.1 × 10^{25} & 4.6656 × 10^{28} & 6.2157456 × 10^{33} & 6.2157456 × 10^{37} & 6.2157456 × 10^{43} \\\\ \n",
        " \\hline\n",
        " n & 2.5 × 10^{9} & 1.5 × 10^{11} & 9 × 10^{12} & 2.16 × 10^{14} & 7.884 × 10^{16} & 7.884 × 10^{18} & 7.884 × 10^{21} \\\\ \n",
        " \\hline\n",
        " n\\lg(n) &  9.4368799 × 10^{7}  &  4.66988019 × 10^{9}  & 2.38139247 × 10^{11} & 5.11627318 × 10^{12} & 1.5620432 × 10^{15} & 1.38456172 × 10^{17} & 1.18235944 × 10^{20} \\\\ \n",
        " \\hline\n",
        " n^2 &   50000 & 387298  & 3000000 & 14696938 & 280784615 & 2807846150 & 88791891522 \\\\ \n",
        " \\hline\n",
        "  n^3 &  1357  & 5313  & 20801 & 60000 & 428794 & 1990286 & 19902862 \\\\ \n",
        " \\hline\n",
        "  n^4 &  224  & 622  & 1732 & 3834 & 16757 & 52989 & 297980 \\\\ \n",
        " \\hline\n",
        "  2^n & 31   &  37 & 43 & 47  & 56 & 62 & 72  \\\\ \n",
        " \\hline\n",
        " n! &  12  &  14 & 15 & 16 & 18 & 20 & 22 \\\\ \n",
        " \\hline\n",
        " n^n &  9  &  10 & 12 & 12 & 14 & 15 & 17 \\\\ \n",
        " \\hline\n",
        "\\end{array}\n",
        "$$"
      ]
    },
    {
      "cell_type": "markdown",
      "metadata": {
        "id": "kwpTH36ZIyQJ"
      },
      "source": [
        "# 3. (1 nanosecond by instruction)\n",
        "\n",
        "Asuuming that you can execute a 1000 million instructions $10^9$ every second, i.e. each instrcution takes 1  nanosecond, 1 $\\eta s  = 10^{-9} s$. If you have algorithms take $\\bf{ Time\\ Complexity}$ steps to solve a problem of size $n$ as specified in column one. What is the size of the largest problem that you can solve in the time specified in row one?\n",
        "$$\n",
        "\\begin{array}{|c|c|c|c|c|c|c|c|} \n",
        " \\hline\n",
        " \\bf{ Time\\ Complexity} & Second  & Minute  & Hour & Day & Year & Century & Mileniun  \\\\ \n",
        "  \\hline\\\\ \n",
        "\\lg(n) &   2^{10^{9} }  &  2^{6 \\times 10^{10} } & 2^{3.6 \\times 10^{12}} &  2^{8.64 \\times 10^{13}}& 2^{3.1536 \\times 10^{16}} & 2^{3.1536 \\times 10^{18}} & 2^{3.1536 \\times 10^{21}} \\\\ \n",
        "   \\hline\\\\ \n",
        "\\lg^2(n) &   2^{10^{(9/2)}}  & 2^{10^5 \\times\\sqrt6}  & 2^{10^5 \\times\\sqrt6} & 2^{ 10^{13/2}\\times\\sqrt{8.64}  } & 2^{ 10^8\\times\\sqrt{3.1536} } & 2^{ 10^9\\times\\sqrt{3.1536} } &  2^{ 10^{10}\\times\\sqrt{31.536} } \\\\ \n",
        "   \\hline\\\\ \n",
        "\\sqrt{n} &  10^{18}  & 3.6 \\times10^{21}  & 1.296 \\times10^{25} & 7.15716 \\times10^{27}& 9.94519296 \\times10^{32} & 9.94519296  \\times10^{36} & 9.94519296 \\times10^{42}\\\\ \n",
        " \\hline\n",
        " n & 10^{9}    & 6 \\times 10^{10}   & 3.6 \\times 10^{12} & 8.64 \\times 10^{13} & 3.1536 \\times 10^{16} & 3.1536 \\times 10^{18} &  3.1536 \\times 10^{21}\\\\ \n",
        " \\hline\n",
        " n\\lg(n) &  39620077  & 1944470450  &  98574774544  & 2110372739876&  641136862352841 & 56665093434063120 &  48230089612197773312 \\\\ \n",
        " \\hline\n",
        " n^2 &  31623  & 244949  & 1897367 & 9295160 & 177583783 & 1775837830 &  56156922993 \\\\ \n",
        " \\hline\n",
        "  n^3 &  215 &  843 & 3302 &  9524  &  68067 & 315938 & 3159382 \\\\ \n",
        " \\hline\n",
        "  n^4 &  178  &  495  & 1377 & 3049 & 13326 & 42141  & 236975 \\\\ \n",
        " \\hline\n",
        "  2^n &  29  &  35 & 41 & 46 & 54 & 61 & 71 \\\\ \n",
        " \\hline\n",
        " n! &  12  & 13 &  15 & 16 & 18 & 20  &  22\\\\ \n",
        " \\hline\n",
        " n^n &  9  &  10 & 11 & 12 & 14 & 15 & 17 \\\\ \n",
        " \\hline\n",
        "\\end{array}\n",
        "$$\n"
      ]
    }
  ]
}